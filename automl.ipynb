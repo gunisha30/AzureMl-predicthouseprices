{
 "cells": [
  {
   "cell_type": "markdown",
   "metadata": {},
   "source": [
    "# Automated ML\n",
    "\n",
    "TODO: Import Dependencies. In the cell below, import all the dependencies that you will need to complete the project."
   ]
  },
  {
   "cell_type": "code",
   "execution_count": 1,
   "metadata": {
    "gather": {
     "logged": 1598423888013
    },
    "jupyter": {
     "outputs_hidden": false,
     "source_hidden": false
    },
    "nteract": {
     "transient": {
      "deleting": false
     }
    }
   },
   "outputs": [],
   "source": [
    "from azureml.core import Workspace, Experiment, Dataset\n",
    "from azureml.core.compute import ComputeTarget, AmlCompute\n",
    "from azureml.core.compute_target import ComputeTargetException\n",
    "from azureml.train.automl.utilities import get_primary_metrics\n",
    "from azureml.train.automl import AutoMLConfig\n",
    "from azureml.pipeline.steps import AutoMLStep\n",
    "from azureml.widgets import RunDetails\n",
    "import pickle\n",
    "from azureml.core.environment import Environment\n",
    "from azureml.core.model import InferenceConfig, Model\n",
    "from azureml.core.webservice.aci import AciWebservice\n",
    "from azureml.core.webservice import Webservice\n",
    "import os"
   ]
  },
  {
   "cell_type": "markdown",
   "metadata": {},
   "source": [
    "## Dataset\n",
    "\n",
    "### Overview\n",
    "\n",
    "Task- Prediction of house prices in King County (A regression problem)\n",
    "Data- Dataset has been taken from: https://www.kaggle.com/harlfoxem/housesalesprediction"
   ]
  },
  {
   "cell_type": "code",
   "execution_count": 3,
   "metadata": {
    "gather": {
     "logged": 1598423890461
    },
    "jupyter": {
     "outputs_hidden": false,
     "source_hidden": false
    },
    "nteract": {
     "transient": {
      "deleting": false
     }
    }
   },
   "outputs": [],
   "source": [
    "ws = Workspace.from_config()\n",
    "\n",
    "# choose a name for experiment\n",
    "experiment_name = 'exp1'\n",
    "\n",
    "experiment=Experiment(ws, experiment_name)"
   ]
  },
  {
   "cell_type": "code",
   "execution_count": 4,
   "metadata": {},
   "outputs": [],
   "source": [
    "try:\n",
    "    cluster = ComputeTarget(workspace=ws, name=\"compute11\")\n",
    "    print(\"Cluster exists\")\n",
    "except:\n",
    "    config = AmlCompute.provisioning_configuration(vm_size='STANDARD_D2_V2', max_nodes=4)\n",
    "    cluster = ComputeTarget.create(ws, \"compute11\", config)\n",
    "\n",
    "cluster.wait_for_completion()"
   ]
  },
  {
   "cell_type": "code",
   "execution_count": 5,
   "metadata": {},
   "outputs": [
    {
     "data": {
      "text/html": [
       "<div>\n",
       "<style scoped>\n",
       "    .dataframe tbody tr th:only-of-type {\n",
       "        vertical-align: middle;\n",
       "    }\n",
       "\n",
       "    .dataframe tbody tr th {\n",
       "        vertical-align: top;\n",
       "    }\n",
       "\n",
       "    .dataframe thead th {\n",
       "        text-align: right;\n",
       "    }\n",
       "</style>\n",
       "<table border=\"1\" class=\"dataframe\">\n",
       "  <thead>\n",
       "    <tr style=\"text-align: right;\">\n",
       "      <th></th>\n",
       "      <th>price</th>\n",
       "      <th>bedrooms</th>\n",
       "      <th>bathrooms</th>\n",
       "      <th>sqft_living</th>\n",
       "      <th>sqft_lot</th>\n",
       "      <th>floors</th>\n",
       "      <th>view</th>\n",
       "      <th>condition</th>\n",
       "      <th>grade</th>\n",
       "      <th>sqft_above</th>\n",
       "      <th>sqft_basement</th>\n",
       "      <th>lat</th>\n",
       "      <th>long</th>\n",
       "      <th>sqft_living15</th>\n",
       "      <th>sqft_lot15</th>\n",
       "    </tr>\n",
       "  </thead>\n",
       "  <tbody>\n",
       "    <tr>\n",
       "      <th>0</th>\n",
       "      <td>221900.0</td>\n",
       "      <td>3</td>\n",
       "      <td>1.00</td>\n",
       "      <td>1180</td>\n",
       "      <td>5650</td>\n",
       "      <td>1.0</td>\n",
       "      <td>0</td>\n",
       "      <td>3</td>\n",
       "      <td>7</td>\n",
       "      <td>1180</td>\n",
       "      <td>0</td>\n",
       "      <td>47.5112</td>\n",
       "      <td>-122.257</td>\n",
       "      <td>1340</td>\n",
       "      <td>5650</td>\n",
       "    </tr>\n",
       "    <tr>\n",
       "      <th>1</th>\n",
       "      <td>538000.0</td>\n",
       "      <td>3</td>\n",
       "      <td>2.25</td>\n",
       "      <td>2570</td>\n",
       "      <td>7242</td>\n",
       "      <td>2.0</td>\n",
       "      <td>0</td>\n",
       "      <td>3</td>\n",
       "      <td>7</td>\n",
       "      <td>2170</td>\n",
       "      <td>400</td>\n",
       "      <td>47.7210</td>\n",
       "      <td>-122.319</td>\n",
       "      <td>1690</td>\n",
       "      <td>7639</td>\n",
       "    </tr>\n",
       "    <tr>\n",
       "      <th>2</th>\n",
       "      <td>180000.0</td>\n",
       "      <td>2</td>\n",
       "      <td>1.00</td>\n",
       "      <td>770</td>\n",
       "      <td>10000</td>\n",
       "      <td>1.0</td>\n",
       "      <td>0</td>\n",
       "      <td>3</td>\n",
       "      <td>6</td>\n",
       "      <td>770</td>\n",
       "      <td>0</td>\n",
       "      <td>47.7379</td>\n",
       "      <td>-122.233</td>\n",
       "      <td>2720</td>\n",
       "      <td>8062</td>\n",
       "    </tr>\n",
       "    <tr>\n",
       "      <th>3</th>\n",
       "      <td>604000.0</td>\n",
       "      <td>4</td>\n",
       "      <td>3.00</td>\n",
       "      <td>1960</td>\n",
       "      <td>5000</td>\n",
       "      <td>1.0</td>\n",
       "      <td>0</td>\n",
       "      <td>5</td>\n",
       "      <td>7</td>\n",
       "      <td>1050</td>\n",
       "      <td>910</td>\n",
       "      <td>47.5208</td>\n",
       "      <td>-122.393</td>\n",
       "      <td>1360</td>\n",
       "      <td>5000</td>\n",
       "    </tr>\n",
       "    <tr>\n",
       "      <th>4</th>\n",
       "      <td>510000.0</td>\n",
       "      <td>3</td>\n",
       "      <td>2.00</td>\n",
       "      <td>1680</td>\n",
       "      <td>8080</td>\n",
       "      <td>1.0</td>\n",
       "      <td>0</td>\n",
       "      <td>3</td>\n",
       "      <td>8</td>\n",
       "      <td>1680</td>\n",
       "      <td>0</td>\n",
       "      <td>47.6168</td>\n",
       "      <td>-122.045</td>\n",
       "      <td>1800</td>\n",
       "      <td>7503</td>\n",
       "    </tr>\n",
       "  </tbody>\n",
       "</table>\n",
       "</div>"
      ],
      "text/plain": [
       "      price  bedrooms  bathrooms  sqft_living  sqft_lot  floors  view  \\\n",
       "0  221900.0         3       1.00         1180      5650     1.0     0   \n",
       "1  538000.0         3       2.25         2570      7242     2.0     0   \n",
       "2  180000.0         2       1.00          770     10000     1.0     0   \n",
       "3  604000.0         4       3.00         1960      5000     1.0     0   \n",
       "4  510000.0         3       2.00         1680      8080     1.0     0   \n",
       "\n",
       "   condition  grade  sqft_above  sqft_basement      lat     long  \\\n",
       "0          3      7        1180              0  47.5112 -122.257   \n",
       "1          3      7        2170            400  47.7210 -122.319   \n",
       "2          3      6         770              0  47.7379 -122.233   \n",
       "3          5      7        1050            910  47.5208 -122.393   \n",
       "4          3      8        1680              0  47.6168 -122.045   \n",
       "\n",
       "   sqft_living15  sqft_lot15  \n",
       "0           1340        5650  \n",
       "1           1690        7639  \n",
       "2           2720        8062  \n",
       "3           1360        5000  \n",
       "4           1800        7503  "
      ]
     },
     "execution_count": 5,
     "metadata": {},
     "output_type": "execute_result"
    }
   ],
   "source": [
    "train_data = Dataset.get_by_name(ws, name=\"housedata\")\n",
    "\n",
    "train_data.take(5).to_pandas_dataframe()"
   ]
  },
  {
   "cell_type": "markdown",
   "metadata": {},
   "source": [
    "## AutoML Configuration\n",
    "\n",
    "The task specified is regression according to the problem statement. Metric is accuracy as its a good way to evaluate the model. Cross validation helps to prevent overfitting of the model. Concurrent iterations has been set to 4 and its value has to be less than or equal to the number of nodes provided during creation of compute cluster."
   ]
  },
  {
   "cell_type": "code",
   "execution_count": 8,
   "metadata": {},
   "outputs": [],
   "source": [
    "automl_settings = {\n",
    "    \"experiment_timeout_minutes\": 30,\n",
    "    \"task\": \"regression\", \n",
    "    \"primary_metric\": \"normalized_root_mean_squared_error\",\n",
    "    \"training_data\": train_data,\n",
    "    \"label_column_name\": \"price\",\n",
    "    \"n_cross_validations\": 3,\n",
    "    \"enable_early_stopping\": True,\n",
    "    \"max_cores_per_iteration\": -1,\n",
    "    \"max_concurrent_iterations\": 4,\n",
    "    \"compute_target\": cluster\n",
    "}\n",
    "\n",
    "\n",
    "automl_config = AutoMLConfig(**automl_settings)"
   ]
  },
  {
   "cell_type": "code",
   "execution_count": 9,
   "metadata": {
    "gather": {
     "logged": 1598431107951
    },
    "jupyter": {
     "outputs_hidden": false,
     "source_hidden": false
    },
    "nteract": {
     "transient": {
      "deleting": false
     }
    }
   },
   "outputs": [
    {
     "name": "stdout",
     "output_type": "stream",
     "text": [
      "Running on remote.\n"
     ]
    }
   ],
   "source": [
    "# TODO: Submit your experiment\n",
    "remote_run = experiment.submit(automl_config)"
   ]
  },
  {
   "cell_type": "markdown",
   "metadata": {},
   "source": [
    "## Run Details\n",
    "\n",
    "OPTIONAL: Write about the different models trained and their performance. Why do you think some models did better than others?\n",
    "\n",
    "TODO: In the cell below, use the `RunDetails` widget to show the different experiments."
   ]
  },
  {
   "cell_type": "code",
   "execution_count": 10,
   "metadata": {
    "gather": {
     "logged": 1598431121770
    },
    "jupyter": {
     "outputs_hidden": false,
     "source_hidden": false
    },
    "nteract": {
     "transient": {
      "deleting": false
     }
    }
   },
   "outputs": [
    {
     "data": {
      "application/vnd.jupyter.widget-view+json": {
       "model_id": "1707d460eef847adb15032dbbf7a07b9",
       "version_major": 2,
       "version_minor": 0
      },
      "text/plain": [
       "_AutoMLWidget(widget_settings={'childWidgetDisplay': 'popup', 'send_telemetry': False, 'log_level': 'INFO', 's…"
      ]
     },
     "metadata": {},
     "output_type": "display_data"
    },
    {
     "data": {
      "application/aml.mini.widget.v1": "{\"status\": \"Completed\", \"workbench_run_details_uri\": \"https://ml.azure.com/experiments/exp1/runs/AutoML_b9d7d298-0956-4f81-8e0d-86aef7096950?wsid=/subscriptions/5a4ab2ba-6c51-4805-8155-58759ad589d8/resourcegroups/aml-quickstarts-138714/workspaces/quick-starts-ws-138714\", \"run_id\": \"AutoML_b9d7d298-0956-4f81-8e0d-86aef7096950\", \"run_properties\": {\"run_id\": \"AutoML_b9d7d298-0956-4f81-8e0d-86aef7096950\", \"created_utc\": \"2021-02-12T17:41:08.201298Z\", \"properties\": {\"num_iterations\": \"1000\", \"training_type\": \"TrainFull\", \"acquisition_function\": \"EI\", \"primary_metric\": \"normalized_root_mean_squared_error\", \"train_split\": \"0\", \"acquisition_parameter\": \"0\", \"num_cross_validation\": \"3\", \"target\": \"compute11\", \"AMLSettingsJsonString\": \"{\\\"path\\\":null,\\\"name\\\":\\\"exp1\\\",\\\"subscription_id\\\":\\\"5a4ab2ba-6c51-4805-8155-58759ad589d8\\\",\\\"resource_group\\\":\\\"aml-quickstarts-138714\\\",\\\"workspace_name\\\":\\\"quick-starts-ws-138714\\\",\\\"region\\\":\\\"southcentralus\\\",\\\"compute_target\\\":\\\"compute11\\\",\\\"spark_service\\\":null,\\\"azure_service\\\":\\\"remote\\\",\\\"many_models\\\":false,\\\"pipeline_fetch_max_batch_size\\\":1,\\\"iterations\\\":1000,\\\"primary_metric\\\":\\\"normalized_root_mean_squared_error\\\",\\\"task_type\\\":\\\"regression\\\",\\\"data_script\\\":null,\\\"validation_size\\\":0.0,\\\"n_cross_validations\\\":3,\\\"y_min\\\":null,\\\"y_max\\\":null,\\\"num_classes\\\":null,\\\"featurization\\\":\\\"auto\\\",\\\"_ignore_package_version_incompatibilities\\\":false,\\\"is_timeseries\\\":false,\\\"max_cores_per_iteration\\\":-1,\\\"max_concurrent_iterations\\\":4,\\\"iteration_timeout_minutes\\\":null,\\\"mem_in_mb\\\":null,\\\"enforce_time_on_windows\\\":false,\\\"experiment_timeout_minutes\\\":30,\\\"experiment_exit_score\\\":null,\\\"whitelist_models\\\":null,\\\"blacklist_algos\\\":[\\\"TensorFlowDNN\\\",\\\"TensorFlowLinearRegressor\\\"],\\\"supported_models\\\":[\\\"SGD\\\",\\\"LassoLars\\\",\\\"RandomForest\\\",\\\"ElasticNet\\\",\\\"LightGBM\\\",\\\"TensorFlowLinearRegressor\\\",\\\"FastLinearRegressor\\\",\\\"DecisionTree\\\",\\\"XGBoostRegressor\\\",\\\"OnlineGradientDescentRegressor\\\",\\\"KNN\\\",\\\"TensorFlowDNN\\\",\\\"GradientBoosting\\\",\\\"ExtremeRandomTrees\\\"],\\\"auto_blacklist\\\":true,\\\"blacklist_samples_reached\\\":false,\\\"exclude_nan_labels\\\":true,\\\"verbosity\\\":20,\\\"_debug_log\\\":\\\"azureml_automl.log\\\",\\\"show_warnings\\\":false,\\\"model_explainability\\\":true,\\\"service_url\\\":null,\\\"sdk_url\\\":null,\\\"sdk_packages\\\":null,\\\"enable_onnx_compatible_models\\\":false,\\\"enable_split_onnx_featurizer_estimator_models\\\":false,\\\"vm_type\\\":\\\"STANDARD_D2_V2\\\",\\\"telemetry_verbosity\\\":20,\\\"send_telemetry\\\":true,\\\"enable_dnn\\\":false,\\\"scenario\\\":\\\"SDK-1.13.0\\\",\\\"environment_label\\\":null,\\\"force_text_dnn\\\":false,\\\"enable_feature_sweeping\\\":true,\\\"enable_early_stopping\\\":true,\\\"early_stopping_n_iters\\\":10,\\\"metrics\\\":null,\\\"enable_ensembling\\\":true,\\\"enable_stack_ensembling\\\":true,\\\"ensemble_iterations\\\":15,\\\"enable_tf\\\":false,\\\"enable_subsampling\\\":null,\\\"subsample_seed\\\":null,\\\"enable_nimbusml\\\":false,\\\"enable_streaming\\\":false,\\\"force_streaming\\\":false,\\\"track_child_runs\\\":true,\\\"allowed_private_models\\\":[],\\\"label_column_name\\\":\\\"price\\\",\\\"weight_column_name\\\":null,\\\"cv_split_column_names\\\":null,\\\"enable_local_managed\\\":false,\\\"_local_managed_run_id\\\":null,\\\"cost_mode\\\":1,\\\"lag_length\\\":0,\\\"metric_operation\\\":\\\"minimize\\\",\\\"preprocess\\\":true}\", \"DataPrepJsonString\": \"{\\\\\\\"training_data\\\\\\\": \\\\\\\"{\\\\\\\\\\\\\\\"blocks\\\\\\\\\\\\\\\": [{\\\\\\\\\\\\\\\"id\\\\\\\\\\\\\\\": \\\\\\\\\\\\\\\"8516b795-e35e-4f2c-afd8-eff3a5f50a77\\\\\\\\\\\\\\\", \\\\\\\\\\\\\\\"type\\\\\\\\\\\\\\\": \\\\\\\\\\\\\\\"Microsoft.DPrep.GetDatastoreFilesBlock\\\\\\\\\\\\\\\", \\\\\\\\\\\\\\\"arguments\\\\\\\\\\\\\\\": {\\\\\\\\\\\\\\\"datastores\\\\\\\\\\\\\\\": [{\\\\\\\\\\\\\\\"datastoreName\\\\\\\\\\\\\\\": \\\\\\\\\\\\\\\"workspaceblobstore\\\\\\\\\\\\\\\", \\\\\\\\\\\\\\\"path\\\\\\\\\\\\\\\": \\\\\\\\\\\\\\\"UI/02-12-2021_053636_UTC/kc_house_data.csv\\\\\\\\\\\\\\\", \\\\\\\\\\\\\\\"resourceGroup\\\\\\\\\\\\\\\": \\\\\\\\\\\\\\\"aml-quickstarts-138714\\\\\\\\\\\\\\\", \\\\\\\\\\\\\\\"subscription\\\\\\\\\\\\\\\": \\\\\\\\\\\\\\\"5a4ab2ba-6c51-4805-8155-58759ad589d8\\\\\\\\\\\\\\\", \\\\\\\\\\\\\\\"workspaceName\\\\\\\\\\\\\\\": \\\\\\\\\\\\\\\"quick-starts-ws-138714\\\\\\\\\\\\\\\"}]}, \\\\\\\\\\\\\\\"localData\\\\\\\\\\\\\\\": {}, \\\\\\\\\\\\\\\"isEnabled\\\\\\\\\\\\\\\": true, \\\\\\\\\\\\\\\"name\\\\\\\\\\\\\\\": null, \\\\\\\\\\\\\\\"annotation\\\\\\\\\\\\\\\": null}, {\\\\\\\\\\\\\\\"id\\\\\\\\\\\\\\\": \\\\\\\\\\\\\\\"890a127b-7bbc-4c1e-a7e4-8e90430b052a\\\\\\\\\\\\\\\", \\\\\\\\\\\\\\\"type\\\\\\\\\\\\\\\": \\\\\\\\\\\\\\\"Microsoft.DPrep.ParseDelimitedBlock\\\\\\\\\\\\\\\", \\\\\\\\\\\\\\\"arguments\\\\\\\\\\\\\\\": {\\\\\\\\\\\\\\\"columnHeadersMode\\\\\\\\\\\\\\\": 1, \\\\\\\\\\\\\\\"fileEncoding\\\\\\\\\\\\\\\": 0, \\\\\\\\\\\\\\\"handleQuotedLineBreaks\\\\\\\\\\\\\\\": false, \\\\\\\\\\\\\\\"preview\\\\\\\\\\\\\\\": false, \\\\\\\\\\\\\\\"separator\\\\\\\\\\\\\\\": \\\\\\\\\\\\\\\",\\\\\\\\\\\\\\\", \\\\\\\\\\\\\\\"skipRows\\\\\\\\\\\\\\\": 0, \\\\\\\\\\\\\\\"skipRowsMode\\\\\\\\\\\\\\\": 0}, \\\\\\\\\\\\\\\"localData\\\\\\\\\\\\\\\": {}, \\\\\\\\\\\\\\\"isEnabled\\\\\\\\\\\\\\\": true, \\\\\\\\\\\\\\\"name\\\\\\\\\\\\\\\": null, \\\\\\\\\\\\\\\"annotation\\\\\\\\\\\\\\\": null}, {\\\\\\\\\\\\\\\"id\\\\\\\\\\\\\\\": \\\\\\\\\\\\\\\"fcbd57ec-624d-452c-94f4-3cd93ce8742a\\\\\\\\\\\\\\\", \\\\\\\\\\\\\\\"type\\\\\\\\\\\\\\\": \\\\\\\\\\\\\\\"Microsoft.DPrep.DropColumnsBlock\\\\\\\\\\\\\\\", \\\\\\\\\\\\\\\"arguments\\\\\\\\\\\\\\\": {\\\\\\\\\\\\\\\"columns\\\\\\\\\\\\\\\": {\\\\\\\\\\\\\\\"type\\\\\\\\\\\\\\\": 0, \\\\\\\\\\\\\\\"details\\\\\\\\\\\\\\\": {\\\\\\\\\\\\\\\"selectedColumns\\\\\\\\\\\\\\\": [\\\\\\\\\\\\\\\"Path\\\\\\\\\\\\\\\", \\\\\\\\\\\\\\\"id\\\\\\\\\\\\\\\", \\\\\\\\\\\\\\\"date\\\\\\\\\\\\\\\", \\\\\\\\\\\\\\\"waterfront\\\\\\\\\\\\\\\", \\\\\\\\\\\\\\\"yr_renovated\\\\\\\\\\\\\\\", \\\\\\\\\\\\\\\"yr_built\\\\\\\\\\\\\\\", \\\\\\\\\\\\\\\"zipcode\\\\\\\\\\\\\\\"]}}}, \\\\\\\\\\\\\\\"localData\\\\\\\\\\\\\\\": {}, \\\\\\\\\\\\\\\"isEnabled\\\\\\\\\\\\\\\": true, \\\\\\\\\\\\\\\"name\\\\\\\\\\\\\\\": null, \\\\\\\\\\\\\\\"annotation\\\\\\\\\\\\\\\": null}, {\\\\\\\\\\\\\\\"id\\\\\\\\\\\\\\\": \\\\\\\\\\\\\\\"b6375e9e-e99b-420b-89cd-9b6fd839232f\\\\\\\\\\\\\\\", \\\\\\\\\\\\\\\"type\\\\\\\\\\\\\\\": \\\\\\\\\\\\\\\"Microsoft.DPrep.SetColumnTypesBlock\\\\\\\\\\\\\\\", \\\\\\\\\\\\\\\"arguments\\\\\\\\\\\\\\\": {\\\\\\\\\\\\\\\"columnConversion\\\\\\\\\\\\\\\": [{\\\\\\\\\\\\\\\"column\\\\\\\\\\\\\\\": {\\\\\\\\\\\\\\\"type\\\\\\\\\\\\\\\": 2, \\\\\\\\\\\\\\\"details\\\\\\\\\\\\\\\": {\\\\\\\\\\\\\\\"selectedColumn\\\\\\\\\\\\\\\": \\\\\\\\\\\\\\\"Path\\\\\\\\\\\\\\\"}}, \\\\\\\\\\\\\\\"typeProperty\\\\\\\\\\\\\\\": 0}, {\\\\\\\\\\\\\\\"column\\\\\\\\\\\\\\\": {\\\\\\\\\\\\\\\"type\\\\\\\\\\\\\\\": 2, \\\\\\\\\\\\\\\"details\\\\\\\\\\\\\\\": {\\\\\\\\\\\\\\\"selectedColumn\\\\\\\\\\\\\\\": \\\\\\\\\\\\\\\"id\\\\\\\\\\\\\\\"}}, \\\\\\\\\\\\\\\"typeProperty\\\\\\\\\\\\\\\": 2}, {\\\\\\\\\\\\\\\"column\\\\\\\\\\\\\\\": {\\\\\\\\\\\\\\\"type\\\\\\\\\\\\\\\": 2, \\\\\\\\\\\\\\\"details\\\\\\\\\\\\\\\": {\\\\\\\\\\\\\\\"selectedColumn\\\\\\\\\\\\\\\": \\\\\\\\\\\\\\\"date\\\\\\\\\\\\\\\"}}, \\\\\\\\\\\\\\\"typeProperty\\\\\\\\\\\\\\\": 0}, {\\\\\\\\\\\\\\\"column\\\\\\\\\\\\\\\": {\\\\\\\\\\\\\\\"type\\\\\\\\\\\\\\\": 2, \\\\\\\\\\\\\\\"details\\\\\\\\\\\\\\\": {\\\\\\\\\\\\\\\"selectedColumn\\\\\\\\\\\\\\\": \\\\\\\\\\\\\\\"price\\\\\\\\\\\\\\\"}}, \\\\\\\\\\\\\\\"typeProperty\\\\\\\\\\\\\\\": 3}, {\\\\\\\\\\\\\\\"column\\\\\\\\\\\\\\\": {\\\\\\\\\\\\\\\"type\\\\\\\\\\\\\\\": 2, \\\\\\\\\\\\\\\"details\\\\\\\\\\\\\\\": {\\\\\\\\\\\\\\\"selectedColumn\\\\\\\\\\\\\\\": \\\\\\\\\\\\\\\"bedrooms\\\\\\\\\\\\\\\"}}, \\\\\\\\\\\\\\\"typeProperty\\\\\\\\\\\\\\\": 2}, {\\\\\\\\\\\\\\\"column\\\\\\\\\\\\\\\": {\\\\\\\\\\\\\\\"type\\\\\\\\\\\\\\\": 2, \\\\\\\\\\\\\\\"details\\\\\\\\\\\\\\\": {\\\\\\\\\\\\\\\"selectedColumn\\\\\\\\\\\\\\\": \\\\\\\\\\\\\\\"bathrooms\\\\\\\\\\\\\\\"}}, \\\\\\\\\\\\\\\"typeProperty\\\\\\\\\\\\\\\": 3}, {\\\\\\\\\\\\\\\"column\\\\\\\\\\\\\\\": {\\\\\\\\\\\\\\\"type\\\\\\\\\\\\\\\": 2, \\\\\\\\\\\\\\\"details\\\\\\\\\\\\\\\": {\\\\\\\\\\\\\\\"selectedColumn\\\\\\\\\\\\\\\": \\\\\\\\\\\\\\\"sqft_living\\\\\\\\\\\\\\\"}}, \\\\\\\\\\\\\\\"typeProperty\\\\\\\\\\\\\\\": 2}, {\\\\\\\\\\\\\\\"column\\\\\\\\\\\\\\\": {\\\\\\\\\\\\\\\"type\\\\\\\\\\\\\\\": 2, \\\\\\\\\\\\\\\"details\\\\\\\\\\\\\\\": {\\\\\\\\\\\\\\\"selectedColumn\\\\\\\\\\\\\\\": \\\\\\\\\\\\\\\"sqft_lot\\\\\\\\\\\\\\\"}}, \\\\\\\\\\\\\\\"typeProperty\\\\\\\\\\\\\\\": 2}, {\\\\\\\\\\\\\\\"column\\\\\\\\\\\\\\\": {\\\\\\\\\\\\\\\"type\\\\\\\\\\\\\\\": 2, \\\\\\\\\\\\\\\"details\\\\\\\\\\\\\\\": {\\\\\\\\\\\\\\\"selectedColumn\\\\\\\\\\\\\\\": \\\\\\\\\\\\\\\"floors\\\\\\\\\\\\\\\"}}, \\\\\\\\\\\\\\\"typeProperty\\\\\\\\\\\\\\\": 3}, {\\\\\\\\\\\\\\\"column\\\\\\\\\\\\\\\": {\\\\\\\\\\\\\\\"type\\\\\\\\\\\\\\\": 2, \\\\\\\\\\\\\\\"details\\\\\\\\\\\\\\\": {\\\\\\\\\\\\\\\"selectedColumn\\\\\\\\\\\\\\\": \\\\\\\\\\\\\\\"waterfront\\\\\\\\\\\\\\\"}}, \\\\\\\\\\\\\\\"typeProperty\\\\\\\\\\\\\\\": 2}, {\\\\\\\\\\\\\\\"column\\\\\\\\\\\\\\\": {\\\\\\\\\\\\\\\"type\\\\\\\\\\\\\\\": 2, \\\\\\\\\\\\\\\"details\\\\\\\\\\\\\\\": {\\\\\\\\\\\\\\\"selectedColumn\\\\\\\\\\\\\\\": \\\\\\\\\\\\\\\"view\\\\\\\\\\\\\\\"}}, \\\\\\\\\\\\\\\"typeProperty\\\\\\\\\\\\\\\": 2}, {\\\\\\\\\\\\\\\"column\\\\\\\\\\\\\\\": {\\\\\\\\\\\\\\\"type\\\\\\\\\\\\\\\": 2, \\\\\\\\\\\\\\\"details\\\\\\\\\\\\\\\": {\\\\\\\\\\\\\\\"selectedColumn\\\\\\\\\\\\\\\": \\\\\\\\\\\\\\\"condition\\\\\\\\\\\\\\\"}}, \\\\\\\\\\\\\\\"typeProperty\\\\\\\\\\\\\\\": 2}, {\\\\\\\\\\\\\\\"column\\\\\\\\\\\\\\\": {\\\\\\\\\\\\\\\"type\\\\\\\\\\\\\\\": 2, \\\\\\\\\\\\\\\"details\\\\\\\\\\\\\\\": {\\\\\\\\\\\\\\\"selectedColumn\\\\\\\\\\\\\\\": \\\\\\\\\\\\\\\"grade\\\\\\\\\\\\\\\"}}, \\\\\\\\\\\\\\\"typeProperty\\\\\\\\\\\\\\\": 2}, {\\\\\\\\\\\\\\\"column\\\\\\\\\\\\\\\": {\\\\\\\\\\\\\\\"type\\\\\\\\\\\\\\\": 2, \\\\\\\\\\\\\\\"details\\\\\\\\\\\\\\\": {\\\\\\\\\\\\\\\"selectedColumn\\\\\\\\\\\\\\\": \\\\\\\\\\\\\\\"sqft_above\\\\\\\\\\\\\\\"}}, \\\\\\\\\\\\\\\"typeProperty\\\\\\\\\\\\\\\": 2}, {\\\\\\\\\\\\\\\"column\\\\\\\\\\\\\\\": {\\\\\\\\\\\\\\\"type\\\\\\\\\\\\\\\": 2, \\\\\\\\\\\\\\\"details\\\\\\\\\\\\\\\": {\\\\\\\\\\\\\\\"selectedColumn\\\\\\\\\\\\\\\": \\\\\\\\\\\\\\\"sqft_basement\\\\\\\\\\\\\\\"}}, \\\\\\\\\\\\\\\"typeProperty\\\\\\\\\\\\\\\": 2}, {\\\\\\\\\\\\\\\"column\\\\\\\\\\\\\\\": {\\\\\\\\\\\\\\\"type\\\\\\\\\\\\\\\": 2, \\\\\\\\\\\\\\\"details\\\\\\\\\\\\\\\": {\\\\\\\\\\\\\\\"selectedColumn\\\\\\\\\\\\\\\": \\\\\\\\\\\\\\\"yr_built\\\\\\\\\\\\\\\"}}, \\\\\\\\\\\\\\\"typeProperty\\\\\\\\\\\\\\\": 2}, {\\\\\\\\\\\\\\\"column\\\\\\\\\\\\\\\": {\\\\\\\\\\\\\\\"type\\\\\\\\\\\\\\\": 2, \\\\\\\\\\\\\\\"details\\\\\\\\\\\\\\\": {\\\\\\\\\\\\\\\"selectedColumn\\\\\\\\\\\\\\\": \\\\\\\\\\\\\\\"yr_renovated\\\\\\\\\\\\\\\"}}, \\\\\\\\\\\\\\\"typeProperty\\\\\\\\\\\\\\\": 2}, {\\\\\\\\\\\\\\\"column\\\\\\\\\\\\\\\": {\\\\\\\\\\\\\\\"type\\\\\\\\\\\\\\\": 2, \\\\\\\\\\\\\\\"details\\\\\\\\\\\\\\\": {\\\\\\\\\\\\\\\"selectedColumn\\\\\\\\\\\\\\\": \\\\\\\\\\\\\\\"zipcode\\\\\\\\\\\\\\\"}}, \\\\\\\\\\\\\\\"typeProperty\\\\\\\\\\\\\\\": 2}, {\\\\\\\\\\\\\\\"column\\\\\\\\\\\\\\\": {\\\\\\\\\\\\\\\"type\\\\\\\\\\\\\\\": 2, \\\\\\\\\\\\\\\"details\\\\\\\\\\\\\\\": {\\\\\\\\\\\\\\\"selectedColumn\\\\\\\\\\\\\\\": \\\\\\\\\\\\\\\"lat\\\\\\\\\\\\\\\"}}, \\\\\\\\\\\\\\\"typeProperty\\\\\\\\\\\\\\\": 3}, {\\\\\\\\\\\\\\\"column\\\\\\\\\\\\\\\": {\\\\\\\\\\\\\\\"type\\\\\\\\\\\\\\\": 2, \\\\\\\\\\\\\\\"details\\\\\\\\\\\\\\\": {\\\\\\\\\\\\\\\"selectedColumn\\\\\\\\\\\\\\\": \\\\\\\\\\\\\\\"long\\\\\\\\\\\\\\\"}}, \\\\\\\\\\\\\\\"typeProperty\\\\\\\\\\\\\\\": 3}, {\\\\\\\\\\\\\\\"column\\\\\\\\\\\\\\\": {\\\\\\\\\\\\\\\"type\\\\\\\\\\\\\\\": 2, \\\\\\\\\\\\\\\"details\\\\\\\\\\\\\\\": {\\\\\\\\\\\\\\\"selectedColumn\\\\\\\\\\\\\\\": \\\\\\\\\\\\\\\"sqft_living15\\\\\\\\\\\\\\\"}}, \\\\\\\\\\\\\\\"typeProperty\\\\\\\\\\\\\\\": 2}, {\\\\\\\\\\\\\\\"column\\\\\\\\\\\\\\\": {\\\\\\\\\\\\\\\"type\\\\\\\\\\\\\\\": 2, \\\\\\\\\\\\\\\"details\\\\\\\\\\\\\\\": {\\\\\\\\\\\\\\\"selectedColumn\\\\\\\\\\\\\\\": \\\\\\\\\\\\\\\"sqft_lot15\\\\\\\\\\\\\\\"}}, \\\\\\\\\\\\\\\"typeProperty\\\\\\\\\\\\\\\": 2}]}, \\\\\\\\\\\\\\\"localData\\\\\\\\\\\\\\\": {}, \\\\\\\\\\\\\\\"isEnabled\\\\\\\\\\\\\\\": true, \\\\\\\\\\\\\\\"name\\\\\\\\\\\\\\\": null, \\\\\\\\\\\\\\\"annotation\\\\\\\\\\\\\\\": null}], \\\\\\\\\\\\\\\"inspectors\\\\\\\\\\\\\\\": [], \\\\\\\\\\\\\\\"meta\\\\\\\\\\\\\\\": {\\\\\\\\\\\\\\\"savedDatasetId\\\\\\\\\\\\\\\": \\\\\\\\\\\\\\\"7824299a-2aba-45aa-8ca2-20221851fe5a\\\\\\\\\\\\\\\", \\\\\\\\\\\\\\\"datasetType\\\\\\\\\\\\\\\": \\\\\\\\\\\\\\\"tabular\\\\\\\\\\\\\\\", \\\\\\\\\\\\\\\"subscriptionId\\\\\\\\\\\\\\\": \\\\\\\\\\\\\\\"5a4ab2ba-6c51-4805-8155-58759ad589d8\\\\\\\\\\\\\\\", \\\\\\\\\\\\\\\"workspaceId\\\\\\\\\\\\\\\": \\\\\\\\\\\\\\\"bac34b6c-3822-47e9-ad4c-8a2c85c069dc\\\\\\\\\\\\\\\", \\\\\\\\\\\\\\\"workspaceLocation\\\\\\\\\\\\\\\": \\\\\\\\\\\\\\\"southcentralus\\\\\\\\\\\\\\\"}}\\\\\\\", \\\\\\\"activities\\\\\\\": 0}\", \"EnableSubsampling\": null, \"runTemplate\": \"AutoML\", \"azureml.runsource\": \"automl\", \"display_task_type\": \"regression\", \"dependencies_versions\": \"{\\\"azureml-widgets\\\": \\\"1.20.0\\\", \\\"azureml-train\\\": \\\"1.20.0\\\", \\\"azureml-train-restclients-hyperdrive\\\": \\\"1.20.0\\\", \\\"azureml-train-core\\\": \\\"1.20.0\\\", \\\"azureml-train-automl\\\": \\\"1.20.0\\\", \\\"azureml-train-automl-runtime\\\": \\\"1.20.0\\\", \\\"azureml-train-automl-client\\\": \\\"1.20.0\\\", \\\"azureml-tensorboard\\\": \\\"1.20.0\\\", \\\"azureml-telemetry\\\": \\\"1.20.0\\\", \\\"azureml-sdk\\\": \\\"1.20.0\\\", \\\"azureml-samples\\\": \\\"0+unknown\\\", \\\"azureml-pipeline\\\": \\\"1.20.0\\\", \\\"azureml-pipeline-steps\\\": \\\"1.20.0\\\", \\\"azureml-pipeline-core\\\": \\\"1.20.0\\\", \\\"azureml-opendatasets\\\": \\\"1.20.0\\\", \\\"azureml-model-management-sdk\\\": \\\"1.0.1b6.post1\\\", \\\"azureml-mlflow\\\": \\\"1.20.0.post1\\\", \\\"azureml-interpret\\\": \\\"1.20.0\\\", \\\"azureml-explain-model\\\": \\\"1.20.0\\\", \\\"azureml-defaults\\\": \\\"1.20.0\\\", \\\"azureml-dataset-runtime\\\": \\\"1.20.0\\\", \\\"azureml-dataprep\\\": \\\"2.7.3\\\", \\\"azureml-dataprep-rslex\\\": \\\"1.5.0\\\", \\\"azureml-dataprep-native\\\": \\\"27.0.0\\\", \\\"azureml-datadrift\\\": \\\"1.20.0\\\", \\\"azureml-core\\\": \\\"1.20.0\\\", \\\"azureml-contrib-services\\\": \\\"1.20.0\\\", \\\"azureml-contrib-server\\\": \\\"1.20.0\\\", \\\"azureml-contrib-reinforcementlearning\\\": \\\"1.20.0\\\", \\\"azureml-contrib-pipeline-steps\\\": \\\"1.20.0\\\", \\\"azureml-contrib-notebook\\\": \\\"1.20.0\\\", \\\"azureml-contrib-interpret\\\": \\\"1.20.0\\\", \\\"azureml-contrib-gbdt\\\": \\\"1.20.0\\\", \\\"azureml-contrib-fairness\\\": \\\"1.20.0\\\", \\\"azureml-contrib-dataset\\\": \\\"1.20.0\\\", \\\"azureml-cli-common\\\": \\\"1.20.0\\\", \\\"azureml-automl-runtime\\\": \\\"1.20.0\\\", \\\"azureml-automl-core\\\": \\\"1.20.0\\\", \\\"azureml-accel-models\\\": \\\"1.20.0\\\"}\", \"_aml_system_scenario_identification\": \"Remote.Parent\", \"ClientType\": \"SDK\", \"environment_cpu_name\": \"AzureML-AutoML\", \"environment_cpu_label\": \"prod\", \"environment_gpu_name\": \"AzureML-AutoML-GPU\", \"environment_gpu_label\": \"prod\", \"root_attribution\": \"automl\", \"attribution\": \"AutoML\", \"Orchestrator\": \"AutoML\", \"CancelUri\": \"https://southcentralus.experiments.azureml.net/jasmine/v1.0/subscriptions/5a4ab2ba-6c51-4805-8155-58759ad589d8/resourceGroups/aml-quickstarts-138714/providers/Microsoft.MachineLearningServices/workspaces/quick-starts-ws-138714/experimentids/c38a01f3-2b2e-4c21-a977-db9291695f34/cancel/AutoML_b9d7d298-0956-4f81-8e0d-86aef7096950\", \"ClientSdkVersion\": \"1.21.0\", \"snapshotId\": \"00000000-0000-0000-0000-000000000000\", \"SetupRunId\": \"AutoML_b9d7d298-0956-4f81-8e0d-86aef7096950_setup\", \"SetupRunContainerId\": \"dcid.AutoML_b9d7d298-0956-4f81-8e0d-86aef7096950_setup\", \"FeaturizationRunJsonPath\": \"featurizer_container.json\", \"FeaturizationRunId\": \"AutoML_b9d7d298-0956-4f81-8e0d-86aef7096950_featurize\", \"ProblemInfoJsonString\": \"{\\\"dataset_num_categorical\\\": 0, \\\"is_sparse\\\": true, \\\"subsampling\\\": false, \\\"dataset_classes\\\": 4028, \\\"dataset_features\\\": 45, \\\"dataset_samples\\\": 21613, \\\"single_frequency_class_detected\\\": false}\", \"ModelExplainRunId\": \"AutoML_b9d7d298-0956-4f81-8e0d-86aef7096950_ModelExplain\"}, \"tags\": {\"model_explain_run\": \"best_run\", \"_aml_system_azureml.automlComponent\": \"AutoML\", \"pipeline_id\": \"\", \"score\": \"\", \"predicted_cost\": \"\", \"fit_time\": \"\", \"training_percent\": \"\", \"iteration\": \"\", \"run_preprocessor\": \"\", \"run_algorithm\": \"\", \"dynamic_whitelisting_iterations\": \"<25>;<30>;<35>;\", \"automl_best_child_run_id\": \"AutoML_b9d7d298-0956-4f81-8e0d-86aef7096950_36\", \"model_explain_best_run_child_id\": \"AutoML_b9d7d298-0956-4f81-8e0d-86aef7096950_36\"}, \"end_time_utc\": \"2021-02-12T18:07:27.836937Z\", \"status\": \"Completed\", \"log_files\": {}, \"log_groups\": [], \"run_duration\": \"0:26:19\"}, \"child_runs\": [{\"run_id\": \"AutoML_b9d7d298-0956-4f81-8e0d-86aef7096950_0\", \"run_number\": 5, \"metric\": null, \"status\": \"Completed\", \"run_type\": \"azureml.scriptrun\", \"training_percent\": \"100\", \"start_time\": \"2021-02-12T17:51:54.529808Z\", \"end_time\": \"2021-02-12T17:52:48.580433Z\", \"created_time\": \"2021-02-12T17:51:42.437469Z\", \"created_time_dt\": \"2021-02-12T17:51:42.437469Z\", \"duration\": \"0:01:06\", \"iteration\": \"0\", \"goal\": \"normalized_root_mean_squared_error_min\", \"run_name\": \"MaxAbsScaler, LightGBM\", \"run_properties\": \"copy=True\", \"primary_metric\": 0.01759472, \"best_metric\": 0.01759472}, {\"run_id\": \"AutoML_b9d7d298-0956-4f81-8e0d-86aef7096950_3\", \"run_number\": 6, \"metric\": null, \"status\": \"Completed\", \"run_type\": \"azureml.scriptrun\", \"training_percent\": \"100\", \"start_time\": \"2021-02-12T17:52:55.359679Z\", \"end_time\": \"2021-02-12T17:53:52.392934Z\", \"created_time\": \"2021-02-12T17:51:42.603096Z\", \"created_time_dt\": \"2021-02-12T17:51:42.603096Z\", \"duration\": \"0:02:09\", \"iteration\": \"3\", \"goal\": \"normalized_root_mean_squared_error_min\", \"run_name\": \"MaxAbsScaler, DecisionTree\", \"run_properties\": \"copy=True\", \"primary_metric\": 0.0298975, \"best_metric\": 0.01759472}, {\"run_id\": \"AutoML_b9d7d298-0956-4f81-8e0d-86aef7096950_2\", \"run_number\": 7, \"metric\": null, \"status\": \"Completed\", \"run_type\": \"azureml.scriptrun\", \"training_percent\": \"100\", \"start_time\": \"2021-02-12T17:53:54.128422Z\", \"end_time\": \"2021-02-12T17:54:52.282337Z\", \"created_time\": \"2021-02-12T17:51:42.628506Z\", \"created_time_dt\": \"2021-02-12T17:51:42.628506Z\", \"duration\": \"0:03:09\", \"iteration\": \"2\", \"goal\": \"normalized_root_mean_squared_error_min\", \"run_name\": \"StandardScalerWrapper, ElasticNet\", \"run_properties\": \"<azureml.automl.runtime.shared.model_wrappers.StandardScalerWrapper object at 0x7fd02bf8cdd8\", \"primary_metric\": 0.02647872, \"best_metric\": 0.01759472}, {\"run_id\": \"AutoML_b9d7d298-0956-4f81-8e0d-86aef7096950_1\", \"run_number\": 8, \"metric\": null, \"status\": \"Completed\", \"run_type\": \"azureml.scriptrun\", \"training_percent\": \"100\", \"start_time\": \"2021-02-12T17:54:53.049021Z\", \"end_time\": \"2021-02-12T17:55:52.786769Z\", \"created_time\": \"2021-02-12T17:51:42.624208Z\", \"created_time_dt\": \"2021-02-12T17:51:42.624208Z\", \"duration\": \"0:04:10\", \"iteration\": \"1\", \"goal\": \"normalized_root_mean_squared_error_min\", \"run_name\": \"MaxAbsScaler, XGBoostRegressor\", \"run_properties\": \"copy=True\", \"primary_metric\": 0.01937216, \"best_metric\": 0.01759472}, {\"run_id\": \"AutoML_b9d7d298-0956-4f81-8e0d-86aef7096950_4\", \"run_number\": 9, \"metric\": null, \"status\": \"Completed\", \"run_type\": \"azureml.scriptrun\", \"training_percent\": \"100\", \"start_time\": \"2021-02-12T17:54:52.386363Z\", \"end_time\": \"2021-02-12T17:58:28.922093Z\", \"created_time\": \"2021-02-12T17:52:50.721388Z\", \"created_time_dt\": \"2021-02-12T17:52:50.721388Z\", \"duration\": \"0:05:38\", \"iteration\": \"4\", \"goal\": \"normalized_root_mean_squared_error_min\", \"run_name\": \"MaxAbsScaler, ElasticNet\", \"run_properties\": \"copy=True\", \"primary_metric\": 0.02917974, \"best_metric\": 0.01759472}, {\"run_id\": \"AutoML_b9d7d298-0956-4f81-8e0d-86aef7096950_5\", \"run_number\": 10, \"metric\": null, \"status\": \"Completed\", \"run_type\": \"azureml.scriptrun\", \"training_percent\": \"100\", \"start_time\": \"2021-02-12T17:54:53.469569Z\", \"end_time\": \"2021-02-12T17:58:25.617927Z\", \"created_time\": \"2021-02-12T17:53:56.474791Z\", \"created_time_dt\": \"2021-02-12T17:53:56.474791Z\", \"duration\": \"0:04:29\", \"iteration\": \"5\", \"goal\": \"normalized_root_mean_squared_error_min\", \"run_name\": \"MaxAbsScaler, DecisionTree\", \"run_properties\": \"copy=True\", \"primary_metric\": 0.02799624, \"best_metric\": 0.01759472}, {\"run_id\": \"AutoML_b9d7d298-0956-4f81-8e0d-86aef7096950_6\", \"run_number\": 11, \"metric\": null, \"status\": \"Completed\", \"run_type\": \"azureml.scriptrun\", \"training_percent\": \"100\", \"start_time\": \"2021-02-12T17:55:09.085306Z\", \"end_time\": \"2021-02-12T17:58:32.980899Z\", \"created_time\": \"2021-02-12T17:54:55.773202Z\", \"created_time_dt\": \"2021-02-12T17:54:55.773202Z\", \"duration\": \"0:03:37\", \"iteration\": \"6\", \"goal\": \"normalized_root_mean_squared_error_min\", \"run_name\": \"MaxAbsScaler, DecisionTree\", \"run_properties\": \"copy=True\", \"primary_metric\": 0.02646707, \"best_metric\": 0.01759472}, {\"run_id\": \"AutoML_b9d7d298-0956-4f81-8e0d-86aef7096950_7\", \"run_number\": 12, \"metric\": null, \"status\": \"Completed\", \"run_type\": \"azureml.scriptrun\", \"training_percent\": \"100\", \"start_time\": \"2021-02-12T17:56:12.88262Z\", \"end_time\": \"2021-02-12T17:57:02.356683Z\", \"created_time\": \"2021-02-12T17:55:56.742582Z\", \"created_time_dt\": \"2021-02-12T17:55:56.742582Z\", \"duration\": \"0:01:05\", \"iteration\": \"7\", \"goal\": \"normalized_root_mean_squared_error_min\", \"run_name\": \"MaxAbsScaler, DecisionTree\", \"run_properties\": \"copy=True\", \"primary_metric\": 0.02849814, \"best_metric\": 0.01759472}, {\"run_id\": \"AutoML_b9d7d298-0956-4f81-8e0d-86aef7096950_8\", \"run_number\": 13, \"metric\": null, \"status\": \"Completed\", \"run_type\": \"azureml.scriptrun\", \"training_percent\": \"100\", \"start_time\": \"2021-02-12T17:57:18.988729Z\", \"end_time\": \"2021-02-12T17:58:07.892266Z\", \"created_time\": \"2021-02-12T17:57:06.658228Z\", \"created_time_dt\": \"2021-02-12T17:57:06.658228Z\", \"duration\": \"0:01:01\", \"iteration\": \"8\", \"goal\": \"normalized_root_mean_squared_error_min\", \"run_name\": \"MaxAbsScaler, DecisionTree\", \"run_properties\": \"copy=True\", \"primary_metric\": 0.03040285, \"best_metric\": 0.01759472}, {\"run_id\": \"AutoML_b9d7d298-0956-4f81-8e0d-86aef7096950_9\", \"run_number\": 14, \"metric\": null, \"status\": \"Completed\", \"run_type\": \"azureml.scriptrun\", \"training_percent\": \"100\", \"start_time\": \"2021-02-12T17:58:24.123198Z\", \"end_time\": \"2021-02-12T17:59:14.761413Z\", \"created_time\": \"2021-02-12T17:58:11.530978Z\", \"created_time_dt\": \"2021-02-12T17:58:11.530978Z\", \"duration\": \"0:01:03\", \"iteration\": \"9\", \"goal\": \"normalized_root_mean_squared_error_min\", \"run_name\": \"MaxAbsScaler, DecisionTree\", \"run_properties\": \"copy=True\", \"primary_metric\": 0.02636539, \"best_metric\": 0.01759472}, {\"run_id\": \"AutoML_b9d7d298-0956-4f81-8e0d-86aef7096950_10\", \"run_number\": 15, \"metric\": null, \"status\": \"Completed\", \"run_type\": \"azureml.scriptrun\", \"training_percent\": \"100\", \"start_time\": \"2021-02-12T17:58:44.839644Z\", \"end_time\": \"2021-02-12T17:59:34.114597Z\", \"created_time\": \"2021-02-12T17:58:29.024397Z\", \"created_time_dt\": \"2021-02-12T17:58:29.024397Z\", \"duration\": \"0:01:05\", \"iteration\": \"10\", \"goal\": \"normalized_root_mean_squared_error_min\", \"run_name\": \"MaxAbsScaler, DecisionTree\", \"run_properties\": \"copy=True\", \"primary_metric\": 0.02764472, \"best_metric\": 0.01759472}, {\"run_id\": \"AutoML_b9d7d298-0956-4f81-8e0d-86aef7096950_11\", \"run_number\": 16, \"metric\": null, \"status\": \"Completed\", \"run_type\": \"azureml.scriptrun\", \"training_percent\": \"100\", \"start_time\": \"2021-02-12T17:58:49.191437Z\", \"end_time\": \"2021-02-12T17:59:37.864222Z\", \"created_time\": \"2021-02-12T17:58:35.569375Z\", \"created_time_dt\": \"2021-02-12T17:58:35.569375Z\", \"duration\": \"0:01:02\", \"iteration\": \"11\", \"goal\": \"normalized_root_mean_squared_error_min\", \"run_name\": \"MaxAbsScaler, DecisionTree\", \"run_properties\": \"copy=True\", \"primary_metric\": 0.02555073, \"best_metric\": 0.01759472}, {\"run_id\": \"AutoML_b9d7d298-0956-4f81-8e0d-86aef7096950_12\", \"run_number\": 17, \"metric\": null, \"status\": \"Completed\", \"run_type\": \"azureml.scriptrun\", \"training_percent\": \"100\", \"start_time\": \"2021-02-12T17:58:56.869376Z\", \"end_time\": \"2021-02-12T17:59:49.01986Z\", \"created_time\": \"2021-02-12T17:58:43.189621Z\", \"created_time_dt\": \"2021-02-12T17:58:43.189621Z\", \"duration\": \"0:01:05\", \"iteration\": \"12\", \"goal\": \"normalized_root_mean_squared_error_min\", \"run_name\": \"MaxAbsScaler, DecisionTree\", \"run_properties\": \"copy=True\", \"primary_metric\": 0.03011949, \"best_metric\": 0.01759472}, {\"run_id\": \"AutoML_b9d7d298-0956-4f81-8e0d-86aef7096950_13\", \"run_number\": 18, \"metric\": null, \"status\": \"Completed\", \"run_type\": \"azureml.scriptrun\", \"training_percent\": \"100\", \"start_time\": \"2021-02-12T17:59:30.818315Z\", \"end_time\": \"2021-02-12T18:00:22.921134Z\", \"created_time\": \"2021-02-12T17:59:17.796666Z\", \"created_time_dt\": \"2021-02-12T17:59:17.796666Z\", \"duration\": \"0:01:05\", \"iteration\": \"13\", \"goal\": \"normalized_root_mean_squared_error_min\", \"run_name\": \"StandardScalerWrapper, DecisionTree\", \"run_properties\": \"<azureml.automl.runtime.shared.model_wrappers.StandardScalerWrapper object at 0x7f0edc6a3e80\", \"primary_metric\": 0.02923648, \"best_metric\": 0.01759472}, {\"run_id\": \"AutoML_b9d7d298-0956-4f81-8e0d-86aef7096950_14\", \"run_number\": 19, \"metric\": null, \"status\": \"Completed\", \"run_type\": \"azureml.scriptrun\", \"training_percent\": \"100\", \"start_time\": \"2021-02-12T17:59:48.596448Z\", \"end_time\": \"2021-02-12T18:00:36.366819Z\", \"created_time\": \"2021-02-12T17:59:37.174112Z\", \"created_time_dt\": \"2021-02-12T17:59:37.174112Z\", \"duration\": \"0:00:59\", \"iteration\": \"14\", \"goal\": \"normalized_root_mean_squared_error_min\", \"run_name\": \"MaxAbsScaler, DecisionTree\", \"run_properties\": \"copy=True\", \"primary_metric\": 0.03256822, \"best_metric\": 0.01759472}, {\"run_id\": \"AutoML_b9d7d298-0956-4f81-8e0d-86aef7096950_15\", \"run_number\": 20, \"metric\": null, \"status\": \"Completed\", \"run_type\": \"azureml.scriptrun\", \"training_percent\": \"100\", \"start_time\": \"2021-02-12T17:59:54.641528Z\", \"end_time\": \"2021-02-12T18:00:47.094515Z\", \"created_time\": \"2021-02-12T17:59:41.816493Z\", \"created_time_dt\": \"2021-02-12T17:59:41.816493Z\", \"duration\": \"0:01:05\", \"iteration\": \"15\", \"goal\": \"normalized_root_mean_squared_error_min\", \"run_name\": \"MaxAbsScaler, DecisionTree\", \"run_properties\": \"copy=True\", \"primary_metric\": 0.03139554, \"best_metric\": 0.01759472}, {\"run_id\": \"AutoML_b9d7d298-0956-4f81-8e0d-86aef7096950_16\", \"run_number\": 21, \"metric\": null, \"status\": \"Completed\", \"run_type\": \"azureml.scriptrun\", \"training_percent\": \"100\", \"start_time\": \"2021-02-12T18:00:05.126107Z\", \"end_time\": \"2021-02-12T18:00:57.478873Z\", \"created_time\": \"2021-02-12T17:59:51.872694Z\", \"created_time_dt\": \"2021-02-12T17:59:51.872694Z\", \"duration\": \"0:01:05\", \"iteration\": \"16\", \"goal\": \"normalized_root_mean_squared_error_min\", \"run_name\": \"MaxAbsScaler, SGD\", \"run_properties\": \"copy=True\", \"primary_metric\": 0.02906891, \"best_metric\": 0.01759472}, {\"run_id\": \"AutoML_b9d7d298-0956-4f81-8e0d-86aef7096950_17\", \"run_number\": 22, \"metric\": null, \"status\": \"Completed\", \"run_type\": \"azureml.scriptrun\", \"training_percent\": \"100\", \"start_time\": \"2021-02-12T18:00:38.39689Z\", \"end_time\": \"2021-02-12T18:01:33.441152Z\", \"created_time\": \"2021-02-12T18:00:26.012996Z\", \"created_time_dt\": \"2021-02-12T18:00:26.012996Z\", \"duration\": \"0:01:07\", \"iteration\": \"17\", \"goal\": \"normalized_root_mean_squared_error_min\", \"run_name\": \"MaxAbsScaler, DecisionTree\", \"run_properties\": \"copy=True\", \"primary_metric\": 0.02535151, \"best_metric\": 0.01759472}, {\"run_id\": \"AutoML_b9d7d298-0956-4f81-8e0d-86aef7096950_18\", \"run_number\": 23, \"metric\": null, \"status\": \"Completed\", \"run_type\": \"azureml.scriptrun\", \"training_percent\": \"100\", \"start_time\": \"2021-02-12T18:00:49.826422Z\", \"end_time\": \"2021-02-12T18:01:43.666183Z\", \"created_time\": \"2021-02-12T18:00:39.413259Z\", \"created_time_dt\": \"2021-02-12T18:00:39.413259Z\", \"duration\": \"0:01:04\", \"iteration\": \"18\", \"goal\": \"normalized_root_mean_squared_error_min\", \"run_name\": \"MaxAbsScaler, DecisionTree\", \"run_properties\": \"copy=True\", \"primary_metric\": 0.03174779, \"best_metric\": 0.01759472}, {\"run_id\": \"AutoML_b9d7d298-0956-4f81-8e0d-86aef7096950_19\", \"run_number\": 24, \"metric\": null, \"status\": \"Completed\", \"run_type\": \"azureml.scriptrun\", \"training_percent\": \"100\", \"start_time\": \"2021-02-12T18:01:01.880924Z\", \"end_time\": \"2021-02-12T18:01:47.677779Z\", \"created_time\": \"2021-02-12T18:00:50.288241Z\", \"created_time_dt\": \"2021-02-12T18:00:50.288241Z\", \"duration\": \"0:00:57\", \"iteration\": \"19\", \"goal\": \"normalized_root_mean_squared_error_min\", \"run_name\": \"MaxAbsScaler, DecisionTree\", \"run_properties\": \"copy=True\", \"primary_metric\": 0.03041566, \"best_metric\": 0.01759472}, {\"run_id\": \"AutoML_b9d7d298-0956-4f81-8e0d-86aef7096950_20\", \"run_number\": 25, \"metric\": null, \"status\": \"Completed\", \"run_type\": \"azureml.scriptrun\", \"training_percent\": \"100\", \"start_time\": \"2021-02-12T18:01:11.374351Z\", \"end_time\": \"2021-02-12T18:02:00.02921Z\", \"created_time\": \"2021-02-12T18:01:00.320162Z\", \"created_time_dt\": \"2021-02-12T18:01:00.320162Z\", \"duration\": \"0:00:59\", \"iteration\": \"20\", \"goal\": \"normalized_root_mean_squared_error_min\", \"run_name\": \"MaxAbsScaler, SGD\", \"run_properties\": \"copy=True\", \"primary_metric\": 0.02938223, \"best_metric\": 0.01759472}, {\"run_id\": \"AutoML_b9d7d298-0956-4f81-8e0d-86aef7096950_21\", \"run_number\": 26, \"metric\": null, \"status\": \"Completed\", \"run_type\": \"azureml.scriptrun\", \"training_percent\": \"100\", \"start_time\": \"2021-02-12T18:01:51.850819Z\", \"end_time\": \"2021-02-12T18:02:35.122164Z\", \"created_time\": \"2021-02-12T18:01:37.997645Z\", \"created_time_dt\": \"2021-02-12T18:01:37.997645Z\", \"duration\": \"0:00:57\", \"iteration\": \"21\", \"goal\": \"normalized_root_mean_squared_error_min\", \"run_name\": \"MaxAbsScaler, DecisionTree\", \"run_properties\": \"copy=True\", \"primary_metric\": 0.0287311, \"best_metric\": 0.01759472}, {\"run_id\": \"AutoML_b9d7d298-0956-4f81-8e0d-86aef7096950_22\", \"run_number\": 27, \"metric\": null, \"status\": \"Completed\", \"run_type\": \"azureml.scriptrun\", \"training_percent\": \"100\", \"start_time\": \"2021-02-12T18:02:02.477586Z\", \"end_time\": \"2021-02-12T18:02:48.312932Z\", \"created_time\": \"2021-02-12T18:01:48.029573Z\", \"created_time_dt\": \"2021-02-12T18:01:48.029573Z\", \"duration\": \"0:01:00\", \"iteration\": \"22\", \"goal\": \"normalized_root_mean_squared_error_min\", \"run_name\": \"MaxAbsScaler, DecisionTree\", \"run_properties\": \"copy=True\", \"primary_metric\": 0.02662677, \"best_metric\": 0.01759472}, {\"run_id\": \"AutoML_b9d7d298-0956-4f81-8e0d-86aef7096950_23\", \"run_number\": 28, \"metric\": null, \"status\": \"Completed\", \"run_type\": \"azureml.scriptrun\", \"training_percent\": \"100\", \"start_time\": \"2021-02-12T18:02:08.059419Z\", \"end_time\": \"2021-02-12T18:03:01.663957Z\", \"created_time\": \"2021-02-12T18:01:55.236871Z\", \"created_time_dt\": \"2021-02-12T18:01:55.236871Z\", \"duration\": \"0:01:06\", \"iteration\": \"23\", \"goal\": \"normalized_root_mean_squared_error_min\", \"run_name\": \"MaxAbsScaler, DecisionTree\", \"run_properties\": \"copy=True\", \"primary_metric\": 0.02728356, \"best_metric\": 0.01759472}, {\"run_id\": \"AutoML_b9d7d298-0956-4f81-8e0d-86aef7096950_24\", \"run_number\": 29, \"metric\": null, \"status\": \"Completed\", \"run_type\": \"azureml.scriptrun\", \"training_percent\": \"100\", \"start_time\": \"2021-02-12T18:02:15.277981Z\", \"end_time\": \"2021-02-12T18:03:04.49412Z\", \"created_time\": \"2021-02-12T18:02:02.997532Z\", \"created_time_dt\": \"2021-02-12T18:02:02.997532Z\", \"duration\": \"0:01:01\", \"iteration\": \"24\", \"goal\": \"normalized_root_mean_squared_error_min\", \"run_name\": \"MaxAbsScaler, DecisionTree\", \"run_properties\": \"copy=True\", \"primary_metric\": 0.02904517, \"best_metric\": 0.01759472}, {\"run_id\": \"AutoML_b9d7d298-0956-4f81-8e0d-86aef7096950_25\", \"run_number\": 30, \"metric\": null, \"status\": \"Completed\", \"run_type\": \"azureml.scriptrun\", \"training_percent\": \"100\", \"start_time\": \"2021-02-12T18:02:49.167703Z\", \"end_time\": \"2021-02-12T18:03:43.318754Z\", \"created_time\": \"2021-02-12T18:02:38.469677Z\", \"created_time_dt\": \"2021-02-12T18:02:38.469677Z\", \"duration\": \"0:01:04\", \"iteration\": \"25\", \"goal\": \"normalized_root_mean_squared_error_min\", \"run_name\": \"MaxAbsScaler, LightGBM\", \"run_properties\": \"copy=True\", \"primary_metric\": 0.02944215, \"best_metric\": 0.01759472}, {\"run_id\": \"AutoML_b9d7d298-0956-4f81-8e0d-86aef7096950_26\", \"run_number\": 31, \"metric\": null, \"status\": \"Completed\", \"run_type\": \"azureml.scriptrun\", \"training_percent\": \"100\", \"start_time\": \"2021-02-12T18:03:02.389896Z\", \"end_time\": \"2021-02-12T18:04:13.882233Z\", \"created_time\": \"2021-02-12T18:02:50.376837Z\", \"created_time_dt\": \"2021-02-12T18:02:50.376837Z\", \"duration\": \"0:01:23\", \"iteration\": \"26\", \"goal\": \"normalized_root_mean_squared_error_min\", \"run_name\": \"MaxAbsScaler, RandomForest\", \"run_properties\": \"copy=True\", \"primary_metric\": 0.02560077, \"best_metric\": 0.01759472}, {\"run_id\": \"AutoML_b9d7d298-0956-4f81-8e0d-86aef7096950_27\", \"run_number\": 32, \"metric\": null, \"status\": \"Completed\", \"run_type\": \"azureml.scriptrun\", \"training_percent\": \"100\", \"start_time\": \"2021-02-12T18:03:19.456929Z\", \"end_time\": \"2021-02-12T18:04:10.361534Z\", \"created_time\": \"2021-02-12T18:03:03.645993Z\", \"created_time_dt\": \"2021-02-12T18:03:03.645993Z\", \"duration\": \"0:01:06\", \"iteration\": \"27\", \"goal\": \"normalized_root_mean_squared_error_min\", \"run_name\": \"MaxAbsScaler, DecisionTree\", \"run_properties\": \"copy=True\", \"primary_metric\": 0.02686125, \"best_metric\": 0.01759472}, {\"run_id\": \"AutoML_b9d7d298-0956-4f81-8e0d-86aef7096950_28\", \"run_number\": 33, \"metric\": null, \"status\": \"Completed\", \"run_type\": \"azureml.scriptrun\", \"training_percent\": \"100\", \"start_time\": \"2021-02-12T18:03:17.060553Z\", \"end_time\": \"2021-02-12T18:04:07.939817Z\", \"created_time\": \"2021-02-12T18:03:07.143035Z\", \"created_time_dt\": \"2021-02-12T18:03:07.143035Z\", \"duration\": \"0:01:00\", \"iteration\": \"28\", \"goal\": \"normalized_root_mean_squared_error_min\", \"run_name\": \"MaxAbsScaler, DecisionTree\", \"run_properties\": \"copy=True\", \"primary_metric\": 0.02919459, \"best_metric\": 0.01759472}, {\"run_id\": \"AutoML_b9d7d298-0956-4f81-8e0d-86aef7096950_29\", \"run_number\": 34, \"metric\": null, \"status\": \"Completed\", \"run_type\": \"azureml.scriptrun\", \"training_percent\": \"100\", \"start_time\": \"2021-02-12T18:03:55.864765Z\", \"end_time\": \"2021-02-12T18:04:46.930169Z\", \"created_time\": \"2021-02-12T18:03:45.338515Z\", \"created_time_dt\": \"2021-02-12T18:03:45.338515Z\", \"duration\": \"0:01:01\", \"iteration\": \"29\", \"goal\": \"normalized_root_mean_squared_error_min\", \"run_name\": \"MaxAbsScaler, DecisionTree\", \"run_properties\": \"copy=True\", \"primary_metric\": 0.02984721, \"best_metric\": 0.01759472}, {\"run_id\": \"AutoML_b9d7d298-0956-4f81-8e0d-86aef7096950_30\", \"run_number\": 35, \"metric\": null, \"status\": \"Completed\", \"run_type\": \"azureml.scriptrun\", \"training_percent\": \"100\", \"start_time\": \"2021-02-12T18:04:23.855784Z\", \"end_time\": \"2021-02-12T18:05:17.475354Z\", \"created_time\": \"2021-02-12T18:04:12.621783Z\", \"created_time_dt\": \"2021-02-12T18:04:12.621783Z\", \"duration\": \"0:01:04\", \"iteration\": \"30\", \"goal\": \"normalized_root_mean_squared_error_min\", \"run_name\": \"MaxAbsScaler, LightGBM\", \"run_properties\": \"copy=True\", \"primary_metric\": 0.02871874, \"best_metric\": 0.01759472}, {\"run_id\": \"AutoML_b9d7d298-0956-4f81-8e0d-86aef7096950_31\", \"run_number\": 36, \"metric\": null, \"status\": \"Completed\", \"run_type\": \"azureml.scriptrun\", \"training_percent\": \"100\", \"start_time\": \"2021-02-12T18:04:27.030024Z\", \"end_time\": \"2021-02-12T18:05:11.689004Z\", \"created_time\": \"2021-02-12T18:04:16.375046Z\", \"created_time_dt\": \"2021-02-12T18:04:16.375046Z\", \"duration\": \"0:00:55\", \"iteration\": \"31\", \"goal\": \"normalized_root_mean_squared_error_min\", \"run_name\": \"MaxAbsScaler, DecisionTree\", \"run_properties\": \"copy=True\", \"primary_metric\": 0.02603932, \"best_metric\": 0.01759472}, {\"run_id\": \"AutoML_b9d7d298-0956-4f81-8e0d-86aef7096950_32\", \"run_number\": 37, \"metric\": null, \"status\": \"Completed\", \"run_type\": \"azureml.scriptrun\", \"training_percent\": \"100\", \"start_time\": \"2021-02-12T18:04:29.527349Z\", \"end_time\": \"2021-02-12T18:05:18.648005Z\", \"created_time\": \"2021-02-12T18:04:16.377748Z\", \"created_time_dt\": \"2021-02-12T18:04:16.377748Z\", \"duration\": \"0:01:02\", \"iteration\": \"32\", \"goal\": \"normalized_root_mean_squared_error_min\", \"run_name\": \"MaxAbsScaler, DecisionTree\", \"run_properties\": \"copy=True\", \"primary_metric\": 0.02705939, \"best_metric\": 0.01759472}, {\"run_id\": \"AutoML_b9d7d298-0956-4f81-8e0d-86aef7096950_33\", \"run_number\": 38, \"metric\": null, \"status\": \"Canceled\", \"run_type\": \"azureml.scriptrun\", \"training_percent\": \"100\", \"start_time\": \"2021-02-12T18:05:00.442864Z\", \"end_time\": \"2021-02-12T18:05:30.08368Z\", \"created_time\": \"2021-02-12T18:04:48.779167Z\", \"created_time_dt\": \"2021-02-12T18:04:48.779167Z\", \"duration\": \"0:00:41\", \"iteration\": \"33\", \"goal\": null, \"run_name\": \"MaxAbsScaler, GradientBoosting\", \"run_properties\": null}, {\"run_id\": \"AutoML_b9d7d298-0956-4f81-8e0d-86aef7096950_34\", \"run_number\": 39, \"metric\": null, \"status\": \"Canceled\", \"run_type\": \"azureml.scriptrun\", \"training_percent\": \"100\", \"start_time\": \"2021-02-12T18:05:13.757974Z\", \"end_time\": \"2021-02-12T18:05:30.915993Z\", \"created_time\": \"2021-02-12T18:05:13.757974Z\", \"created_time_dt\": \"2021-02-12T18:05:13.757974Z\", \"duration\": \"0:00:17\", \"iteration\": \"34\", \"goal\": null, \"run_name\": \"Canceled\", \"run_properties\": null}, {\"run_id\": \"AutoML_b9d7d298-0956-4f81-8e0d-86aef7096950_35\", \"run_number\": 40, \"metric\": null, \"status\": \"Canceled\", \"run_type\": \"azureml.scriptrun\", \"training_percent\": \"100\", \"start_time\": \"2021-02-12T18:05:20.299246Z\", \"end_time\": \"2021-02-12T18:05:38.484721Z\", \"created_time\": \"2021-02-12T18:05:20.299246Z\", \"created_time_dt\": \"2021-02-12T18:05:20.299246Z\", \"duration\": \"0:00:18\", \"iteration\": \"35\", \"goal\": null, \"run_name\": \"Canceled\", \"run_properties\": null}, {\"run_id\": \"AutoML_b9d7d298-0956-4f81-8e0d-86aef7096950_36\", \"run_number\": 41, \"metric\": null, \"status\": \"Completed\", \"run_type\": \"azureml.scriptrun\", \"training_percent\": \"100\", \"start_time\": \"2021-02-12T18:05:51.103458Z\", \"end_time\": \"2021-02-12T18:07:10.595868Z\", \"created_time\": \"2021-02-12T18:05:39.773632Z\", \"created_time_dt\": \"2021-02-12T18:05:39.773632Z\", \"duration\": \"0:01:30\", \"iteration\": \"36\", \"goal\": \"normalized_root_mean_squared_error_min\", \"run_name\": \"VotingEnsemble\", \"run_properties\": \"estimators=[('0',\\n                                          Pipeline(memory=None,\\n                                                   steps=[('maxabsscaler',\\n                                                           MaxAbsScaler(copy=True\", \"primary_metric\": 0.0175438, \"best_metric\": 0.0175438}, {\"run_id\": \"AutoML_b9d7d298-0956-4f81-8e0d-86aef7096950_37\", \"run_number\": 42, \"metric\": null, \"status\": \"Completed\", \"run_type\": \"azureml.scriptrun\", \"training_percent\": \"100\", \"start_time\": \"2021-02-12T18:05:51.354654Z\", \"end_time\": \"2021-02-12T18:07:21.174818Z\", \"created_time\": \"2021-02-12T18:05:40.130513Z\", \"created_time_dt\": \"2021-02-12T18:05:40.130513Z\", \"duration\": \"0:01:41\", \"iteration\": \"37\", \"goal\": \"normalized_root_mean_squared_error_min\", \"run_name\": \"StackEnsemble\", \"run_properties\": \"base_learners=[('0',\\n                                       Pipeline(memory=None,\\n                                                steps=[('maxabsscaler',\\n                                                        MaxAbsScaler(copy=True\", \"primary_metric\": 0.01758719, \"best_metric\": 0.0175438}], \"children_metrics\": {\"categories\": [0], \"series\": {\"mean_absolute_error\": [{\"categories\": [\"0\", \"1\", \"2\", \"3\", \"4\", \"5\", \"6\", \"7\", \"8\", \"9\", \"10\", \"11\", \"12\", \"13\", \"14\", \"15\", \"16\", \"17\", \"18\", \"19\", \"20\", \"21\", \"22\", \"23\", \"24\", \"25\", \"26\", \"27\", \"28\", \"29\", \"30\", \"31\", \"32\", \"36\", \"37\"], \"mode\": \"markers\", \"name\": \"mean_absolute_error\", \"stepped\": false, \"type\": \"scatter\", \"data\": [71333.9600148913, 83733.22606905503, 124655.21562234058, 120163.72481748743, 145301.7945863964, 110563.99142600996, 103892.78533196426, 112717.42876032024, 122546.34976473638, 104649.71374566712, 111238.65722990413, 101522.63807238157, 122514.10545054567, 116022.40344088984, 131501.20426430064, 128454.72149239208, 143904.6421183129, 99300.66722207, 127576.08840233594, 121799.91760850162, 145739.88987349978, 114286.50655586204, 105969.19287595099, 106987.53501074896, 115284.9863126439, 116385.60489793344, 98727.97449955142, 106007.53595510218, 115524.18074862257, 121434.87330352527, 114929.74098267186, 102920.57357621416, 107356.69508758745, 71692.19580579487, 72124.79717061958]}, {\"categories\": [\"0\", \"1\", \"2\", \"3\", \"4\", \"5\", \"6\", \"7\", \"8\", \"9\", \"10\", \"11\", \"12\", \"13\", \"14\", \"15\", \"16\", \"17\", \"18\", \"19\", \"20\", \"21\", \"22\", \"23\", \"24\", \"25\", \"26\", \"27\", \"28\", \"29\", \"30\", \"31\", \"32\", \"36\", \"37\"], \"mode\": \"lines\", \"name\": \"mean_absolute_error_min\", \"stepped\": true, \"type\": \"scatter\", \"data\": [71333.9600148913, 71333.9600148913, 71333.9600148913, 71333.9600148913, 71333.9600148913, 71333.9600148913, 71333.9600148913, 71333.9600148913, 71333.9600148913, 71333.9600148913, 71333.9600148913, 71333.9600148913, 71333.9600148913, 71333.9600148913, 71333.9600148913, 71333.9600148913, 71333.9600148913, 71333.9600148913, 71333.9600148913, 71333.9600148913, 71333.9600148913, 71333.9600148913, 71333.9600148913, 71333.9600148913, 71333.9600148913, 71333.9600148913, 71333.9600148913, 71333.9600148913, 71333.9600148913, 71333.9600148913, 71333.9600148913, 71333.9600148913, 71333.9600148913, 71333.9600148913, 71333.9600148913]}], \"root_mean_squared_log_error\": [{\"categories\": [\"0\", \"1\", \"2\", \"3\", \"4\", \"5\", \"6\", \"7\", \"8\", \"9\", \"10\", \"11\", \"12\", \"13\", \"14\", \"15\", \"16\", \"17\", \"18\", \"19\", \"20\", \"21\", \"22\", \"23\", \"24\", \"25\", \"26\", \"27\", \"28\", \"29\", \"30\", \"31\", \"32\", \"36\", \"37\"], \"mode\": \"markers\", \"name\": \"root_mean_squared_log_error\", \"stepped\": false, \"type\": \"scatter\", \"data\": [0.17831904557424302, 0.2031957882447112, NaN, 0.2764371690751964, 0.3438423868299993, 0.25619002270308083, 0.24194062701156835, 0.26055769951791247, 0.27934435397879237, 0.24372766598090947, 0.25783995075448546, 0.23930668344202055, 0.2807211831205136, 0.26657891686233626, 0.2956150683355497, 0.2903714406178153, 0.3415463026966442, 0.234605329646669, 0.28990294196310556, 0.27830639717306105, 0.3451081850742425, 0.26178440884590626, 0.24593851551431156, 0.24703995400968362, 0.2653744243661192, 0.28310157468246205, 0.23184009658060933, 0.24595819722504042, 0.2643406948852974, 0.27444419634393197, 0.2660458618869885, 0.24152541373358796, 0.24826241116217226, 0.17916236663112128, 0.1793057941915035]}, {\"categories\": [\"0\", \"1\", \"2\", \"3\", \"4\", \"5\", \"6\", \"7\", \"8\", \"9\", \"10\", \"11\", \"12\", \"13\", \"14\", \"15\", \"16\", \"17\", \"18\", \"19\", \"20\", \"21\", \"22\", \"23\", \"24\", \"25\", \"26\", \"27\", \"28\", \"29\", \"30\", \"31\", \"32\", \"36\", \"37\"], \"mode\": \"lines\", \"name\": \"root_mean_squared_log_error_min\", \"stepped\": true, \"type\": \"scatter\", \"data\": [0.17831904557424302, 0.17831904557424302, 0.17831904557424302, 0.17831904557424302, 0.17831904557424302, 0.17831904557424302, 0.17831904557424302, 0.17831904557424302, 0.17831904557424302, 0.17831904557424302, 0.17831904557424302, 0.17831904557424302, 0.17831904557424302, 0.17831904557424302, 0.17831904557424302, 0.17831904557424302, 0.17831904557424302, 0.17831904557424302, 0.17831904557424302, 0.17831904557424302, 0.17831904557424302, 0.17831904557424302, 0.17831904557424302, 0.17831904557424302, 0.17831904557424302, 0.17831904557424302, 0.17831904557424302, 0.17831904557424302, 0.17831904557424302, 0.17831904557424302, 0.17831904557424302, 0.17831904557424302, 0.17831904557424302, 0.17831904557424302, 0.17831904557424302]}], \"explained_variance\": [{\"categories\": [\"0\", \"1\", \"2\", \"3\", \"4\", \"5\", \"6\", \"7\", \"8\", \"9\", \"10\", \"11\", \"12\", \"13\", \"14\", \"15\", \"16\", \"17\", \"18\", \"19\", \"20\", \"21\", \"22\", \"23\", \"24\", \"25\", \"26\", \"27\", \"28\", \"29\", \"30\", \"31\", \"32\", \"36\", \"37\"], \"mode\": \"markers\", \"name\": \"explained_variance\", \"stepped\": false, \"type\": \"scatter\", \"data\": [0.8663761187084882, 0.8380451344640972, 0.6974576331714052, 0.6143220657767071, 0.6326620931236998, 0.661638128704389, 0.697700046054108, 0.6492654723209161, 0.6010322198987016, 0.7000569116267904, 0.6702281778496942, 0.7183758669269258, 0.6086060714216717, 0.631132618958253, 0.542157448254591, 0.5741842893284211, 0.6363862271619033, 0.7227442798976997, 0.5650483231988411, 0.600439384668086, 0.627732449897472, 0.643884487476081, 0.6940378792387314, 0.6787368727935882, 0.6360758687205523, 0.6260615770628003, 0.7171894824219652, 0.6884030621698054, 0.632187497021523, 0.6157102429526067, 0.6441632290551641, 0.7074358999141248, 0.6841021210001493, 0.8671636466486329, 0.8665343340735244]}, {\"categories\": [\"0\", \"1\", \"2\", \"3\", \"4\", \"5\", \"6\", \"7\", \"8\", \"9\", \"10\", \"11\", \"12\", \"13\", \"14\", \"15\", \"16\", \"17\", \"18\", \"19\", \"20\", \"21\", \"22\", \"23\", \"24\", \"25\", \"26\", \"27\", \"28\", \"29\", \"30\", \"31\", \"32\", \"36\", \"37\"], \"mode\": \"lines\", \"name\": \"explained_variance_max\", \"stepped\": true, \"type\": \"scatter\", \"data\": [0.8663761187084882, 0.8663761187084882, 0.8663761187084882, 0.8663761187084882, 0.8663761187084882, 0.8663761187084882, 0.8663761187084882, 0.8663761187084882, 0.8663761187084882, 0.8663761187084882, 0.8663761187084882, 0.8663761187084882, 0.8663761187084882, 0.8663761187084882, 0.8663761187084882, 0.8663761187084882, 0.8663761187084882, 0.8663761187084882, 0.8663761187084882, 0.8663761187084882, 0.8663761187084882, 0.8663761187084882, 0.8663761187084882, 0.8663761187084882, 0.8663761187084882, 0.8663761187084882, 0.8663761187084882, 0.8663761187084882, 0.8663761187084882, 0.8663761187084882, 0.8663761187084882, 0.8663761187084882, 0.8663761187084882, 0.8671636466486329, 0.8671636466486329]}], \"normalized_root_mean_squared_error\": [{\"categories\": [\"0\", \"1\", \"2\", \"3\", \"4\", \"5\", \"6\", \"7\", \"8\", \"9\", \"10\", \"11\", \"12\", \"13\", \"14\", \"15\", \"16\", \"17\", \"18\", \"19\", \"20\", \"21\", \"22\", \"23\", \"24\", \"25\", \"26\", \"27\", \"28\", \"29\", \"30\", \"31\", \"32\", \"36\", \"37\"], \"mode\": \"markers\", \"name\": \"normalized_root_mean_squared_error\", \"stepped\": false, \"type\": \"scatter\", \"data\": [0.017594718432337262, 0.019372157936512802, 0.026478715984315542, 0.029897501604800498, 0.029179741865107914, 0.027996235453094074, 0.026467065451002924, 0.028498135559802296, 0.030402852865410987, 0.02636538588634424, 0.027644722163786856, 0.025550727020364646, 0.030119493094555635, 0.02923647772376296, 0.03256821610116078, 0.031395542553664675, 0.02906891220804103, 0.025351508345351836, 0.031747792663351974, 0.030415663216648636, 0.029382230581027107, 0.02873109684275645, 0.026626771795023384, 0.027283556080770845, 0.02904516824972587, 0.02944214934655882, 0.02560077447946489, 0.02686125133669337, 0.0291945930066409, 0.029847214972595768, 0.028718738201821137, 0.026039317763978862, 0.027059394842720946, 0.01754379792594637, 0.017587191604082227]}, {\"categories\": [\"0\", \"1\", \"2\", \"3\", \"4\", \"5\", \"6\", \"7\", \"8\", \"9\", \"10\", \"11\", \"12\", \"13\", \"14\", \"15\", \"16\", \"17\", \"18\", \"19\", \"20\", \"21\", \"22\", \"23\", \"24\", \"25\", \"26\", \"27\", \"28\", \"29\", \"30\", \"31\", \"32\", \"36\", \"37\"], \"mode\": \"lines\", \"name\": \"normalized_root_mean_squared_error_min\", \"stepped\": true, \"type\": \"scatter\", \"data\": [0.017594718432337262, 0.017594718432337262, 0.017594718432337262, 0.017594718432337262, 0.017594718432337262, 0.017594718432337262, 0.017594718432337262, 0.017594718432337262, 0.017594718432337262, 0.017594718432337262, 0.017594718432337262, 0.017594718432337262, 0.017594718432337262, 0.017594718432337262, 0.017594718432337262, 0.017594718432337262, 0.017594718432337262, 0.017594718432337262, 0.017594718432337262, 0.017594718432337262, 0.017594718432337262, 0.017594718432337262, 0.017594718432337262, 0.017594718432337262, 0.017594718432337262, 0.017594718432337262, 0.017594718432337262, 0.017594718432337262, 0.017594718432337262, 0.017594718432337262, 0.017594718432337262, 0.017594718432337262, 0.017594718432337262, 0.01754379792594637, 0.01754379792594637]}], \"r2_score\": [{\"categories\": [\"0\", \"1\", \"2\", \"3\", \"4\", \"5\", \"6\", \"7\", \"8\", \"9\", \"10\", \"11\", \"12\", \"13\", \"14\", \"15\", \"16\", \"17\", \"18\", \"19\", \"20\", \"21\", \"22\", \"23\", \"24\", \"25\", \"26\", \"27\", \"28\", \"29\", \"30\", \"31\", \"32\", \"36\", \"37\"], \"mode\": \"markers\", \"name\": \"r2_score\", \"stepped\": false, \"type\": \"scatter\", \"data\": [0.8663685142899697, 0.8380094852536416, 0.6973944042520349, 0.6142950001985552, 0.6325960899132993, 0.6616033755028149, 0.697683044878299, 0.6492518163428641, 0.6010197842906658, 0.7000402953938257, 0.6702030824625499, 0.7183675707099345, 0.6085899101717113, 0.6311161861407092, 0.5421365608790633, 0.5741628702292777, 0.6353542478825226, 0.7226874958852715, 0.5650155817294196, 0.6004328418543158, 0.6275000682193278, 0.6438496918775266, 0.6940265478369944, 0.6787050437645249, 0.6360211745860118, 0.6260490014072672, 0.7171781877764052, 0.6883864030482268, 0.6321751531212604, 0.6156531662950485, 0.6441592489762052, 0.7074012445334804, 0.6840971171041751, 0.867154015422804, 0.8665090326137536]}, {\"categories\": [\"0\", \"1\", \"2\", \"3\", \"4\", \"5\", \"6\", \"7\", \"8\", \"9\", \"10\", \"11\", \"12\", \"13\", \"14\", \"15\", \"16\", \"17\", \"18\", \"19\", \"20\", \"21\", \"22\", \"23\", \"24\", \"25\", \"26\", \"27\", \"28\", \"29\", \"30\", \"31\", \"32\", \"36\", \"37\"], \"mode\": \"lines\", \"name\": \"r2_score_max\", \"stepped\": true, \"type\": \"scatter\", \"data\": [0.8663685142899697, 0.8663685142899697, 0.8663685142899697, 0.8663685142899697, 0.8663685142899697, 0.8663685142899697, 0.8663685142899697, 0.8663685142899697, 0.8663685142899697, 0.8663685142899697, 0.8663685142899697, 0.8663685142899697, 0.8663685142899697, 0.8663685142899697, 0.8663685142899697, 0.8663685142899697, 0.8663685142899697, 0.8663685142899697, 0.8663685142899697, 0.8663685142899697, 0.8663685142899697, 0.8663685142899697, 0.8663685142899697, 0.8663685142899697, 0.8663685142899697, 0.8663685142899697, 0.8663685142899697, 0.8663685142899697, 0.8663685142899697, 0.8663685142899697, 0.8663685142899697, 0.8663685142899697, 0.8663685142899697, 0.867154015422804, 0.867154015422804]}], \"normalized_median_absolute_error\": [{\"categories\": [\"0\", \"1\", \"2\", \"3\", \"4\", \"5\", \"6\", \"7\", \"8\", \"9\", \"10\", \"11\", \"12\", \"13\", \"14\", \"15\", \"16\", \"17\", \"18\", \"19\", \"20\", \"21\", \"22\", \"23\", \"24\", \"25\", \"26\", \"27\", \"28\", \"29\", \"30\", \"31\", \"32\", \"36\", \"37\"], \"mode\": \"markers\", \"name\": \"normalized_median_absolute_error\", \"stepped\": false, \"type\": \"scatter\", \"data\": [0.00545624206893231, 0.006690723360655737, 0.011065750488402087, 0.008787893247194844, 0.013796453014583557, 0.007950967715006516, 0.007490103129195576, 0.008148404318601294, 0.008870428454567161, 0.007585715626496876, 0.008206885277702426, 0.007405393629768021, 0.00905542793847885, 0.00834871083203381, 0.009556008019803776, 0.009403196179795466, 0.013531343886380312, 0.00718200687742401, 0.009309407808255675, 0.008941700286989708, 0.013756360559356551, 0.008271246294621608, 0.0076957441450003225, 0.007729168497020592, 0.008380419493350827, 0.010065892657360543, 0.007165115638538473, 0.007715415382221938, 0.008296670333066556, 0.009162124233423047, 0.00904490664952101, 0.007499753625609466, 0.007760969813574137, 0.005539051890709559, 0.0055807212937901375]}, {\"categories\": [\"0\", \"1\", \"2\", \"3\", \"4\", \"5\", \"6\", \"7\", \"8\", \"9\", \"10\", \"11\", \"12\", \"13\", \"14\", \"15\", \"16\", \"17\", \"18\", \"19\", \"20\", \"21\", \"22\", \"23\", \"24\", \"25\", \"26\", \"27\", \"28\", \"29\", \"30\", \"31\", \"32\", \"36\", \"37\"], \"mode\": \"lines\", \"name\": \"normalized_median_absolute_error_min\", \"stepped\": true, \"type\": \"scatter\", \"data\": [0.00545624206893231, 0.00545624206893231, 0.00545624206893231, 0.00545624206893231, 0.00545624206893231, 0.00545624206893231, 0.00545624206893231, 0.00545624206893231, 0.00545624206893231, 0.00545624206893231, 0.00545624206893231, 0.00545624206893231, 0.00545624206893231, 0.00545624206893231, 0.00545624206893231, 0.00545624206893231, 0.00545624206893231, 0.00545624206893231, 0.00545624206893231, 0.00545624206893231, 0.00545624206893231, 0.00545624206893231, 0.00545624206893231, 0.00545624206893231, 0.00545624206893231, 0.00545624206893231, 0.00545624206893231, 0.00545624206893231, 0.00545624206893231, 0.00545624206893231, 0.00545624206893231, 0.00545624206893231, 0.00545624206893231, 0.00545624206893231, 0.00545624206893231]}], \"root_mean_squared_error\": [{\"categories\": [\"0\", \"1\", \"2\", \"3\", \"4\", \"5\", \"6\", \"7\", \"8\", \"9\", \"10\", \"11\", \"12\", \"13\", \"14\", \"15\", \"16\", \"17\", \"18\", \"19\", \"20\", \"21\", \"22\", \"23\", \"24\", \"25\", \"26\", \"27\", \"28\", \"29\", \"30\", \"31\", \"32\", \"36\", \"37\"], \"mode\": \"markers\", \"name\": \"root_mean_squared_error\", \"stepped\": false, \"type\": \"scatter\", \"data\": [134159.72804657163, 147712.7042659101, 201900.20938040604, 227968.4497366038, 222495.53172144786, 213471.29532984234, 201811.37406389732, 217298.28364349253, 231821.75309875878, 201036.06738337487, 210791.00649887478, 194824.29353028044, 229661.13484598673, 222928.14264369258, 248332.64777135092, 239391.01197169317, 221650.4555863129, 193305.25113330773, 242076.91905805876, 231919.43202694584, 224039.50818033167, 219074.61342601792, 203029.1349370533, 208037.1151158777, 221469.40790415974, 224496.388767511, 195205.9054059198, 204817.04144228692, 222608.77167563685, 227585.01416604276, 218980.3787888862, 198549.79795033883, 206327.88567574718, 133771.45918534105, 134102.33598112696]}, {\"categories\": [\"0\", \"1\", \"2\", \"3\", \"4\", \"5\", \"6\", \"7\", \"8\", \"9\", \"10\", \"11\", \"12\", \"13\", \"14\", \"15\", \"16\", \"17\", \"18\", \"19\", \"20\", \"21\", \"22\", \"23\", \"24\", \"25\", \"26\", \"27\", \"28\", \"29\", \"30\", \"31\", \"32\", \"36\", \"37\"], \"mode\": \"lines\", \"name\": \"root_mean_squared_error_min\", \"stepped\": true, \"type\": \"scatter\", \"data\": [134159.72804657163, 134159.72804657163, 134159.72804657163, 134159.72804657163, 134159.72804657163, 134159.72804657163, 134159.72804657163, 134159.72804657163, 134159.72804657163, 134159.72804657163, 134159.72804657163, 134159.72804657163, 134159.72804657163, 134159.72804657163, 134159.72804657163, 134159.72804657163, 134159.72804657163, 134159.72804657163, 134159.72804657163, 134159.72804657163, 134159.72804657163, 134159.72804657163, 134159.72804657163, 134159.72804657163, 134159.72804657163, 134159.72804657163, 134159.72804657163, 134159.72804657163, 134159.72804657163, 134159.72804657163, 134159.72804657163, 134159.72804657163, 134159.72804657163, 133771.45918534105, 133771.45918534105]}], \"median_absolute_error\": [{\"categories\": [\"0\", \"1\", \"2\", \"3\", \"4\", \"5\", \"6\", \"7\", \"8\", \"9\", \"10\", \"11\", \"12\", \"13\", \"14\", \"15\", \"16\", \"17\", \"18\", \"19\", \"20\", \"21\", \"22\", \"23\", \"24\", \"25\", \"26\", \"27\", \"28\", \"29\", \"30\", \"31\", \"32\", \"36\", \"37\"], \"mode\": \"markers\", \"name\": \"median_absolute_error\", \"stepped\": false, \"type\": \"scatter\", \"data\": [41603.84577560887, 51016.765625, 84376.34747406591, 67007.6860098607, 105197.95423619961, 60626.12882692469, 57112.03636011627, 62131.582929334865, 67637.0169660746, 57841.08165203868, 62577.500242480986, 56466.12642698116, 69047.63803090125, 63658.9200942578, 72864.56115100379, 71699.37087094043, 103176.49713364989, 54762.80244035807, 70984.23453794951, 68180.46468829653, 104892.2492650937, 63068.252996489755, 58680.04910562746, 58934.90978978202, 63900.69863680006, 76752.43151237414, 54634.006743855854, 58830.04228944227, 63262.1112896325, 69861.19727985073, 68967.4132025977, 57185.62139527218, 59177.39482850279, 42235.270666660384, 42552.999865149795]}, {\"categories\": [\"0\", \"1\", \"2\", \"3\", \"4\", \"5\", \"6\", \"7\", \"8\", \"9\", \"10\", \"11\", \"12\", \"13\", \"14\", \"15\", \"16\", \"17\", \"18\", \"19\", \"20\", \"21\", \"22\", \"23\", \"24\", \"25\", \"26\", \"27\", \"28\", \"29\", \"30\", \"31\", \"32\", \"36\", \"37\"], \"mode\": \"lines\", \"name\": \"median_absolute_error_min\", \"stepped\": true, \"type\": \"scatter\", \"data\": [41603.84577560887, 41603.84577560887, 41603.84577560887, 41603.84577560887, 41603.84577560887, 41603.84577560887, 41603.84577560887, 41603.84577560887, 41603.84577560887, 41603.84577560887, 41603.84577560887, 41603.84577560887, 41603.84577560887, 41603.84577560887, 41603.84577560887, 41603.84577560887, 41603.84577560887, 41603.84577560887, 41603.84577560887, 41603.84577560887, 41603.84577560887, 41603.84577560887, 41603.84577560887, 41603.84577560887, 41603.84577560887, 41603.84577560887, 41603.84577560887, 41603.84577560887, 41603.84577560887, 41603.84577560887, 41603.84577560887, 41603.84577560887, 41603.84577560887, 41603.84577560887, 41603.84577560887]}], \"normalized_mean_absolute_error\": [{\"categories\": [\"0\", \"1\", \"2\", \"3\", \"4\", \"5\", \"6\", \"7\", \"8\", \"9\", \"10\", \"11\", \"12\", \"13\", \"14\", \"15\", \"16\", \"17\", \"18\", \"19\", \"20\", \"21\", \"22\", \"23\", \"24\", \"25\", \"26\", \"27\", \"28\", \"29\", \"30\", \"31\", \"32\", \"36\", \"37\"], \"mode\": \"markers\", \"name\": \"normalized_mean_absolute_error\", \"stepped\": false, \"type\": \"scatter\", \"data\": [0.00935527344457591, 0.010981406697580987, 0.01634822499965122, 0.015759177025244254, 0.019055973060511006, 0.014500195596853763, 0.013625283322224818, 0.014782613607910852, 0.01607165242816215, 0.013724552622382572, 0.014588676358020214, 0.013314444337361517, 0.016067423665645335, 0.015216052910280636, 0.017246059575645987, 0.01684652085146126, 0.01887273994994268, 0.013023038324205904, 0.016731290282273565, 0.015973759686360865, 0.01911342818013112, 0.014988394302408135, 0.01389759906569849, 0.014031152132557241, 0.015119342467231988, 0.015263685888253567, 0.012947931081908384, 0.013902627666242909, 0.015150712229327548, 0.01592588502341315, 0.015072752915760245, 0.01349778014114284, 0.014079566568863925, 0.009402255187645226, 0.009458989792868142]}, {\"categories\": [\"0\", \"1\", \"2\", \"3\", \"4\", \"5\", \"6\", \"7\", \"8\", \"9\", \"10\", \"11\", \"12\", \"13\", \"14\", \"15\", \"16\", \"17\", \"18\", \"19\", \"20\", \"21\", \"22\", \"23\", \"24\", \"25\", \"26\", \"27\", \"28\", \"29\", \"30\", \"31\", \"32\", \"36\", \"37\"], \"mode\": \"lines\", \"name\": \"normalized_mean_absolute_error_min\", \"stepped\": true, \"type\": \"scatter\", \"data\": [0.00935527344457591, 0.00935527344457591, 0.00935527344457591, 0.00935527344457591, 0.00935527344457591, 0.00935527344457591, 0.00935527344457591, 0.00935527344457591, 0.00935527344457591, 0.00935527344457591, 0.00935527344457591, 0.00935527344457591, 0.00935527344457591, 0.00935527344457591, 0.00935527344457591, 0.00935527344457591, 0.00935527344457591, 0.00935527344457591, 0.00935527344457591, 0.00935527344457591, 0.00935527344457591, 0.00935527344457591, 0.00935527344457591, 0.00935527344457591, 0.00935527344457591, 0.00935527344457591, 0.00935527344457591, 0.00935527344457591, 0.00935527344457591, 0.00935527344457591, 0.00935527344457591, 0.00935527344457591, 0.00935527344457591, 0.00935527344457591, 0.00935527344457591]}], \"normalized_root_mean_squared_log_error\": [{\"categories\": [\"0\", \"1\", \"2\", \"3\", \"4\", \"5\", \"6\", \"7\", \"8\", \"9\", \"10\", \"11\", \"12\", \"13\", \"14\", \"15\", \"16\", \"17\", \"18\", \"19\", \"20\", \"21\", \"22\", \"23\", \"24\", \"25\", \"26\", \"27\", \"28\", \"29\", \"30\", \"31\", \"32\", \"36\", \"37\"], \"mode\": \"markers\", \"name\": \"normalized_root_mean_squared_log_error\", \"stepped\": false, \"type\": \"scatter\", \"data\": [0.038501573013890705, 0.04387280927858923, NaN, 0.05968664656446138, 0.0742403747124916, 0.05531500481493006, 0.05223836122448324, 0.056258047254652534, 0.060314348397825436, 0.05262420790247092, 0.055671247330328515, 0.05166965601225626, 0.06061162504349681, 0.05755811219427962, 0.06382742292543685, 0.06269525044895308, 0.07374461807235413, 0.05065456805105193, 0.06259409504458711, 0.06009023902345975, 0.0745136782363224, 0.056522910935402265, 0.05310156120177156, 0.053339377159754696, 0.05729804543787429, 0.0611255848352222, 0.050057515602445174, 0.0531058107580667, 0.05707484880201128, 0.059256335910429066, 0.05744301817845152, 0.05214871087733711, 0.053603322736411, 0.03868365781106416, 0.038714625824999384]}, {\"categories\": [\"0\", \"1\", \"2\", \"3\", \"4\", \"5\", \"6\", \"7\", \"8\", \"9\", \"10\", \"11\", \"12\", \"13\", \"14\", \"15\", \"16\", \"17\", \"18\", \"19\", \"20\", \"21\", \"22\", \"23\", \"24\", \"25\", \"26\", \"27\", \"28\", \"29\", \"30\", \"31\", \"32\", \"36\", \"37\"], \"mode\": \"lines\", \"name\": \"normalized_root_mean_squared_log_error_min\", \"stepped\": true, \"type\": \"scatter\", \"data\": [0.038501573013890705, 0.038501573013890705, 0.038501573013890705, 0.038501573013890705, 0.038501573013890705, 0.038501573013890705, 0.038501573013890705, 0.038501573013890705, 0.038501573013890705, 0.038501573013890705, 0.038501573013890705, 0.038501573013890705, 0.038501573013890705, 0.038501573013890705, 0.038501573013890705, 0.038501573013890705, 0.038501573013890705, 0.038501573013890705, 0.038501573013890705, 0.038501573013890705, 0.038501573013890705, 0.038501573013890705, 0.038501573013890705, 0.038501573013890705, 0.038501573013890705, 0.038501573013890705, 0.038501573013890705, 0.038501573013890705, 0.038501573013890705, 0.038501573013890705, 0.038501573013890705, 0.038501573013890705, 0.038501573013890705, 0.038501573013890705, 0.038501573013890705]}], \"mean_absolute_percentage_error\": [{\"categories\": [\"0\", \"1\", \"2\", \"3\", \"4\", \"5\", \"6\", \"7\", \"8\", \"9\", \"10\", \"11\", \"12\", \"13\", \"14\", \"15\", \"16\", \"17\", \"18\", \"19\", \"20\", \"21\", \"22\", \"23\", \"24\", \"25\", \"26\", \"27\", \"28\", \"29\", \"30\", \"31\", \"32\", \"36\", \"37\"], \"mode\": \"markers\", \"name\": \"mean_absolute_percentage_error\", \"stepped\": false, \"type\": \"scatter\", \"data\": [13.407849804664558, 15.839741676864302, 23.902298650143788, 21.840777738451774, 29.932595127741838, 19.9504230892245, 18.713554653957203, 20.369685620854074, 22.200291038343796, 18.913739560384936, 20.15213490800677, 18.469834314553598, 22.342285009443756, 20.91076501876608, 23.635813400908102, 23.29450619133134, 28.963826169282214, 18.00259904594581, 23.073431360876437, 22.064679765849405, 29.63201659026562, 20.605456008408506, 19.10942772444926, 19.198542471992834, 20.82395528051494, 23.903916547095392, 17.91061672643819, 19.087026301080492, 20.751465387985046, 21.83940799368806, 21.182022454006795, 18.627655609734123, 19.33248358370235, 13.5223387597173, 13.543736952090518]}, {\"categories\": [\"0\", \"1\", \"2\", \"3\", \"4\", \"5\", \"6\", \"7\", \"8\", \"9\", \"10\", \"11\", \"12\", \"13\", \"14\", \"15\", \"16\", \"17\", \"18\", \"19\", \"20\", \"21\", \"22\", \"23\", \"24\", \"25\", \"26\", \"27\", \"28\", \"29\", \"30\", \"31\", \"32\", \"36\", \"37\"], \"mode\": \"lines\", \"name\": \"mean_absolute_percentage_error_min\", \"stepped\": true, \"type\": \"scatter\", \"data\": [13.407849804664558, 13.407849804664558, 13.407849804664558, 13.407849804664558, 13.407849804664558, 13.407849804664558, 13.407849804664558, 13.407849804664558, 13.407849804664558, 13.407849804664558, 13.407849804664558, 13.407849804664558, 13.407849804664558, 13.407849804664558, 13.407849804664558, 13.407849804664558, 13.407849804664558, 13.407849804664558, 13.407849804664558, 13.407849804664558, 13.407849804664558, 13.407849804664558, 13.407849804664558, 13.407849804664558, 13.407849804664558, 13.407849804664558, 13.407849804664558, 13.407849804664558, 13.407849804664558, 13.407849804664558, 13.407849804664558, 13.407849804664558, 13.407849804664558, 13.407849804664558, 13.407849804664558]}], \"spearman_correlation\": [{\"categories\": [\"0\", \"1\", \"2\", \"3\", \"4\", \"5\", \"6\", \"7\", \"8\", \"9\", \"10\", \"11\", \"12\", \"13\", \"14\", \"15\", \"16\", \"17\", \"18\", \"19\", \"20\", \"21\", \"22\", \"23\", \"24\", \"25\", \"26\", \"27\", \"28\", \"29\", \"30\", \"31\", \"32\", \"36\", \"37\"], \"mode\": \"markers\", \"name\": \"spearman_correlation\", \"stepped\": false, \"type\": \"scatter\", \"data\": [0.9439172792804698, 0.9256781895816711, 0.841596606313749, 0.8636614721727808, 0.7213994685561002, 0.8843168802655897, 0.8971604009777344, 0.8805927250236301, 0.8601921366239514, 0.8947032972573453, 0.8814158847062852, 0.9002046473458315, 0.858003540171814, 0.8730834359666018, 0.8495028173182156, 0.8490153808101368, 0.7229535112316906, 0.9042913597782385, 0.8522146323842789, 0.8621860898911642, 0.7189766507560632, 0.8785419771684578, 0.8927970285258778, 0.8941274542320867, 0.8724564256237416, 0.910831979869522, 0.9088640354296, 0.8938786387454201, 0.8780382635823815, 0.86524103601621, 0.8806782624872512, 0.8949262618090775, 0.8928198220626843, 0.9433273503057175, 0.9429278094883613]}, {\"categories\": [\"0\", \"1\", \"2\", \"3\", \"4\", \"5\", \"6\", \"7\", \"8\", \"9\", \"10\", \"11\", \"12\", \"13\", \"14\", \"15\", \"16\", \"17\", \"18\", \"19\", \"20\", \"21\", \"22\", \"23\", \"24\", \"25\", \"26\", \"27\", \"28\", \"29\", \"30\", \"31\", \"32\", \"36\", \"37\"], \"mode\": \"lines\", \"name\": \"spearman_correlation_max\", \"stepped\": true, \"type\": \"scatter\", \"data\": [0.9439172792804698, 0.9439172792804698, 0.9439172792804698, 0.9439172792804698, 0.9439172792804698, 0.9439172792804698, 0.9439172792804698, 0.9439172792804698, 0.9439172792804698, 0.9439172792804698, 0.9439172792804698, 0.9439172792804698, 0.9439172792804698, 0.9439172792804698, 0.9439172792804698, 0.9439172792804698, 0.9439172792804698, 0.9439172792804698, 0.9439172792804698, 0.9439172792804698, 0.9439172792804698, 0.9439172792804698, 0.9439172792804698, 0.9439172792804698, 0.9439172792804698, 0.9439172792804698, 0.9439172792804698, 0.9439172792804698, 0.9439172792804698, 0.9439172792804698, 0.9439172792804698, 0.9439172792804698, 0.9439172792804698, 0.9439172792804698, 0.9439172792804698]}]}, \"metricName\": null, \"primaryMetricName\": \"normalized_root_mean_squared_error\", \"showLegend\": false}, \"run_metrics\": [{\"name\": \"experiment_status\", \"run_id\": \"AutoML_b9d7d298-0956-4f81-8e0d-86aef7096950\", \"categories\": [0, 1, 2, 3, 4, 5, 6, 7, 8, 9, 10, 11, 12, 13], \"series\": [{\"data\": [\"DatasetEvaluation\", \"FeaturesGeneration\", \"DatasetFeaturization\", \"DatasetFeaturizationCompleted\", \"DatasetCrossValidationSplit\", \"ModelSelection\", \"BestRunExplainModel\", \"ModelExplanationDataSetSetup\", \"PickSurrogateModel\", \"EngineeredFeatureExplanations\", \"EngineeredFeatureExplanations\", \"RawFeaturesExplanations\", \"RawFeaturesExplanations\", \"BestRunExplainModel\"]}]}, {\"name\": \"experiment_status_description\", \"run_id\": \"AutoML_b9d7d298-0956-4f81-8e0d-86aef7096950\", \"categories\": [0, 1, 2, 3, 4, 5, 6, 7, 8, 9, 10, 11, 12, 13], \"series\": [{\"data\": [\"Gathering dataset statistics.\", \"Generating features for the dataset.\", \"Beginning to fit featurizers and featurize the dataset.\", \"Completed fit featurizers and featurizing the dataset.\", \"Generating individually featurized CV splits.\", \"Beginning model selection.\", \"Best run model explanations started\", \"Model explanations data setup completed\", \"Choosing LightGBM as the surrogate model for explanations\", \"Computation of engineered features started\", \"Computation of engineered features completed\", \"Computation of raw features started\", \"Computation of raw features completed\", \"Best run model explanations completed\"]}]}, {\"name\": \"normalized_mean_absolute_error\", \"run_id\": \"AutoML_b9d7d298-0956-4f81-8e0d-86aef7096950\", \"categories\": [0], \"series\": [{\"data\": [0.009402255187645226]}]}, {\"name\": \"spearman_correlation\", \"run_id\": \"AutoML_b9d7d298-0956-4f81-8e0d-86aef7096950\", \"categories\": [0], \"series\": [{\"data\": [0.9433273503057175]}]}, {\"name\": \"normalized_median_absolute_error\", \"run_id\": \"AutoML_b9d7d298-0956-4f81-8e0d-86aef7096950\", \"categories\": [0], \"series\": [{\"data\": [0.005539051890709559]}]}, {\"name\": \"r2_score\", \"run_id\": \"AutoML_b9d7d298-0956-4f81-8e0d-86aef7096950\", \"categories\": [0], \"series\": [{\"data\": [0.867154015422804]}]}, {\"name\": \"root_mean_squared_error\", \"run_id\": \"AutoML_b9d7d298-0956-4f81-8e0d-86aef7096950\", \"categories\": [0], \"series\": [{\"data\": [133771.45918534105]}]}, {\"name\": \"root_mean_squared_log_error\", \"run_id\": \"AutoML_b9d7d298-0956-4f81-8e0d-86aef7096950\", \"categories\": [0], \"series\": [{\"data\": [0.17916236663112128]}]}, {\"name\": \"mean_absolute_error\", \"run_id\": \"AutoML_b9d7d298-0956-4f81-8e0d-86aef7096950\", \"categories\": [0], \"series\": [{\"data\": [71692.19580579487]}]}, {\"name\": \"mean_absolute_percentage_error\", \"run_id\": \"AutoML_b9d7d298-0956-4f81-8e0d-86aef7096950\", \"categories\": [0], \"series\": [{\"data\": [13.5223387597173]}]}, {\"name\": \"median_absolute_error\", \"run_id\": \"AutoML_b9d7d298-0956-4f81-8e0d-86aef7096950\", \"categories\": [0], \"series\": [{\"data\": [42235.270666660384]}]}, {\"name\": \"explained_variance\", \"run_id\": \"AutoML_b9d7d298-0956-4f81-8e0d-86aef7096950\", \"categories\": [0], \"series\": [{\"data\": [0.8671636466486329]}]}, {\"name\": \"normalized_root_mean_squared_log_error\", \"run_id\": \"AutoML_b9d7d298-0956-4f81-8e0d-86aef7096950\", \"categories\": [0], \"series\": [{\"data\": [0.03868365781106416]}]}, {\"name\": \"normalized_root_mean_squared_error\", \"run_id\": \"AutoML_b9d7d298-0956-4f81-8e0d-86aef7096950\", \"categories\": [0], \"series\": [{\"data\": [0.01754379792594637]}]}], \"run_logs\": \"\\nRun is completed.\", \"graph\": {}, \"widget_settings\": {\"childWidgetDisplay\": \"popup\", \"send_telemetry\": false, \"log_level\": \"INFO\", \"sdk_version\": \"1.20.0\"}, \"loading\": false}"
     },
     "metadata": {},
     "output_type": "display_data"
    }
   ],
   "source": [
    "RunDetails(remote_run).show()"
   ]
  },
  {
   "cell_type": "code",
   "execution_count": 11,
   "metadata": {},
   "outputs": [
    {
     "name": "stdout",
     "output_type": "stream",
     "text": [
      "\n",
      "\n",
      "****************************************************************************************************\n",
      "DATA GUARDRAILS: \n",
      "\n",
      "TYPE:         Missing feature values imputation\n",
      "STATUS:       PASSED\n",
      "DESCRIPTION:  No feature missing values were detected in the training data.\n",
      "              Learn more about missing value imputation: https://aka.ms/AutomatedMLFeaturization\n",
      "\n",
      "****************************************************************************************************\n",
      "\n",
      "TYPE:         High cardinality feature detection\n",
      "STATUS:       PASSED\n",
      "DESCRIPTION:  Your inputs were analyzed, and no high cardinality features were detected.\n",
      "              Learn more about high cardinality feature handling: https://aka.ms/AutomatedMLFeaturization\n",
      "\n",
      "****************************************************************************************************\n",
      "\n",
      "****************************************************************************************************\n",
      "ITERATION: The iteration being evaluated.\n",
      "PIPELINE: A summary description of the pipeline being evaluated.\n",
      "DURATION: Time taken for the current iteration.\n",
      "METRIC: The result of computing score on the fitted pipeline.\n",
      "BEST: The best observed score thus far.\n",
      "****************************************************************************************************\n",
      "\n",
      " ITERATION   PIPELINE                                       DURATION      METRIC      BEST\n",
      "         0   MaxAbsScaler LightGBM                          0:00:54       0.0176    0.0176\n",
      "         1   MaxAbsScaler XGBoostRegressor                  0:01:00       0.0194    0.0176\n",
      "         2   StandardScalerWrapper ElasticNet               0:00:58       0.0265    0.0176\n",
      "         3   MaxAbsScaler DecisionTree                      0:00:57       0.0299    0.0176\n",
      "         4   MaxAbsScaler ElasticNet                        0:03:37       0.0292    0.0176\n",
      "         5   MaxAbsScaler DecisionTree                      0:03:32       0.0280    0.0176\n",
      "         6   MaxAbsScaler DecisionTree                      0:03:24       0.0265    0.0176\n",
      "         7   MaxAbsScaler DecisionTree                      0:00:49       0.0285    0.0176\n",
      "        10   MaxAbsScaler DecisionTree                      0:00:49       0.0276    0.0176\n",
      "        11   MaxAbsScaler DecisionTree                      0:00:49       0.0256    0.0176\n",
      "         8   MaxAbsScaler DecisionTree                      0:00:49       0.0304    0.0176\n",
      "         9   MaxAbsScaler DecisionTree                      0:00:51       0.0264    0.0176\n",
      "        12   MaxAbsScaler DecisionTree                      0:00:52       0.0301    0.0176\n",
      "        13   StandardScalerWrapper DecisionTree             0:00:52       0.0292    0.0176\n",
      "        14   MaxAbsScaler DecisionTree                      0:00:48       0.0326    0.0176\n",
      "        15   MaxAbsScaler DecisionTree                      0:00:52       0.0314    0.0176\n",
      "        16   MaxAbsScaler SGD                               0:00:52       0.0291    0.0176\n",
      "        17   MaxAbsScaler DecisionTree                      0:00:55       0.0254    0.0176\n",
      "        18   MaxAbsScaler DecisionTree                      0:00:54       0.0317    0.0176\n",
      "        19   MaxAbsScaler DecisionTree                      0:00:46       0.0304    0.0176\n",
      "        20   MaxAbsScaler SGD                               0:00:49       0.0294    0.0176\n",
      "        21   MaxAbsScaler DecisionTree                      0:00:43       0.0287    0.0176\n",
      "        22   MaxAbsScaler DecisionTree                      0:00:46       0.0266    0.0176\n",
      "        23   MaxAbsScaler DecisionTree                      0:00:54       0.0273    0.0176\n",
      "        24   MaxAbsScaler DecisionTree                      0:00:49       0.0290    0.0176\n",
      "        25   MaxAbsScaler LightGBM                          0:00:54       0.0294    0.0176\n",
      "        26   MaxAbsScaler RandomForest                      0:01:11       0.0256    0.0176\n",
      "        27   MaxAbsScaler DecisionTree                      0:00:51       0.0269    0.0176\n",
      "        28   MaxAbsScaler DecisionTree                      0:00:51       0.0292    0.0176\n",
      "        29   MaxAbsScaler DecisionTree                      0:00:51       0.0298    0.0176\n",
      "        30   MaxAbsScaler LightGBM                          0:00:54       0.0287    0.0176\n",
      "        31   MaxAbsScaler DecisionTree                      0:00:45       0.0260    0.0176\n",
      "        32   MaxAbsScaler DecisionTree                      0:00:49       0.0271    0.0176\n",
      "        33   MaxAbsScaler GradientBoosting                  0:00:30          nan    0.0176\n",
      "        34                                                  0:00:17          nan    0.0176\n",
      "        35                                                  0:00:18          nan    0.0176\n",
      "        36    VotingEnsemble                                0:01:19       0.0175    0.0175\n",
      "        37    StackEnsemble                                 0:01:30       0.0176    0.0175\n"
     ]
    },
    {
     "data": {
      "text/plain": [
       "{'runId': 'AutoML_b9d7d298-0956-4f81-8e0d-86aef7096950',\n",
       " 'target': 'compute11',\n",
       " 'status': 'Completed',\n",
       " 'startTimeUtc': '2021-02-12T17:41:23.149865Z',\n",
       " 'endTimeUtc': '2021-02-12T18:07:27.836937Z',\n",
       " 'properties': {'num_iterations': '1000',\n",
       "  'training_type': 'TrainFull',\n",
       "  'acquisition_function': 'EI',\n",
       "  'primary_metric': 'normalized_root_mean_squared_error',\n",
       "  'train_split': '0',\n",
       "  'acquisition_parameter': '0',\n",
       "  'num_cross_validation': '3',\n",
       "  'target': 'compute11',\n",
       "  'AMLSettingsJsonString': '{\"path\":null,\"name\":\"exp1\",\"subscription_id\":\"5a4ab2ba-6c51-4805-8155-58759ad589d8\",\"resource_group\":\"aml-quickstarts-138714\",\"workspace_name\":\"quick-starts-ws-138714\",\"region\":\"southcentralus\",\"compute_target\":\"compute11\",\"spark_service\":null,\"azure_service\":\"remote\",\"many_models\":false,\"pipeline_fetch_max_batch_size\":1,\"iterations\":1000,\"primary_metric\":\"normalized_root_mean_squared_error\",\"task_type\":\"regression\",\"data_script\":null,\"validation_size\":0.0,\"n_cross_validations\":3,\"y_min\":null,\"y_max\":null,\"num_classes\":null,\"featurization\":\"auto\",\"_ignore_package_version_incompatibilities\":false,\"is_timeseries\":false,\"max_cores_per_iteration\":-1,\"max_concurrent_iterations\":4,\"iteration_timeout_minutes\":null,\"mem_in_mb\":null,\"enforce_time_on_windows\":false,\"experiment_timeout_minutes\":30,\"experiment_exit_score\":null,\"whitelist_models\":null,\"blacklist_algos\":[\"TensorFlowDNN\",\"TensorFlowLinearRegressor\"],\"supported_models\":[\"SGD\",\"LassoLars\",\"RandomForest\",\"ElasticNet\",\"LightGBM\",\"TensorFlowLinearRegressor\",\"FastLinearRegressor\",\"DecisionTree\",\"XGBoostRegressor\",\"OnlineGradientDescentRegressor\",\"KNN\",\"TensorFlowDNN\",\"GradientBoosting\",\"ExtremeRandomTrees\"],\"auto_blacklist\":true,\"blacklist_samples_reached\":false,\"exclude_nan_labels\":true,\"verbosity\":20,\"_debug_log\":\"azureml_automl.log\",\"show_warnings\":false,\"model_explainability\":true,\"service_url\":null,\"sdk_url\":null,\"sdk_packages\":null,\"enable_onnx_compatible_models\":false,\"enable_split_onnx_featurizer_estimator_models\":false,\"vm_type\":\"STANDARD_D2_V2\",\"telemetry_verbosity\":20,\"send_telemetry\":true,\"enable_dnn\":false,\"scenario\":\"SDK-1.13.0\",\"environment_label\":null,\"force_text_dnn\":false,\"enable_feature_sweeping\":true,\"enable_early_stopping\":true,\"early_stopping_n_iters\":10,\"metrics\":null,\"enable_ensembling\":true,\"enable_stack_ensembling\":true,\"ensemble_iterations\":15,\"enable_tf\":false,\"enable_subsampling\":null,\"subsample_seed\":null,\"enable_nimbusml\":false,\"enable_streaming\":false,\"force_streaming\":false,\"track_child_runs\":true,\"allowed_private_models\":[],\"label_column_name\":\"price\",\"weight_column_name\":null,\"cv_split_column_names\":null,\"enable_local_managed\":false,\"_local_managed_run_id\":null,\"cost_mode\":1,\"lag_length\":0,\"metric_operation\":\"minimize\",\"preprocess\":true}',\n",
       "  'DataPrepJsonString': '{\\\\\"training_data\\\\\": \\\\\"{\\\\\\\\\\\\\"blocks\\\\\\\\\\\\\": [{\\\\\\\\\\\\\"id\\\\\\\\\\\\\": \\\\\\\\\\\\\"8516b795-e35e-4f2c-afd8-eff3a5f50a77\\\\\\\\\\\\\", \\\\\\\\\\\\\"type\\\\\\\\\\\\\": \\\\\\\\\\\\\"Microsoft.DPrep.GetDatastoreFilesBlock\\\\\\\\\\\\\", \\\\\\\\\\\\\"arguments\\\\\\\\\\\\\": {\\\\\\\\\\\\\"datastores\\\\\\\\\\\\\": [{\\\\\\\\\\\\\"datastoreName\\\\\\\\\\\\\": \\\\\\\\\\\\\"workspaceblobstore\\\\\\\\\\\\\", \\\\\\\\\\\\\"path\\\\\\\\\\\\\": \\\\\\\\\\\\\"UI/02-12-2021_053636_UTC/kc_house_data.csv\\\\\\\\\\\\\", \\\\\\\\\\\\\"resourceGroup\\\\\\\\\\\\\": \\\\\\\\\\\\\"aml-quickstarts-138714\\\\\\\\\\\\\", \\\\\\\\\\\\\"subscription\\\\\\\\\\\\\": \\\\\\\\\\\\\"5a4ab2ba-6c51-4805-8155-58759ad589d8\\\\\\\\\\\\\", \\\\\\\\\\\\\"workspaceName\\\\\\\\\\\\\": \\\\\\\\\\\\\"quick-starts-ws-138714\\\\\\\\\\\\\"}]}, \\\\\\\\\\\\\"localData\\\\\\\\\\\\\": {}, \\\\\\\\\\\\\"isEnabled\\\\\\\\\\\\\": true, \\\\\\\\\\\\\"name\\\\\\\\\\\\\": null, \\\\\\\\\\\\\"annotation\\\\\\\\\\\\\": null}, {\\\\\\\\\\\\\"id\\\\\\\\\\\\\": \\\\\\\\\\\\\"890a127b-7bbc-4c1e-a7e4-8e90430b052a\\\\\\\\\\\\\", \\\\\\\\\\\\\"type\\\\\\\\\\\\\": \\\\\\\\\\\\\"Microsoft.DPrep.ParseDelimitedBlock\\\\\\\\\\\\\", \\\\\\\\\\\\\"arguments\\\\\\\\\\\\\": {\\\\\\\\\\\\\"columnHeadersMode\\\\\\\\\\\\\": 1, \\\\\\\\\\\\\"fileEncoding\\\\\\\\\\\\\": 0, \\\\\\\\\\\\\"handleQuotedLineBreaks\\\\\\\\\\\\\": false, \\\\\\\\\\\\\"preview\\\\\\\\\\\\\": false, \\\\\\\\\\\\\"separator\\\\\\\\\\\\\": \\\\\\\\\\\\\",\\\\\\\\\\\\\", \\\\\\\\\\\\\"skipRows\\\\\\\\\\\\\": 0, \\\\\\\\\\\\\"skipRowsMode\\\\\\\\\\\\\": 0}, \\\\\\\\\\\\\"localData\\\\\\\\\\\\\": {}, \\\\\\\\\\\\\"isEnabled\\\\\\\\\\\\\": true, \\\\\\\\\\\\\"name\\\\\\\\\\\\\": null, \\\\\\\\\\\\\"annotation\\\\\\\\\\\\\": null}, {\\\\\\\\\\\\\"id\\\\\\\\\\\\\": \\\\\\\\\\\\\"fcbd57ec-624d-452c-94f4-3cd93ce8742a\\\\\\\\\\\\\", \\\\\\\\\\\\\"type\\\\\\\\\\\\\": \\\\\\\\\\\\\"Microsoft.DPrep.DropColumnsBlock\\\\\\\\\\\\\", \\\\\\\\\\\\\"arguments\\\\\\\\\\\\\": {\\\\\\\\\\\\\"columns\\\\\\\\\\\\\": {\\\\\\\\\\\\\"type\\\\\\\\\\\\\": 0, \\\\\\\\\\\\\"details\\\\\\\\\\\\\": {\\\\\\\\\\\\\"selectedColumns\\\\\\\\\\\\\": [\\\\\\\\\\\\\"Path\\\\\\\\\\\\\", \\\\\\\\\\\\\"id\\\\\\\\\\\\\", \\\\\\\\\\\\\"date\\\\\\\\\\\\\", \\\\\\\\\\\\\"waterfront\\\\\\\\\\\\\", \\\\\\\\\\\\\"yr_renovated\\\\\\\\\\\\\", \\\\\\\\\\\\\"yr_built\\\\\\\\\\\\\", \\\\\\\\\\\\\"zipcode\\\\\\\\\\\\\"]}}}, \\\\\\\\\\\\\"localData\\\\\\\\\\\\\": {}, \\\\\\\\\\\\\"isEnabled\\\\\\\\\\\\\": true, \\\\\\\\\\\\\"name\\\\\\\\\\\\\": null, \\\\\\\\\\\\\"annotation\\\\\\\\\\\\\": null}, {\\\\\\\\\\\\\"id\\\\\\\\\\\\\": \\\\\\\\\\\\\"b6375e9e-e99b-420b-89cd-9b6fd839232f\\\\\\\\\\\\\", \\\\\\\\\\\\\"type\\\\\\\\\\\\\": \\\\\\\\\\\\\"Microsoft.DPrep.SetColumnTypesBlock\\\\\\\\\\\\\", \\\\\\\\\\\\\"arguments\\\\\\\\\\\\\": {\\\\\\\\\\\\\"columnConversion\\\\\\\\\\\\\": [{\\\\\\\\\\\\\"column\\\\\\\\\\\\\": {\\\\\\\\\\\\\"type\\\\\\\\\\\\\": 2, \\\\\\\\\\\\\"details\\\\\\\\\\\\\": {\\\\\\\\\\\\\"selectedColumn\\\\\\\\\\\\\": \\\\\\\\\\\\\"Path\\\\\\\\\\\\\"}}, \\\\\\\\\\\\\"typeProperty\\\\\\\\\\\\\": 0}, {\\\\\\\\\\\\\"column\\\\\\\\\\\\\": {\\\\\\\\\\\\\"type\\\\\\\\\\\\\": 2, \\\\\\\\\\\\\"details\\\\\\\\\\\\\": {\\\\\\\\\\\\\"selectedColumn\\\\\\\\\\\\\": \\\\\\\\\\\\\"id\\\\\\\\\\\\\"}}, \\\\\\\\\\\\\"typeProperty\\\\\\\\\\\\\": 2}, {\\\\\\\\\\\\\"column\\\\\\\\\\\\\": {\\\\\\\\\\\\\"type\\\\\\\\\\\\\": 2, \\\\\\\\\\\\\"details\\\\\\\\\\\\\": {\\\\\\\\\\\\\"selectedColumn\\\\\\\\\\\\\": \\\\\\\\\\\\\"date\\\\\\\\\\\\\"}}, \\\\\\\\\\\\\"typeProperty\\\\\\\\\\\\\": 0}, {\\\\\\\\\\\\\"column\\\\\\\\\\\\\": {\\\\\\\\\\\\\"type\\\\\\\\\\\\\": 2, \\\\\\\\\\\\\"details\\\\\\\\\\\\\": {\\\\\\\\\\\\\"selectedColumn\\\\\\\\\\\\\": \\\\\\\\\\\\\"price\\\\\\\\\\\\\"}}, \\\\\\\\\\\\\"typeProperty\\\\\\\\\\\\\": 3}, {\\\\\\\\\\\\\"column\\\\\\\\\\\\\": {\\\\\\\\\\\\\"type\\\\\\\\\\\\\": 2, \\\\\\\\\\\\\"details\\\\\\\\\\\\\": {\\\\\\\\\\\\\"selectedColumn\\\\\\\\\\\\\": \\\\\\\\\\\\\"bedrooms\\\\\\\\\\\\\"}}, \\\\\\\\\\\\\"typeProperty\\\\\\\\\\\\\": 2}, {\\\\\\\\\\\\\"column\\\\\\\\\\\\\": {\\\\\\\\\\\\\"type\\\\\\\\\\\\\": 2, \\\\\\\\\\\\\"details\\\\\\\\\\\\\": {\\\\\\\\\\\\\"selectedColumn\\\\\\\\\\\\\": \\\\\\\\\\\\\"bathrooms\\\\\\\\\\\\\"}}, \\\\\\\\\\\\\"typeProperty\\\\\\\\\\\\\": 3}, {\\\\\\\\\\\\\"column\\\\\\\\\\\\\": {\\\\\\\\\\\\\"type\\\\\\\\\\\\\": 2, \\\\\\\\\\\\\"details\\\\\\\\\\\\\": {\\\\\\\\\\\\\"selectedColumn\\\\\\\\\\\\\": \\\\\\\\\\\\\"sqft_living\\\\\\\\\\\\\"}}, \\\\\\\\\\\\\"typeProperty\\\\\\\\\\\\\": 2}, {\\\\\\\\\\\\\"column\\\\\\\\\\\\\": {\\\\\\\\\\\\\"type\\\\\\\\\\\\\": 2, \\\\\\\\\\\\\"details\\\\\\\\\\\\\": {\\\\\\\\\\\\\"selectedColumn\\\\\\\\\\\\\": \\\\\\\\\\\\\"sqft_lot\\\\\\\\\\\\\"}}, \\\\\\\\\\\\\"typeProperty\\\\\\\\\\\\\": 2}, {\\\\\\\\\\\\\"column\\\\\\\\\\\\\": {\\\\\\\\\\\\\"type\\\\\\\\\\\\\": 2, \\\\\\\\\\\\\"details\\\\\\\\\\\\\": {\\\\\\\\\\\\\"selectedColumn\\\\\\\\\\\\\": \\\\\\\\\\\\\"floors\\\\\\\\\\\\\"}}, \\\\\\\\\\\\\"typeProperty\\\\\\\\\\\\\": 3}, {\\\\\\\\\\\\\"column\\\\\\\\\\\\\": {\\\\\\\\\\\\\"type\\\\\\\\\\\\\": 2, \\\\\\\\\\\\\"details\\\\\\\\\\\\\": {\\\\\\\\\\\\\"selectedColumn\\\\\\\\\\\\\": \\\\\\\\\\\\\"waterfront\\\\\\\\\\\\\"}}, \\\\\\\\\\\\\"typeProperty\\\\\\\\\\\\\": 2}, {\\\\\\\\\\\\\"column\\\\\\\\\\\\\": {\\\\\\\\\\\\\"type\\\\\\\\\\\\\": 2, \\\\\\\\\\\\\"details\\\\\\\\\\\\\": {\\\\\\\\\\\\\"selectedColumn\\\\\\\\\\\\\": \\\\\\\\\\\\\"view\\\\\\\\\\\\\"}}, \\\\\\\\\\\\\"typeProperty\\\\\\\\\\\\\": 2}, {\\\\\\\\\\\\\"column\\\\\\\\\\\\\": {\\\\\\\\\\\\\"type\\\\\\\\\\\\\": 2, \\\\\\\\\\\\\"details\\\\\\\\\\\\\": {\\\\\\\\\\\\\"selectedColumn\\\\\\\\\\\\\": \\\\\\\\\\\\\"condition\\\\\\\\\\\\\"}}, \\\\\\\\\\\\\"typeProperty\\\\\\\\\\\\\": 2}, {\\\\\\\\\\\\\"column\\\\\\\\\\\\\": {\\\\\\\\\\\\\"type\\\\\\\\\\\\\": 2, \\\\\\\\\\\\\"details\\\\\\\\\\\\\": {\\\\\\\\\\\\\"selectedColumn\\\\\\\\\\\\\": \\\\\\\\\\\\\"grade\\\\\\\\\\\\\"}}, \\\\\\\\\\\\\"typeProperty\\\\\\\\\\\\\": 2}, {\\\\\\\\\\\\\"column\\\\\\\\\\\\\": {\\\\\\\\\\\\\"type\\\\\\\\\\\\\": 2, \\\\\\\\\\\\\"details\\\\\\\\\\\\\": {\\\\\\\\\\\\\"selectedColumn\\\\\\\\\\\\\": \\\\\\\\\\\\\"sqft_above\\\\\\\\\\\\\"}}, \\\\\\\\\\\\\"typeProperty\\\\\\\\\\\\\": 2}, {\\\\\\\\\\\\\"column\\\\\\\\\\\\\": {\\\\\\\\\\\\\"type\\\\\\\\\\\\\": 2, \\\\\\\\\\\\\"details\\\\\\\\\\\\\": {\\\\\\\\\\\\\"selectedColumn\\\\\\\\\\\\\": \\\\\\\\\\\\\"sqft_basement\\\\\\\\\\\\\"}}, \\\\\\\\\\\\\"typeProperty\\\\\\\\\\\\\": 2}, {\\\\\\\\\\\\\"column\\\\\\\\\\\\\": {\\\\\\\\\\\\\"type\\\\\\\\\\\\\": 2, \\\\\\\\\\\\\"details\\\\\\\\\\\\\": {\\\\\\\\\\\\\"selectedColumn\\\\\\\\\\\\\": \\\\\\\\\\\\\"yr_built\\\\\\\\\\\\\"}}, \\\\\\\\\\\\\"typeProperty\\\\\\\\\\\\\": 2}, {\\\\\\\\\\\\\"column\\\\\\\\\\\\\": {\\\\\\\\\\\\\"type\\\\\\\\\\\\\": 2, \\\\\\\\\\\\\"details\\\\\\\\\\\\\": {\\\\\\\\\\\\\"selectedColumn\\\\\\\\\\\\\": \\\\\\\\\\\\\"yr_renovated\\\\\\\\\\\\\"}}, \\\\\\\\\\\\\"typeProperty\\\\\\\\\\\\\": 2}, {\\\\\\\\\\\\\"column\\\\\\\\\\\\\": {\\\\\\\\\\\\\"type\\\\\\\\\\\\\": 2, \\\\\\\\\\\\\"details\\\\\\\\\\\\\": {\\\\\\\\\\\\\"selectedColumn\\\\\\\\\\\\\": \\\\\\\\\\\\\"zipcode\\\\\\\\\\\\\"}}, \\\\\\\\\\\\\"typeProperty\\\\\\\\\\\\\": 2}, {\\\\\\\\\\\\\"column\\\\\\\\\\\\\": {\\\\\\\\\\\\\"type\\\\\\\\\\\\\": 2, \\\\\\\\\\\\\"details\\\\\\\\\\\\\": {\\\\\\\\\\\\\"selectedColumn\\\\\\\\\\\\\": \\\\\\\\\\\\\"lat\\\\\\\\\\\\\"}}, \\\\\\\\\\\\\"typeProperty\\\\\\\\\\\\\": 3}, {\\\\\\\\\\\\\"column\\\\\\\\\\\\\": {\\\\\\\\\\\\\"type\\\\\\\\\\\\\": 2, \\\\\\\\\\\\\"details\\\\\\\\\\\\\": {\\\\\\\\\\\\\"selectedColumn\\\\\\\\\\\\\": \\\\\\\\\\\\\"long\\\\\\\\\\\\\"}}, \\\\\\\\\\\\\"typeProperty\\\\\\\\\\\\\": 3}, {\\\\\\\\\\\\\"column\\\\\\\\\\\\\": {\\\\\\\\\\\\\"type\\\\\\\\\\\\\": 2, \\\\\\\\\\\\\"details\\\\\\\\\\\\\": {\\\\\\\\\\\\\"selectedColumn\\\\\\\\\\\\\": \\\\\\\\\\\\\"sqft_living15\\\\\\\\\\\\\"}}, \\\\\\\\\\\\\"typeProperty\\\\\\\\\\\\\": 2}, {\\\\\\\\\\\\\"column\\\\\\\\\\\\\": {\\\\\\\\\\\\\"type\\\\\\\\\\\\\": 2, \\\\\\\\\\\\\"details\\\\\\\\\\\\\": {\\\\\\\\\\\\\"selectedColumn\\\\\\\\\\\\\": \\\\\\\\\\\\\"sqft_lot15\\\\\\\\\\\\\"}}, \\\\\\\\\\\\\"typeProperty\\\\\\\\\\\\\": 2}]}, \\\\\\\\\\\\\"localData\\\\\\\\\\\\\": {}, \\\\\\\\\\\\\"isEnabled\\\\\\\\\\\\\": true, \\\\\\\\\\\\\"name\\\\\\\\\\\\\": null, \\\\\\\\\\\\\"annotation\\\\\\\\\\\\\": null}], \\\\\\\\\\\\\"inspectors\\\\\\\\\\\\\": [], \\\\\\\\\\\\\"meta\\\\\\\\\\\\\": {\\\\\\\\\\\\\"savedDatasetId\\\\\\\\\\\\\": \\\\\\\\\\\\\"7824299a-2aba-45aa-8ca2-20221851fe5a\\\\\\\\\\\\\", \\\\\\\\\\\\\"datasetType\\\\\\\\\\\\\": \\\\\\\\\\\\\"tabular\\\\\\\\\\\\\", \\\\\\\\\\\\\"subscriptionId\\\\\\\\\\\\\": \\\\\\\\\\\\\"5a4ab2ba-6c51-4805-8155-58759ad589d8\\\\\\\\\\\\\", \\\\\\\\\\\\\"workspaceId\\\\\\\\\\\\\": \\\\\\\\\\\\\"bac34b6c-3822-47e9-ad4c-8a2c85c069dc\\\\\\\\\\\\\", \\\\\\\\\\\\\"workspaceLocation\\\\\\\\\\\\\": \\\\\\\\\\\\\"southcentralus\\\\\\\\\\\\\"}}\\\\\", \\\\\"activities\\\\\": 0}',\n",
       "  'EnableSubsampling': None,\n",
       "  'runTemplate': 'AutoML',\n",
       "  'azureml.runsource': 'automl',\n",
       "  'display_task_type': 'regression',\n",
       "  'dependencies_versions': '{\"azureml-widgets\": \"1.20.0\", \"azureml-train\": \"1.20.0\", \"azureml-train-restclients-hyperdrive\": \"1.20.0\", \"azureml-train-core\": \"1.20.0\", \"azureml-train-automl\": \"1.20.0\", \"azureml-train-automl-runtime\": \"1.20.0\", \"azureml-train-automl-client\": \"1.20.0\", \"azureml-tensorboard\": \"1.20.0\", \"azureml-telemetry\": \"1.20.0\", \"azureml-sdk\": \"1.20.0\", \"azureml-samples\": \"0+unknown\", \"azureml-pipeline\": \"1.20.0\", \"azureml-pipeline-steps\": \"1.20.0\", \"azureml-pipeline-core\": \"1.20.0\", \"azureml-opendatasets\": \"1.20.0\", \"azureml-model-management-sdk\": \"1.0.1b6.post1\", \"azureml-mlflow\": \"1.20.0.post1\", \"azureml-interpret\": \"1.20.0\", \"azureml-explain-model\": \"1.20.0\", \"azureml-defaults\": \"1.20.0\", \"azureml-dataset-runtime\": \"1.20.0\", \"azureml-dataprep\": \"2.7.3\", \"azureml-dataprep-rslex\": \"1.5.0\", \"azureml-dataprep-native\": \"27.0.0\", \"azureml-datadrift\": \"1.20.0\", \"azureml-core\": \"1.20.0\", \"azureml-contrib-services\": \"1.20.0\", \"azureml-contrib-server\": \"1.20.0\", \"azureml-contrib-reinforcementlearning\": \"1.20.0\", \"azureml-contrib-pipeline-steps\": \"1.20.0\", \"azureml-contrib-notebook\": \"1.20.0\", \"azureml-contrib-interpret\": \"1.20.0\", \"azureml-contrib-gbdt\": \"1.20.0\", \"azureml-contrib-fairness\": \"1.20.0\", \"azureml-contrib-dataset\": \"1.20.0\", \"azureml-cli-common\": \"1.20.0\", \"azureml-automl-runtime\": \"1.20.0\", \"azureml-automl-core\": \"1.20.0\", \"azureml-accel-models\": \"1.20.0\"}',\n",
       "  '_aml_system_scenario_identification': 'Remote.Parent',\n",
       "  'ClientType': 'SDK',\n",
       "  'environment_cpu_name': 'AzureML-AutoML',\n",
       "  'environment_cpu_label': 'prod',\n",
       "  'environment_gpu_name': 'AzureML-AutoML-GPU',\n",
       "  'environment_gpu_label': 'prod',\n",
       "  'root_attribution': 'automl',\n",
       "  'attribution': 'AutoML',\n",
       "  'Orchestrator': 'AutoML',\n",
       "  'CancelUri': 'https://southcentralus.experiments.azureml.net/jasmine/v1.0/subscriptions/5a4ab2ba-6c51-4805-8155-58759ad589d8/resourceGroups/aml-quickstarts-138714/providers/Microsoft.MachineLearningServices/workspaces/quick-starts-ws-138714/experimentids/c38a01f3-2b2e-4c21-a977-db9291695f34/cancel/AutoML_b9d7d298-0956-4f81-8e0d-86aef7096950',\n",
       "  'ClientSdkVersion': '1.21.0',\n",
       "  'snapshotId': '00000000-0000-0000-0000-000000000000',\n",
       "  'SetupRunId': 'AutoML_b9d7d298-0956-4f81-8e0d-86aef7096950_setup',\n",
       "  'SetupRunContainerId': 'dcid.AutoML_b9d7d298-0956-4f81-8e0d-86aef7096950_setup',\n",
       "  'FeaturizationRunJsonPath': 'featurizer_container.json',\n",
       "  'FeaturizationRunId': 'AutoML_b9d7d298-0956-4f81-8e0d-86aef7096950_featurize',\n",
       "  'ProblemInfoJsonString': '{\"dataset_num_categorical\": 0, \"is_sparse\": true, \"subsampling\": false, \"dataset_classes\": 4028, \"dataset_features\": 45, \"dataset_samples\": 21613, \"single_frequency_class_detected\": false}',\n",
       "  'ModelExplainRunId': 'AutoML_b9d7d298-0956-4f81-8e0d-86aef7096950_ModelExplain'},\n",
       " 'inputDatasets': [{'dataset': {'id': '7824299a-2aba-45aa-8ca2-20221851fe5a'}, 'consumptionDetails': {'type': 'RunInput', 'inputName': 'training_data', 'mechanism': 'Direct'}}],\n",
       " 'outputDatasets': [],\n",
       " 'logFiles': {},\n",
       " 'submittedBy': 'ODL_User 138714'}"
      ]
     },
     "execution_count": 11,
     "metadata": {},
     "output_type": "execute_result"
    }
   ],
   "source": [
    "remote_run.wait_for_completion(show_output=True)"
   ]
  },
  {
   "cell_type": "markdown",
   "metadata": {},
   "source": [
    "## Best Model\n",
    "\n",
    "TODO: In the cell below, get the best model from the automl experiments and display all the properties of the model.\n",
    "\n"
   ]
  },
  {
   "cell_type": "code",
   "execution_count": 12,
   "metadata": {
    "gather": {
     "logged": 1598431425670
    },
    "jupyter": {
     "outputs_hidden": false,
     "source_hidden": false
    },
    "nteract": {
     "transient": {
      "deleting": false
     }
    }
   },
   "outputs": [
    {
     "name": "stderr",
     "output_type": "stream",
     "text": [
      "WARNING:root:The version of the SDK does not match the version the model was trained on.\n",
      "WARNING:root:The consistency in the result may not be guaranteed.\n",
      "WARNING:root:Package:azureml-automl-core, training version:1.21.0, current version:1.20.0\n",
      "Package:azureml-automl-runtime, training version:1.21.0, current version:1.20.0\n",
      "Package:azureml-core, training version:1.21.0.post1, current version:1.20.0\n",
      "Package:azureml-dataprep, training version:2.8.2, current version:2.7.3\n",
      "Package:azureml-dataprep-native, training version:28.0.0, current version:27.0.0\n",
      "Package:azureml-dataprep-rslex, training version:1.6.0, current version:1.5.0\n",
      "Package:azureml-dataset-runtime, training version:1.21.0, current version:1.20.0\n",
      "Package:azureml-defaults, training version:1.21.0, current version:1.20.0\n",
      "Package:azureml-interpret, training version:1.21.0, current version:1.20.0\n",
      "Package:azureml-pipeline-core, training version:1.21.0, current version:1.20.0\n",
      "Package:azureml-telemetry, training version:1.21.0, current version:1.20.0\n",
      "Package:azureml-train-automl-client, training version:1.21.0, current version:1.20.0\n",
      "Package:azureml-train-automl-runtime, training version:1.21.0, current version:1.20.0\n",
      "WARNING:root:Please ensure the version of your local conda dependencies match the version on which your model was trained in order to properly retrieve your model.\n"
     ]
    },
    {
     "data": {
      "text/plain": [
       "PreFittedSoftVotingRegressor(estimators=[('0',\n",
       "                                          Pipeline(memory=None,\n",
       "                                                   steps=[('maxabsscaler',\n",
       "                                                           MaxAbsScaler(copy=True)),\n",
       "                                                          ('lightgbmregressor',\n",
       "                                                           LightGBMRegressor(boosting_type='gbdt',\n",
       "                                                                             class_weight=None,\n",
       "                                                                             colsample_bytree=1.0,\n",
       "                                                                             importance_type='split',\n",
       "                                                                             learning_rate=0.1,\n",
       "                                                                             max_depth=-1,\n",
       "                                                                             min_child_samples=20,\n",
       "                                                                             min_child_weight=0.001,\n",
       "                                                                             min_split_gain=0.0,\n",
       "                                                                             n_estimators=100,\n",
       "                                                                             n...\n",
       "                                                                            learning_rate=0.1,\n",
       "                                                                            max_delta_step=0,\n",
       "                                                                            max_depth=3,\n",
       "                                                                            min_child_weight=1,\n",
       "                                                                            missing=nan,\n",
       "                                                                            n_estimators=100,\n",
       "                                                                            n_jobs=-1,\n",
       "                                                                            nthread=None,\n",
       "                                                                            objective='reg:squarederror',\n",
       "                                                                            random_state=0,\n",
       "                                                                            reg_alpha=0,\n",
       "                                                                            reg_lambda=1,\n",
       "                                                                            scale_pos_weight=1,\n",
       "                                                                            seed=None,\n",
       "                                                                            silent=None,\n",
       "                                                                            subsample=1,\n",
       "                                                                            tree_method='auto',\n",
       "                                                                            verbose=-10,\n",
       "                                                                            verbosity=0))],\n",
       "                                                   verbose=False))],\n",
       "                             weights=[0.8571428571428571, 0.14285714285714285])"
      ]
     },
     "execution_count": 12,
     "metadata": {},
     "output_type": "execute_result"
    }
   ],
   "source": [
    "best_auto_run, best_auto_model = remote_run.get_output()\n",
    "best_auto_model._final_estimator"
   ]
  },
  {
   "cell_type": "code",
   "execution_count": 13,
   "metadata": {},
   "outputs": [],
   "source": [
    "#TODO: Save the best model\n",
    "\n",
    "model_name = \"automl_model.pkl\"\n",
    "with open(model_name, 'wb') as f:\n",
    "    pickle.dump(best_auto_model,f)"
   ]
  },
  {
   "cell_type": "code",
   "execution_count": null,
   "metadata": {
    "gather": {
     "logged": 1598431426111
    },
    "jupyter": {
     "outputs_hidden": false,
     "source_hidden": false
    },
    "nteract": {
     "transient": {
      "deleting": false
     }
    }
   },
   "outputs": [],
   "source": []
  },
  {
   "cell_type": "markdown",
   "metadata": {},
   "source": [
    "## Model Deployment\n",
    "\n",
    "\n"
   ]
  },
  {
   "cell_type": "code",
   "execution_count": 14,
   "metadata": {},
   "outputs": [
    {
     "name": "stdout",
     "output_type": "stream",
     "text": [
      "Registering model houseprice_prediction\n"
     ]
    }
   ],
   "source": [
    "model = Model.register(ws, model_path='./automl_model.pkl', model_name='houseprice_prediction')"
   ]
  },
  {
   "cell_type": "code",
   "execution_count": 15,
   "metadata": {},
   "outputs": [],
   "source": [
    "env = best_auto_run.get_environment()\n",
    "inference_config = InferenceConfig(entry_script = \"score.py\", environment = env)\n",
    "deployment_config = AciWebservice.deploy_configuration(cpu_cores = 1, memory_gb = 1)"
   ]
  },
  {
   "cell_type": "code",
   "execution_count": null,
   "metadata": {
    "gather": {
     "logged": 1598431435189
    },
    "jupyter": {
     "outputs_hidden": false,
     "source_hidden": false
    },
    "nteract": {
     "transient": {
      "deleting": false
     }
    }
   },
   "outputs": [],
   "source": [
    "# env = best_auto_run.get_environment()\n",
    "# entry_script='score.py'\n",
    "# best_auto_run.download_file('outputs/scoring_file_v_1_0_0.py', entry_script)"
   ]
  },
  {
   "cell_type": "code",
   "execution_count": null,
   "metadata": {
    "gather": {
     "logged": 1598432707604
    },
    "jupyter": {
     "outputs_hidden": false,
     "source_hidden": false
    },
    "nteract": {
     "transient": {
      "deleting": false
     }
    }
   },
   "outputs": [],
   "source": [
    "# model = remote_run.register_model(model_name=best_auto_run.properties['model_name'], \n",
    "#                                            description='AutoML model')\n",
    "# inference_config = InferenceConfig(entry_script = entry_script, environment = env)\n",
    "#  deployment_config = AciWebservice.deploy_configuration(cpu_cores = 1, memory_gb = 1)"
   ]
  },
  {
   "cell_type": "code",
   "execution_count": 19,
   "metadata": {},
   "outputs": [
    {
     "name": "stdout",
     "output_type": "stream",
     "text": [
      "Tips: You can try get_logs(): https://aka.ms/debugimage#dockerlog or local deployment: https://aka.ms/debugimage#debug-locally to debug if deployment takes longer than 10 minutes.\n",
      "Running......................................\n",
      "Succeeded\n",
      "ACI service creation operation finished, operation \"Succeeded\"\n",
      "State: Healthy\n",
      "Scoring URI: http://c3459647-297c-4f7d-84bb-88d7239127c9.southcentralus.azurecontainer.io/score\n"
     ]
    }
   ],
   "source": [
    "service = Model.deploy(ws,'deploy1',[model], inference_config, deployment_config)\n",
    "service.wait_for_deployment(True)\n",
    "print(\"State: \" + service.state)\n",
    "print(\"Scoring URI: \" + service.scoring_uri)"
   ]
  },
  {
   "cell_type": "code",
   "execution_count": 20,
   "metadata": {
    "jupyter": {
     "outputs_hidden": false,
     "source_hidden": false
    },
    "nteract": {
     "transient": {
      "deleting": false
     }
    }
   },
   "outputs": [
    {
     "name": "stdout",
     "output_type": "stream",
     "text": [
      "{\"result\": [248290.61697906838, 826442.737010149]}\n"
     ]
    }
   ],
   "source": [
    "%run endpoint.py"
   ]
  },
  {
   "cell_type": "code",
   "execution_count": 21,
   "metadata": {},
   "outputs": [
    {
     "data": {
      "text/plain": [
       "'2021-02-12T18:30:07,802688956+00:00 - iot-server/run \\n2021-02-12T18:30:07,804193652+00:00 - gunicorn/run \\n2021-02-12T18:30:07,806289287+00:00 - rsyslog/run \\n2021-02-12T18:30:07,810555862+00:00 - nginx/run \\n/usr/sbin/nginx: /azureml-envs/azureml_20a8278aa8b20dd48cc50f56a6d2586c/lib/libcrypto.so.1.0.0: no version information available (required by /usr/sbin/nginx)\\n/usr/sbin/nginx: /azureml-envs/azureml_20a8278aa8b20dd48cc50f56a6d2586c/lib/libcrypto.so.1.0.0: no version information available (required by /usr/sbin/nginx)\\n/usr/sbin/nginx: /azureml-envs/azureml_20a8278aa8b20dd48cc50f56a6d2586c/lib/libssl.so.1.0.0: no version information available (required by /usr/sbin/nginx)\\n/usr/sbin/nginx: /azureml-envs/azureml_20a8278aa8b20dd48cc50f56a6d2586c/lib/libssl.so.1.0.0: no version information available (required by /usr/sbin/nginx)\\n/usr/sbin/nginx: /azureml-envs/azureml_20a8278aa8b20dd48cc50f56a6d2586c/lib/libssl.so.1.0.0: no version information available (required by /usr/sbin/nginx)\\nrsyslogd: /azureml-envs/azureml_20a8278aa8b20dd48cc50f56a6d2586c/lib/libuuid.so.1: no version information available (required by rsyslogd)\\nEdgeHubConnectionString and IOTEDGE_IOTHUBHOSTNAME are not set. Exiting...\\n2021-02-12T18:30:07,948092110+00:00 - iot-server/finish 1 0\\n2021-02-12T18:30:07,950540868+00:00 - Exit code 1 is normal. Not restarting iot-server.\\nStarting gunicorn 19.9.0\\nListening at: http://127.0.0.1:31311 (12)\\nUsing worker: sync\\nworker timeout is set to 300\\nBooting worker with pid: 43\\nSPARK_HOME not set. Skipping PySpark Initialization.\\nGenerating new fontManager, this may take some time...\\nInitializing logger\\n2021-02-12 18:30:09,059 | root | INFO | Starting up app insights client\\n2021-02-12 18:30:09,059 | root | INFO | Starting up request id generator\\n2021-02-12 18:30:09,059 | root | INFO | Starting up app insight hooks\\n2021-02-12 18:30:09,059 | root | INFO | Invoking user\\'s init function\\n2021-02-12 18:30:11,509 | root | INFO | Users\\'s init has completed successfully\\n2021-02-12 18:30:11,548 | root | INFO | Skipping middleware: dbg_model_info as it\\'s not enabled.\\n2021-02-12 18:30:11,548 | root | INFO | Skipping middleware: dbg_resource_usage as it\\'s not enabled.\\n2021-02-12 18:30:11,551 | root | INFO | Scoring timeout is found from os.environ: 60000 ms\\n2021-02-12 18:30:17,313 | root | INFO | Swagger file not present\\n2021-02-12 18:30:17,313 | root | INFO | 404\\n127.0.0.1 - - [12/Feb/2021:18:30:17 +0000] \"GET /swagger.json HTTP/1.0\" 404 19 \"-\" \"Go-http-client/1.1\"\\n2021-02-12 18:30:22,925 | root | INFO | Swagger file not present\\n2021-02-12 18:30:22,925 | root | INFO | 404\\n127.0.0.1 - - [12/Feb/2021:18:30:22 +0000] \"GET /swagger.json HTTP/1.0\" 404 19 \"-\" \"Go-http-client/1.1\"\\n2021-02-12 18:31:08,822 | root | INFO | Validation Request Content-Type\\n2021-02-12 18:31:08,822 | root | INFO | Scoring Timer is set to 60.0 seconds\\n2021-02-12 18:31:08,862 | root | INFO | 200\\n127.0.0.1 - - [12/Feb/2021:18:31:08 +0000] \"POST /score HTTP/1.0\" 200 54 \"-\" \"python-requests/2.25.1\"\\n'"
      ]
     },
     "execution_count": 21,
     "metadata": {},
     "output_type": "execute_result"
    }
   ],
   "source": [
    "service.get_logs()"
   ]
  },
  {
   "cell_type": "code",
   "execution_count": 22,
   "metadata": {},
   "outputs": [],
   "source": [
    "service.update(enable_app_insights=True)"
   ]
  },
  {
   "cell_type": "code",
   "execution_count": 25,
   "metadata": {},
   "outputs": [],
   "source": [
    "service.delete()"
   ]
  }
 ],
 "metadata": {
  "kernel_info": {
   "name": "python3"
  },
  "kernelspec": {
   "display_name": "Python 3",
   "language": "python",
   "name": "python3"
  },
  "language_info": {
   "codemirror_mode": {
    "name": "ipython",
    "version": 3
   },
   "file_extension": ".py",
   "mimetype": "text/x-python",
   "name": "python",
   "nbconvert_exporter": "python",
   "pygments_lexer": "ipython3",
   "version": "3.6.9"
  },
  "nteract": {
   "version": "nteract-front-end@1.0.0"
  }
 },
 "nbformat": 4,
 "nbformat_minor": 2
}
