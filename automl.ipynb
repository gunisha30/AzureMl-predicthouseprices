{
 "cells": [
  {
   "cell_type": "markdown",
   "metadata": {},
   "source": [
    "# Automated ML\n",
    "\n",
    "TODO: Import Dependencies. In the cell below, import all the dependencies that you will need to complete the project."
   ]
  },
  {
   "cell_type": "code",
   "execution_count": 2,
   "metadata": {
    "gather": {
     "logged": 1598423888013
    },
    "jupyter": {
     "outputs_hidden": false,
     "source_hidden": false
    },
    "nteract": {
     "transient": {
      "deleting": false
     }
    }
   },
   "outputs": [],
   "source": [
    "from azureml.core import Workspace, Experiment, Dataset\n",
    "from azureml.core.compute import ComputeTarget, AmlCompute\n",
    "from azureml.core.compute_target import ComputeTargetException\n",
    "from azureml.train.automl.utilities import get_primary_metrics\n",
    "from azureml.train.automl import AutoMLConfig\n",
    "from azureml.pipeline.steps import AutoMLStep\n",
    "from azureml.widgets import RunDetails\n",
    "import joblib \n",
    "from azureml.core.environment import Environment\n",
    "from azureml.core.model import InferenceConfig, Model\n",
    "from azureml.core.webservice.aci import AciWebservice\n",
    "from azureml.core.webservice import Webservice\n",
    "import os\n",
    "import pandas as pd"
   ]
  },
  {
   "cell_type": "markdown",
   "metadata": {},
   "source": [
    "## Dataset\n",
    "\n",
    "### Overview\n",
    "\n",
    "Task- Prediction of house prices in King County (A regression problem)\n",
    "Data- Dataset has been taken from: https://www.kaggle.com/harlfoxem/housesalesprediction"
   ]
  },
  {
   "cell_type": "code",
   "execution_count": 3,
   "metadata": {
    "gather": {
     "logged": 1598423890461
    },
    "jupyter": {
     "outputs_hidden": false,
     "source_hidden": false
    },
    "nteract": {
     "transient": {
      "deleting": false
     }
    }
   },
   "outputs": [],
   "source": [
    "ws = Workspace.from_config()\n",
    "\n",
    "# choose a name for experiment\n",
    "experiment_name = 'exp1'\n",
    "\n",
    "experiment=Experiment(ws, experiment_name)"
   ]
  },
  {
   "cell_type": "code",
   "execution_count": 4,
   "metadata": {},
   "outputs": [
    {
     "name": "stdout",
     "output_type": "stream",
     "text": [
      "Cluster exists\n"
     ]
    }
   ],
   "source": [
    "try:\n",
    "    cluster = ComputeTarget(workspace=ws, name=\"compute11\")\n",
    "    print(\"Cluster exists\")\n",
    "except:\n",
    "    config = AmlCompute.provisioning_configuration(vm_size='STANDARD_D2_V2', max_nodes=4)\n",
    "    cluster = ComputeTarget.create(ws, \"compute11\", config)\n",
    "\n",
    "cluster.wait_for_completion()"
   ]
  },
  {
   "cell_type": "code",
   "execution_count": 5,
   "metadata": {},
   "outputs": [],
   "source": [
    "train_data = Dataset.get_by_name(ws, name=\"housedata\")"
   ]
  },
  {
   "cell_type": "code",
   "execution_count": 6,
   "metadata": {},
   "outputs": [
    {
     "data": {
      "text/html": [
       "<div>\n",
       "<style scoped>\n",
       "    .dataframe tbody tr th:only-of-type {\n",
       "        vertical-align: middle;\n",
       "    }\n",
       "\n",
       "    .dataframe tbody tr th {\n",
       "        vertical-align: top;\n",
       "    }\n",
       "\n",
       "    .dataframe thead th {\n",
       "        text-align: right;\n",
       "    }\n",
       "</style>\n",
       "<table border=\"1\" class=\"dataframe\">\n",
       "  <thead>\n",
       "    <tr style=\"text-align: right;\">\n",
       "      <th></th>\n",
       "      <th>price</th>\n",
       "      <th>bedrooms</th>\n",
       "      <th>bathrooms</th>\n",
       "      <th>sqft_living</th>\n",
       "      <th>sqft_lot</th>\n",
       "      <th>floors</th>\n",
       "      <th>view</th>\n",
       "      <th>condition</th>\n",
       "      <th>grade</th>\n",
       "      <th>sqft_above</th>\n",
       "      <th>sqft_basement</th>\n",
       "      <th>yr_built</th>\n",
       "      <th>lat</th>\n",
       "      <th>long</th>\n",
       "      <th>sqft_living15</th>\n",
       "      <th>sqft_lot15</th>\n",
       "    </tr>\n",
       "  </thead>\n",
       "  <tbody>\n",
       "    <tr>\n",
       "      <th>0</th>\n",
       "      <td>221900.0</td>\n",
       "      <td>3</td>\n",
       "      <td>1.00</td>\n",
       "      <td>1180</td>\n",
       "      <td>5650</td>\n",
       "      <td>1.0</td>\n",
       "      <td>0</td>\n",
       "      <td>3</td>\n",
       "      <td>7</td>\n",
       "      <td>1180</td>\n",
       "      <td>0</td>\n",
       "      <td>1955</td>\n",
       "      <td>47.5112</td>\n",
       "      <td>-122.257</td>\n",
       "      <td>1340</td>\n",
       "      <td>5650</td>\n",
       "    </tr>\n",
       "    <tr>\n",
       "      <th>1</th>\n",
       "      <td>538000.0</td>\n",
       "      <td>3</td>\n",
       "      <td>2.25</td>\n",
       "      <td>2570</td>\n",
       "      <td>7242</td>\n",
       "      <td>2.0</td>\n",
       "      <td>0</td>\n",
       "      <td>3</td>\n",
       "      <td>7</td>\n",
       "      <td>2170</td>\n",
       "      <td>400</td>\n",
       "      <td>1951</td>\n",
       "      <td>47.7210</td>\n",
       "      <td>-122.319</td>\n",
       "      <td>1690</td>\n",
       "      <td>7639</td>\n",
       "    </tr>\n",
       "    <tr>\n",
       "      <th>2</th>\n",
       "      <td>180000.0</td>\n",
       "      <td>2</td>\n",
       "      <td>1.00</td>\n",
       "      <td>770</td>\n",
       "      <td>10000</td>\n",
       "      <td>1.0</td>\n",
       "      <td>0</td>\n",
       "      <td>3</td>\n",
       "      <td>6</td>\n",
       "      <td>770</td>\n",
       "      <td>0</td>\n",
       "      <td>1933</td>\n",
       "      <td>47.7379</td>\n",
       "      <td>-122.233</td>\n",
       "      <td>2720</td>\n",
       "      <td>8062</td>\n",
       "    </tr>\n",
       "    <tr>\n",
       "      <th>3</th>\n",
       "      <td>604000.0</td>\n",
       "      <td>4</td>\n",
       "      <td>3.00</td>\n",
       "      <td>1960</td>\n",
       "      <td>5000</td>\n",
       "      <td>1.0</td>\n",
       "      <td>0</td>\n",
       "      <td>5</td>\n",
       "      <td>7</td>\n",
       "      <td>1050</td>\n",
       "      <td>910</td>\n",
       "      <td>1965</td>\n",
       "      <td>47.5208</td>\n",
       "      <td>-122.393</td>\n",
       "      <td>1360</td>\n",
       "      <td>5000</td>\n",
       "    </tr>\n",
       "    <tr>\n",
       "      <th>4</th>\n",
       "      <td>510000.0</td>\n",
       "      <td>3</td>\n",
       "      <td>2.00</td>\n",
       "      <td>1680</td>\n",
       "      <td>8080</td>\n",
       "      <td>1.0</td>\n",
       "      <td>0</td>\n",
       "      <td>3</td>\n",
       "      <td>8</td>\n",
       "      <td>1680</td>\n",
       "      <td>0</td>\n",
       "      <td>1987</td>\n",
       "      <td>47.6168</td>\n",
       "      <td>-122.045</td>\n",
       "      <td>1800</td>\n",
       "      <td>7503</td>\n",
       "    </tr>\n",
       "  </tbody>\n",
       "</table>\n",
       "</div>"
      ],
      "text/plain": [
       "      price  bedrooms  bathrooms  sqft_living  sqft_lot  floors  view  \\\n",
       "0  221900.0         3       1.00         1180      5650     1.0     0   \n",
       "1  538000.0         3       2.25         2570      7242     2.0     0   \n",
       "2  180000.0         2       1.00          770     10000     1.0     0   \n",
       "3  604000.0         4       3.00         1960      5000     1.0     0   \n",
       "4  510000.0         3       2.00         1680      8080     1.0     0   \n",
       "\n",
       "   condition  grade  sqft_above  sqft_basement  yr_built      lat     long  \\\n",
       "0          3      7        1180              0      1955  47.5112 -122.257   \n",
       "1          3      7        2170            400      1951  47.7210 -122.319   \n",
       "2          3      6         770              0      1933  47.7379 -122.233   \n",
       "3          5      7        1050            910      1965  47.5208 -122.393   \n",
       "4          3      8        1680              0      1987  47.6168 -122.045   \n",
       "\n",
       "   sqft_living15  sqft_lot15  \n",
       "0           1340        5650  \n",
       "1           1690        7639  \n",
       "2           2720        8062  \n",
       "3           1360        5000  \n",
       "4           1800        7503  "
      ]
     },
     "execution_count": 6,
     "metadata": {},
     "output_type": "execute_result"
    }
   ],
   "source": [
    "train_data.take(5).to_pandas_dataframe()"
   ]
  },
  {
   "cell_type": "markdown",
   "metadata": {},
   "source": [
    "## AutoML Configuration\n",
    "\n",
    "The task specified is regression according to the problem statement. Metric is accuracy as its a good way to evaluate the model. Cross validation helps to prevent overfitting of the model. Concurrent iterations has been set to 4 and its value has to be less than or equal to the number of nodes provided during creation of compute cluster."
   ]
  },
  {
   "cell_type": "code",
   "execution_count": 7,
   "metadata": {},
   "outputs": [],
   "source": [
    "automl_settings = {\n",
    "    \"experiment_timeout_minutes\": 30,\n",
    "    \"task\": \"regression\", \n",
    "    \"primary_metric\": \"mean_absolute_error\",\n",
    "    \"training_data\": train_data,\n",
    "    \"label_column_name\": \"price\",\n",
    "    \"n_cross_validations\": 3,\n",
    "    \"enable_early_stopping\": True,\n",
    "    \"max_cores_per_iteration\": -1,\n",
    "    \"max_concurrent_iterations\": 4,\n",
    "    \"compute_target\": cluster\n",
    "}\n",
    "\n",
    "\n",
    "automl_config = AutoMLConfig(**automl_settings)"
   ]
  },
  {
   "cell_type": "code",
   "execution_count": 8,
   "metadata": {
    "gather": {
     "logged": 1598431107951
    },
    "jupyter": {
     "outputs_hidden": false,
     "source_hidden": false
    },
    "nteract": {
     "transient": {
      "deleting": false
     }
    }
   },
   "outputs": [
    {
     "name": "stdout",
     "output_type": "stream",
     "text": [
      "Running on remote.\n"
     ]
    }
   ],
   "source": [
    "# TODO: Submit your experiment\n",
    "remote_run = experiment.submit(automl_config)"
   ]
  },
  {
   "cell_type": "markdown",
   "metadata": {},
   "source": [
    "## Run Details\n",
    "\n",
    "OPTIONAL: Write about the different models trained and their performance. Why do you think some models did better than others?\n",
    "\n",
    "TODO: In the cell below, use the `RunDetails` widget to show the different experiments."
   ]
  },
  {
   "cell_type": "code",
   "execution_count": 9,
   "metadata": {
    "gather": {
     "logged": 1598431121770
    },
    "jupyter": {
     "outputs_hidden": false,
     "source_hidden": false
    },
    "nteract": {
     "transient": {
      "deleting": false
     }
    }
   },
   "outputs": [
    {
     "data": {
      "application/vnd.jupyter.widget-view+json": {
       "model_id": "0ba781758c4f4c74b534a134291e0310",
       "version_major": 2,
       "version_minor": 0
      },
      "text/plain": [
       "_AutoMLWidget(widget_settings={'childWidgetDisplay': 'popup', 'send_telemetry': False, 'log_level': 'INFO', 's…"
      ]
     },
     "metadata": {},
     "output_type": "display_data"
    },
    {
     "data": {
      "application/aml.mini.widget.v1": "{\"status\": \"Completed\", \"workbench_run_details_uri\": \"https://ml.azure.com/experiments/exp1/runs/AutoML_6ba84f13-0ca5-4480-ab18-1a3e38889df2?wsid=/subscriptions/9b72f9e6-56c5-4c16-991b-19c652994860/resourcegroups/aml-quickstarts-138662/workspaces/quick-starts-ws-138662\", \"run_id\": \"AutoML_6ba84f13-0ca5-4480-ab18-1a3e38889df2\", \"run_properties\": {\"run_id\": \"AutoML_6ba84f13-0ca5-4480-ab18-1a3e38889df2\", \"created_utc\": \"2021-02-12T06:38:37.888837Z\", \"properties\": {\"num_iterations\": \"1000\", \"training_type\": \"TrainFull\", \"acquisition_function\": \"EI\", \"primary_metric\": \"normalized_root_mean_squared_error\", \"train_split\": \"0\", \"acquisition_parameter\": \"0\", \"num_cross_validation\": \"3\", \"target\": \"compute11\", \"AMLSettingsJsonString\": \"{\\\"path\\\":null,\\\"name\\\":\\\"exp1\\\",\\\"subscription_id\\\":\\\"9b72f9e6-56c5-4c16-991b-19c652994860\\\",\\\"resource_group\\\":\\\"aml-quickstarts-138662\\\",\\\"workspace_name\\\":\\\"quick-starts-ws-138662\\\",\\\"region\\\":\\\"southcentralus\\\",\\\"compute_target\\\":\\\"compute11\\\",\\\"spark_service\\\":null,\\\"azure_service\\\":\\\"remote\\\",\\\"many_models\\\":false,\\\"pipeline_fetch_max_batch_size\\\":1,\\\"iterations\\\":1000,\\\"primary_metric\\\":\\\"normalized_root_mean_squared_error\\\",\\\"task_type\\\":\\\"regression\\\",\\\"data_script\\\":null,\\\"validation_size\\\":0.0,\\\"n_cross_validations\\\":3,\\\"y_min\\\":null,\\\"y_max\\\":null,\\\"num_classes\\\":null,\\\"featurization\\\":\\\"auto\\\",\\\"_ignore_package_version_incompatibilities\\\":false,\\\"is_timeseries\\\":false,\\\"max_cores_per_iteration\\\":-1,\\\"max_concurrent_iterations\\\":4,\\\"iteration_timeout_minutes\\\":null,\\\"mem_in_mb\\\":null,\\\"enforce_time_on_windows\\\":false,\\\"experiment_timeout_minutes\\\":30,\\\"experiment_exit_score\\\":null,\\\"whitelist_models\\\":null,\\\"blacklist_algos\\\":[\\\"TensorFlowDNN\\\",\\\"TensorFlowLinearRegressor\\\"],\\\"supported_models\\\":[\\\"FastLinearRegressor\\\",\\\"SGD\\\",\\\"KNN\\\",\\\"ElasticNet\\\",\\\"LassoLars\\\",\\\"GradientBoosting\\\",\\\"DecisionTree\\\",\\\"LightGBM\\\",\\\"TensorFlowLinearRegressor\\\",\\\"ExtremeRandomTrees\\\",\\\"XGBoostRegressor\\\",\\\"TensorFlowDNN\\\",\\\"RandomForest\\\",\\\"OnlineGradientDescentRegressor\\\"],\\\"auto_blacklist\\\":true,\\\"blacklist_samples_reached\\\":false,\\\"exclude_nan_labels\\\":true,\\\"verbosity\\\":20,\\\"_debug_log\\\":\\\"azureml_automl.log\\\",\\\"show_warnings\\\":false,\\\"model_explainability\\\":true,\\\"service_url\\\":null,\\\"sdk_url\\\":null,\\\"sdk_packages\\\":null,\\\"enable_onnx_compatible_models\\\":false,\\\"enable_split_onnx_featurizer_estimator_models\\\":false,\\\"vm_type\\\":\\\"STANDARD_D2_V2\\\",\\\"telemetry_verbosity\\\":20,\\\"send_telemetry\\\":true,\\\"enable_dnn\\\":false,\\\"scenario\\\":\\\"SDK-1.13.0\\\",\\\"environment_label\\\":null,\\\"force_text_dnn\\\":false,\\\"enable_feature_sweeping\\\":true,\\\"enable_early_stopping\\\":true,\\\"early_stopping_n_iters\\\":10,\\\"metrics\\\":null,\\\"enable_ensembling\\\":true,\\\"enable_stack_ensembling\\\":true,\\\"ensemble_iterations\\\":15,\\\"enable_tf\\\":false,\\\"enable_subsampling\\\":null,\\\"subsample_seed\\\":null,\\\"enable_nimbusml\\\":false,\\\"enable_streaming\\\":false,\\\"force_streaming\\\":false,\\\"track_child_runs\\\":true,\\\"allowed_private_models\\\":[],\\\"label_column_name\\\":\\\"price\\\",\\\"weight_column_name\\\":null,\\\"cv_split_column_names\\\":null,\\\"enable_local_managed\\\":false,\\\"_local_managed_run_id\\\":null,\\\"cost_mode\\\":1,\\\"lag_length\\\":0,\\\"metric_operation\\\":\\\"minimize\\\",\\\"preprocess\\\":true}\", \"DataPrepJsonString\": \"{\\\\\\\"training_data\\\\\\\": \\\\\\\"{\\\\\\\\\\\\\\\"blocks\\\\\\\\\\\\\\\": [{\\\\\\\\\\\\\\\"id\\\\\\\\\\\\\\\": \\\\\\\\\\\\\\\"5acfe7ed-c005-4a3c-bb6c-d4e1ff3cbb3e\\\\\\\\\\\\\\\", \\\\\\\\\\\\\\\"type\\\\\\\\\\\\\\\": \\\\\\\\\\\\\\\"Microsoft.DPrep.GetDatastoreFilesBlock\\\\\\\\\\\\\\\", \\\\\\\\\\\\\\\"arguments\\\\\\\\\\\\\\\": {\\\\\\\\\\\\\\\"datastores\\\\\\\\\\\\\\\": [{\\\\\\\\\\\\\\\"datastoreName\\\\\\\\\\\\\\\": \\\\\\\\\\\\\\\"workspaceblobstore\\\\\\\\\\\\\\\", \\\\\\\\\\\\\\\"path\\\\\\\\\\\\\\\": \\\\\\\\\\\\\\\"UI/02-12-2021_061643_UTC/kc_house_data.csv\\\\\\\\\\\\\\\", \\\\\\\\\\\\\\\"resourceGroup\\\\\\\\\\\\\\\": \\\\\\\\\\\\\\\"aml-quickstarts-138662\\\\\\\\\\\\\\\", \\\\\\\\\\\\\\\"subscription\\\\\\\\\\\\\\\": \\\\\\\\\\\\\\\"9b72f9e6-56c5-4c16-991b-19c652994860\\\\\\\\\\\\\\\", \\\\\\\\\\\\\\\"workspaceName\\\\\\\\\\\\\\\": \\\\\\\\\\\\\\\"quick-starts-ws-138662\\\\\\\\\\\\\\\"}]}, \\\\\\\\\\\\\\\"localData\\\\\\\\\\\\\\\": {}, \\\\\\\\\\\\\\\"isEnabled\\\\\\\\\\\\\\\": true, \\\\\\\\\\\\\\\"name\\\\\\\\\\\\\\\": null, \\\\\\\\\\\\\\\"annotation\\\\\\\\\\\\\\\": null}, {\\\\\\\\\\\\\\\"id\\\\\\\\\\\\\\\": \\\\\\\\\\\\\\\"56e9db18-59aa-44fb-a9f9-ad51757d07bd\\\\\\\\\\\\\\\", \\\\\\\\\\\\\\\"type\\\\\\\\\\\\\\\": \\\\\\\\\\\\\\\"Microsoft.DPrep.ParseDelimitedBlock\\\\\\\\\\\\\\\", \\\\\\\\\\\\\\\"arguments\\\\\\\\\\\\\\\": {\\\\\\\\\\\\\\\"columnHeadersMode\\\\\\\\\\\\\\\": 1, \\\\\\\\\\\\\\\"fileEncoding\\\\\\\\\\\\\\\": 0, \\\\\\\\\\\\\\\"handleQuotedLineBreaks\\\\\\\\\\\\\\\": false, \\\\\\\\\\\\\\\"preview\\\\\\\\\\\\\\\": false, \\\\\\\\\\\\\\\"separator\\\\\\\\\\\\\\\": \\\\\\\\\\\\\\\",\\\\\\\\\\\\\\\", \\\\\\\\\\\\\\\"skipRows\\\\\\\\\\\\\\\": 0, \\\\\\\\\\\\\\\"skipRowsMode\\\\\\\\\\\\\\\": 0}, \\\\\\\\\\\\\\\"localData\\\\\\\\\\\\\\\": {}, \\\\\\\\\\\\\\\"isEnabled\\\\\\\\\\\\\\\": true, \\\\\\\\\\\\\\\"name\\\\\\\\\\\\\\\": null, \\\\\\\\\\\\\\\"annotation\\\\\\\\\\\\\\\": null}, {\\\\\\\\\\\\\\\"id\\\\\\\\\\\\\\\": \\\\\\\\\\\\\\\"dc6024ee-1aae-4f7d-b6b1-d4f4fb963f8d\\\\\\\\\\\\\\\", \\\\\\\\\\\\\\\"type\\\\\\\\\\\\\\\": \\\\\\\\\\\\\\\"Microsoft.DPrep.DropColumnsBlock\\\\\\\\\\\\\\\", \\\\\\\\\\\\\\\"arguments\\\\\\\\\\\\\\\": {\\\\\\\\\\\\\\\"columns\\\\\\\\\\\\\\\": {\\\\\\\\\\\\\\\"type\\\\\\\\\\\\\\\": 0, \\\\\\\\\\\\\\\"details\\\\\\\\\\\\\\\": {\\\\\\\\\\\\\\\"selectedColumns\\\\\\\\\\\\\\\": [\\\\\\\\\\\\\\\"Path\\\\\\\\\\\\\\\", \\\\\\\\\\\\\\\"id\\\\\\\\\\\\\\\", \\\\\\\\\\\\\\\"date\\\\\\\\\\\\\\\", \\\\\\\\\\\\\\\"waterfront\\\\\\\\\\\\\\\", \\\\\\\\\\\\\\\"zipcode\\\\\\\\\\\\\\\", \\\\\\\\\\\\\\\"yr_renovated\\\\\\\\\\\\\\\"]}}}, \\\\\\\\\\\\\\\"localData\\\\\\\\\\\\\\\": {}, \\\\\\\\\\\\\\\"isEnabled\\\\\\\\\\\\\\\": true, \\\\\\\\\\\\\\\"name\\\\\\\\\\\\\\\": null, \\\\\\\\\\\\\\\"annotation\\\\\\\\\\\\\\\": null}, {\\\\\\\\\\\\\\\"id\\\\\\\\\\\\\\\": \\\\\\\\\\\\\\\"523f09c0-0843-4385-ad39-ddf3c2629286\\\\\\\\\\\\\\\", \\\\\\\\\\\\\\\"type\\\\\\\\\\\\\\\": \\\\\\\\\\\\\\\"Microsoft.DPrep.SetColumnTypesBlock\\\\\\\\\\\\\\\", \\\\\\\\\\\\\\\"arguments\\\\\\\\\\\\\\\": {\\\\\\\\\\\\\\\"columnConversion\\\\\\\\\\\\\\\": [{\\\\\\\\\\\\\\\"column\\\\\\\\\\\\\\\": {\\\\\\\\\\\\\\\"type\\\\\\\\\\\\\\\": 2, \\\\\\\\\\\\\\\"details\\\\\\\\\\\\\\\": {\\\\\\\\\\\\\\\"selectedColumn\\\\\\\\\\\\\\\": \\\\\\\\\\\\\\\"Path\\\\\\\\\\\\\\\"}}, \\\\\\\\\\\\\\\"typeProperty\\\\\\\\\\\\\\\": 0}, {\\\\\\\\\\\\\\\"column\\\\\\\\\\\\\\\": {\\\\\\\\\\\\\\\"type\\\\\\\\\\\\\\\": 2, \\\\\\\\\\\\\\\"details\\\\\\\\\\\\\\\": {\\\\\\\\\\\\\\\"selectedColumn\\\\\\\\\\\\\\\": \\\\\\\\\\\\\\\"id\\\\\\\\\\\\\\\"}}, \\\\\\\\\\\\\\\"typeProperty\\\\\\\\\\\\\\\": 2}, {\\\\\\\\\\\\\\\"column\\\\\\\\\\\\\\\": {\\\\\\\\\\\\\\\"type\\\\\\\\\\\\\\\": 2, \\\\\\\\\\\\\\\"details\\\\\\\\\\\\\\\": {\\\\\\\\\\\\\\\"selectedColumn\\\\\\\\\\\\\\\": \\\\\\\\\\\\\\\"date\\\\\\\\\\\\\\\"}}, \\\\\\\\\\\\\\\"typeProperty\\\\\\\\\\\\\\\": 0}, {\\\\\\\\\\\\\\\"column\\\\\\\\\\\\\\\": {\\\\\\\\\\\\\\\"type\\\\\\\\\\\\\\\": 2, \\\\\\\\\\\\\\\"details\\\\\\\\\\\\\\\": {\\\\\\\\\\\\\\\"selectedColumn\\\\\\\\\\\\\\\": \\\\\\\\\\\\\\\"price\\\\\\\\\\\\\\\"}}, \\\\\\\\\\\\\\\"typeProperty\\\\\\\\\\\\\\\": 3}, {\\\\\\\\\\\\\\\"column\\\\\\\\\\\\\\\": {\\\\\\\\\\\\\\\"type\\\\\\\\\\\\\\\": 2, \\\\\\\\\\\\\\\"details\\\\\\\\\\\\\\\": {\\\\\\\\\\\\\\\"selectedColumn\\\\\\\\\\\\\\\": \\\\\\\\\\\\\\\"bedrooms\\\\\\\\\\\\\\\"}}, \\\\\\\\\\\\\\\"typeProperty\\\\\\\\\\\\\\\": 2}, {\\\\\\\\\\\\\\\"column\\\\\\\\\\\\\\\": {\\\\\\\\\\\\\\\"type\\\\\\\\\\\\\\\": 2, \\\\\\\\\\\\\\\"details\\\\\\\\\\\\\\\": {\\\\\\\\\\\\\\\"selectedColumn\\\\\\\\\\\\\\\": \\\\\\\\\\\\\\\"bathrooms\\\\\\\\\\\\\\\"}}, \\\\\\\\\\\\\\\"typeProperty\\\\\\\\\\\\\\\": 3}, {\\\\\\\\\\\\\\\"column\\\\\\\\\\\\\\\": {\\\\\\\\\\\\\\\"type\\\\\\\\\\\\\\\": 2, \\\\\\\\\\\\\\\"details\\\\\\\\\\\\\\\": {\\\\\\\\\\\\\\\"selectedColumn\\\\\\\\\\\\\\\": \\\\\\\\\\\\\\\"sqft_living\\\\\\\\\\\\\\\"}}, \\\\\\\\\\\\\\\"typeProperty\\\\\\\\\\\\\\\": 2}, {\\\\\\\\\\\\\\\"column\\\\\\\\\\\\\\\": {\\\\\\\\\\\\\\\"type\\\\\\\\\\\\\\\": 2, \\\\\\\\\\\\\\\"details\\\\\\\\\\\\\\\": {\\\\\\\\\\\\\\\"selectedColumn\\\\\\\\\\\\\\\": \\\\\\\\\\\\\\\"sqft_lot\\\\\\\\\\\\\\\"}}, \\\\\\\\\\\\\\\"typeProperty\\\\\\\\\\\\\\\": 2}, {\\\\\\\\\\\\\\\"column\\\\\\\\\\\\\\\": {\\\\\\\\\\\\\\\"type\\\\\\\\\\\\\\\": 2, \\\\\\\\\\\\\\\"details\\\\\\\\\\\\\\\": {\\\\\\\\\\\\\\\"selectedColumn\\\\\\\\\\\\\\\": \\\\\\\\\\\\\\\"floors\\\\\\\\\\\\\\\"}}, \\\\\\\\\\\\\\\"typeProperty\\\\\\\\\\\\\\\": 3}, {\\\\\\\\\\\\\\\"column\\\\\\\\\\\\\\\": {\\\\\\\\\\\\\\\"type\\\\\\\\\\\\\\\": 2, \\\\\\\\\\\\\\\"details\\\\\\\\\\\\\\\": {\\\\\\\\\\\\\\\"selectedColumn\\\\\\\\\\\\\\\": \\\\\\\\\\\\\\\"waterfront\\\\\\\\\\\\\\\"}}, \\\\\\\\\\\\\\\"typeProperty\\\\\\\\\\\\\\\": 2}, {\\\\\\\\\\\\\\\"column\\\\\\\\\\\\\\\": {\\\\\\\\\\\\\\\"type\\\\\\\\\\\\\\\": 2, \\\\\\\\\\\\\\\"details\\\\\\\\\\\\\\\": {\\\\\\\\\\\\\\\"selectedColumn\\\\\\\\\\\\\\\": \\\\\\\\\\\\\\\"view\\\\\\\\\\\\\\\"}}, \\\\\\\\\\\\\\\"typeProperty\\\\\\\\\\\\\\\": 2}, {\\\\\\\\\\\\\\\"column\\\\\\\\\\\\\\\": {\\\\\\\\\\\\\\\"type\\\\\\\\\\\\\\\": 2, \\\\\\\\\\\\\\\"details\\\\\\\\\\\\\\\": {\\\\\\\\\\\\\\\"selectedColumn\\\\\\\\\\\\\\\": \\\\\\\\\\\\\\\"condition\\\\\\\\\\\\\\\"}}, \\\\\\\\\\\\\\\"typeProperty\\\\\\\\\\\\\\\": 2}, {\\\\\\\\\\\\\\\"column\\\\\\\\\\\\\\\": {\\\\\\\\\\\\\\\"type\\\\\\\\\\\\\\\": 2, \\\\\\\\\\\\\\\"details\\\\\\\\\\\\\\\": {\\\\\\\\\\\\\\\"selectedColumn\\\\\\\\\\\\\\\": \\\\\\\\\\\\\\\"grade\\\\\\\\\\\\\\\"}}, \\\\\\\\\\\\\\\"typeProperty\\\\\\\\\\\\\\\": 2}, {\\\\\\\\\\\\\\\"column\\\\\\\\\\\\\\\": {\\\\\\\\\\\\\\\"type\\\\\\\\\\\\\\\": 2, \\\\\\\\\\\\\\\"details\\\\\\\\\\\\\\\": {\\\\\\\\\\\\\\\"selectedColumn\\\\\\\\\\\\\\\": \\\\\\\\\\\\\\\"sqft_above\\\\\\\\\\\\\\\"}}, \\\\\\\\\\\\\\\"typeProperty\\\\\\\\\\\\\\\": 2}, {\\\\\\\\\\\\\\\"column\\\\\\\\\\\\\\\": {\\\\\\\\\\\\\\\"type\\\\\\\\\\\\\\\": 2, \\\\\\\\\\\\\\\"details\\\\\\\\\\\\\\\": {\\\\\\\\\\\\\\\"selectedColumn\\\\\\\\\\\\\\\": \\\\\\\\\\\\\\\"sqft_basement\\\\\\\\\\\\\\\"}}, \\\\\\\\\\\\\\\"typeProperty\\\\\\\\\\\\\\\": 2}, {\\\\\\\\\\\\\\\"column\\\\\\\\\\\\\\\": {\\\\\\\\\\\\\\\"type\\\\\\\\\\\\\\\": 2, \\\\\\\\\\\\\\\"details\\\\\\\\\\\\\\\": {\\\\\\\\\\\\\\\"selectedColumn\\\\\\\\\\\\\\\": \\\\\\\\\\\\\\\"yr_built\\\\\\\\\\\\\\\"}}, \\\\\\\\\\\\\\\"typeProperty\\\\\\\\\\\\\\\": 2}, {\\\\\\\\\\\\\\\"column\\\\\\\\\\\\\\\": {\\\\\\\\\\\\\\\"type\\\\\\\\\\\\\\\": 2, \\\\\\\\\\\\\\\"details\\\\\\\\\\\\\\\": {\\\\\\\\\\\\\\\"selectedColumn\\\\\\\\\\\\\\\": \\\\\\\\\\\\\\\"yr_renovated\\\\\\\\\\\\\\\"}}, \\\\\\\\\\\\\\\"typeProperty\\\\\\\\\\\\\\\": 2}, {\\\\\\\\\\\\\\\"column\\\\\\\\\\\\\\\": {\\\\\\\\\\\\\\\"type\\\\\\\\\\\\\\\": 2, \\\\\\\\\\\\\\\"details\\\\\\\\\\\\\\\": {\\\\\\\\\\\\\\\"selectedColumn\\\\\\\\\\\\\\\": \\\\\\\\\\\\\\\"zipcode\\\\\\\\\\\\\\\"}}, \\\\\\\\\\\\\\\"typeProperty\\\\\\\\\\\\\\\": 2}, {\\\\\\\\\\\\\\\"column\\\\\\\\\\\\\\\": {\\\\\\\\\\\\\\\"type\\\\\\\\\\\\\\\": 2, \\\\\\\\\\\\\\\"details\\\\\\\\\\\\\\\": {\\\\\\\\\\\\\\\"selectedColumn\\\\\\\\\\\\\\\": \\\\\\\\\\\\\\\"lat\\\\\\\\\\\\\\\"}}, \\\\\\\\\\\\\\\"typeProperty\\\\\\\\\\\\\\\": 3}, {\\\\\\\\\\\\\\\"column\\\\\\\\\\\\\\\": {\\\\\\\\\\\\\\\"type\\\\\\\\\\\\\\\": 2, \\\\\\\\\\\\\\\"details\\\\\\\\\\\\\\\": {\\\\\\\\\\\\\\\"selectedColumn\\\\\\\\\\\\\\\": \\\\\\\\\\\\\\\"long\\\\\\\\\\\\\\\"}}, \\\\\\\\\\\\\\\"typeProperty\\\\\\\\\\\\\\\": 3}, {\\\\\\\\\\\\\\\"column\\\\\\\\\\\\\\\": {\\\\\\\\\\\\\\\"type\\\\\\\\\\\\\\\": 2, \\\\\\\\\\\\\\\"details\\\\\\\\\\\\\\\": {\\\\\\\\\\\\\\\"selectedColumn\\\\\\\\\\\\\\\": \\\\\\\\\\\\\\\"sqft_living15\\\\\\\\\\\\\\\"}}, \\\\\\\\\\\\\\\"typeProperty\\\\\\\\\\\\\\\": 2}, {\\\\\\\\\\\\\\\"column\\\\\\\\\\\\\\\": {\\\\\\\\\\\\\\\"type\\\\\\\\\\\\\\\": 2, \\\\\\\\\\\\\\\"details\\\\\\\\\\\\\\\": {\\\\\\\\\\\\\\\"selectedColumn\\\\\\\\\\\\\\\": \\\\\\\\\\\\\\\"sqft_lot15\\\\\\\\\\\\\\\"}}, \\\\\\\\\\\\\\\"typeProperty\\\\\\\\\\\\\\\": 2}]}, \\\\\\\\\\\\\\\"localData\\\\\\\\\\\\\\\": {}, \\\\\\\\\\\\\\\"isEnabled\\\\\\\\\\\\\\\": true, \\\\\\\\\\\\\\\"name\\\\\\\\\\\\\\\": null, \\\\\\\\\\\\\\\"annotation\\\\\\\\\\\\\\\": null}], \\\\\\\\\\\\\\\"inspectors\\\\\\\\\\\\\\\": [], \\\\\\\\\\\\\\\"meta\\\\\\\\\\\\\\\": {\\\\\\\\\\\\\\\"savedDatasetId\\\\\\\\\\\\\\\": \\\\\\\\\\\\\\\"c5262e93-b849-4837-ad81-dcf81718e76e\\\\\\\\\\\\\\\", \\\\\\\\\\\\\\\"datasetType\\\\\\\\\\\\\\\": \\\\\\\\\\\\\\\"tabular\\\\\\\\\\\\\\\", \\\\\\\\\\\\\\\"subscriptionId\\\\\\\\\\\\\\\": \\\\\\\\\\\\\\\"9b72f9e6-56c5-4c16-991b-19c652994860\\\\\\\\\\\\\\\", \\\\\\\\\\\\\\\"workspaceId\\\\\\\\\\\\\\\": \\\\\\\\\\\\\\\"a4e39d5c-30fa-4eef-92a6-95e3bfc4d53d\\\\\\\\\\\\\\\", \\\\\\\\\\\\\\\"workspaceLocation\\\\\\\\\\\\\\\": \\\\\\\\\\\\\\\"southcentralus\\\\\\\\\\\\\\\"}}\\\\\\\", \\\\\\\"activities\\\\\\\": 0}\", \"EnableSubsampling\": null, \"runTemplate\": \"AutoML\", \"azureml.runsource\": \"automl\", \"display_task_type\": \"regression\", \"dependencies_versions\": \"{\\\"azureml-widgets\\\": \\\"1.20.0\\\", \\\"azureml-train\\\": \\\"1.20.0\\\", \\\"azureml-train-restclients-hyperdrive\\\": \\\"1.20.0\\\", \\\"azureml-train-core\\\": \\\"1.20.0\\\", \\\"azureml-train-automl\\\": \\\"1.20.0\\\", \\\"azureml-train-automl-runtime\\\": \\\"1.20.0\\\", \\\"azureml-train-automl-client\\\": \\\"1.20.0\\\", \\\"azureml-tensorboard\\\": \\\"1.20.0\\\", \\\"azureml-telemetry\\\": \\\"1.20.0\\\", \\\"azureml-sdk\\\": \\\"1.20.0\\\", \\\"azureml-samples\\\": \\\"0+unknown\\\", \\\"azureml-pipeline\\\": \\\"1.20.0\\\", \\\"azureml-pipeline-steps\\\": \\\"1.20.0\\\", \\\"azureml-pipeline-core\\\": \\\"1.20.0\\\", \\\"azureml-opendatasets\\\": \\\"1.20.0\\\", \\\"azureml-model-management-sdk\\\": \\\"1.0.1b6.post1\\\", \\\"azureml-mlflow\\\": \\\"1.20.0.post1\\\", \\\"azureml-interpret\\\": \\\"1.20.0\\\", \\\"azureml-explain-model\\\": \\\"1.20.0\\\", \\\"azureml-defaults\\\": \\\"1.20.0\\\", \\\"azureml-dataset-runtime\\\": \\\"1.20.0\\\", \\\"azureml-dataprep\\\": \\\"2.7.3\\\", \\\"azureml-dataprep-rslex\\\": \\\"1.5.0\\\", \\\"azureml-dataprep-native\\\": \\\"27.0.0\\\", \\\"azureml-datadrift\\\": \\\"1.20.0\\\", \\\"azureml-core\\\": \\\"1.20.0\\\", \\\"azureml-contrib-services\\\": \\\"1.20.0\\\", \\\"azureml-contrib-server\\\": \\\"1.20.0\\\", \\\"azureml-contrib-reinforcementlearning\\\": \\\"1.20.0\\\", \\\"azureml-contrib-pipeline-steps\\\": \\\"1.20.0\\\", \\\"azureml-contrib-notebook\\\": \\\"1.20.0\\\", \\\"azureml-contrib-interpret\\\": \\\"1.20.0\\\", \\\"azureml-contrib-gbdt\\\": \\\"1.20.0\\\", \\\"azureml-contrib-fairness\\\": \\\"1.20.0\\\", \\\"azureml-contrib-dataset\\\": \\\"1.20.0\\\", \\\"azureml-cli-common\\\": \\\"1.20.0\\\", \\\"azureml-automl-runtime\\\": \\\"1.20.0\\\", \\\"azureml-automl-core\\\": \\\"1.20.0\\\", \\\"azureml-accel-models\\\": \\\"1.20.0\\\"}\", \"_aml_system_scenario_identification\": \"Remote.Parent\", \"ClientType\": \"SDK\", \"environment_cpu_name\": \"AzureML-AutoML\", \"environment_cpu_label\": \"prod\", \"environment_gpu_name\": \"AzureML-AutoML-GPU\", \"environment_gpu_label\": \"prod\", \"root_attribution\": \"automl\", \"attribution\": \"AutoML\", \"Orchestrator\": \"AutoML\", \"CancelUri\": \"https://southcentralus.experiments.azureml.net/jasmine/v1.0/subscriptions/9b72f9e6-56c5-4c16-991b-19c652994860/resourceGroups/aml-quickstarts-138662/providers/Microsoft.MachineLearningServices/workspaces/quick-starts-ws-138662/experimentids/cb92beca-eb1b-4ab2-b2c2-6bf4243224cf/cancel/AutoML_6ba84f13-0ca5-4480-ab18-1a3e38889df2\", \"ClientSdkVersion\": \"1.21.0\", \"snapshotId\": \"00000000-0000-0000-0000-000000000000\", \"SetupRunId\": \"AutoML_6ba84f13-0ca5-4480-ab18-1a3e38889df2_setup\", \"SetupRunContainerId\": \"dcid.AutoML_6ba84f13-0ca5-4480-ab18-1a3e38889df2_setup\", \"FeaturizationRunJsonPath\": \"featurizer_container.json\", \"FeaturizationRunId\": \"AutoML_6ba84f13-0ca5-4480-ab18-1a3e38889df2_featurize\", \"ProblemInfoJsonString\": \"{\\\"dataset_num_categorical\\\": 0, \\\"is_sparse\\\": true, \\\"subsampling\\\": false, \\\"dataset_classes\\\": 4028, \\\"dataset_features\\\": 46, \\\"dataset_samples\\\": 21613, \\\"single_frequency_class_detected\\\": false}\", \"ModelExplainRunId\": \"AutoML_6ba84f13-0ca5-4480-ab18-1a3e38889df2_ModelExplain\"}, \"tags\": {\"model_explain_run\": \"best_run\", \"_aml_system_azureml.automlComponent\": \"AutoML\", \"pipeline_id\": \"\", \"score\": \"\", \"predicted_cost\": \"\", \"fit_time\": \"\", \"training_percent\": \"\", \"iteration\": \"\", \"run_preprocessor\": \"\", \"run_algorithm\": \"\", \"dynamic_whitelisting_iterations\": \"<25>;<30>;<35>;\", \"automl_best_child_run_id\": \"AutoML_6ba84f13-0ca5-4480-ab18-1a3e38889df2_36\", \"model_explain_best_run_child_id\": \"AutoML_6ba84f13-0ca5-4480-ab18-1a3e38889df2_36\"}, \"end_time_utc\": \"2021-02-12T07:07:34.75454Z\", \"status\": \"Completed\", \"log_files\": {}, \"log_groups\": [], \"run_duration\": \"0:28:56\"}, \"child_runs\": [{\"run_id\": \"AutoML_6ba84f13-0ca5-4480-ab18-1a3e38889df2_0\", \"run_number\": 17, \"metric\": null, \"status\": \"Failed\", \"run_type\": \"azureml.scriptrun\", \"training_percent\": \"100\", \"start_time\": \"2021-02-12T06:48:23.686831Z\", \"end_time\": \"2021-02-12T06:49:50.669145Z\", \"created_time\": \"2021-02-12T06:47:48.317667Z\", \"created_time_dt\": \"2021-02-12T06:47:48.317667Z\", \"duration\": \"0:02:02\", \"iteration\": \"0\", \"goal\": \"normalized_root_mean_squared_error_min\", \"run_name\": \"MaxAbsScaler, LightGBM\", \"run_properties\": \"copy=True\", \"primary_metric\": 0.01749203, \"best_metric\": 0.01749203}, {\"run_id\": \"AutoML_6ba84f13-0ca5-4480-ab18-1a3e38889df2_2\", \"run_number\": 18, \"metric\": null, \"status\": \"Completed\", \"run_type\": \"azureml.scriptrun\", \"training_percent\": \"100\", \"start_time\": \"2021-02-12T06:49:46.79737Z\", \"end_time\": \"2021-02-12T06:50:37.570469Z\", \"created_time\": \"2021-02-12T06:47:48.529643Z\", \"created_time_dt\": \"2021-02-12T06:47:48.529643Z\", \"duration\": \"0:02:49\", \"iteration\": \"2\", \"goal\": \"normalized_root_mean_squared_error_min\", \"run_name\": \"StandardScalerWrapper, ElasticNet\", \"run_properties\": \"<azureml.automl.runtime.shared.model_wrappers.StandardScalerWrapper object at 0x7f1a1bfa2d30\", \"primary_metric\": 0.02584133, \"best_metric\": 0.01749203}, {\"run_id\": \"AutoML_6ba84f13-0ca5-4480-ab18-1a3e38889df2_1\", \"run_number\": 19, \"metric\": null, \"status\": \"Completed\", \"run_type\": \"azureml.scriptrun\", \"training_percent\": \"100\", \"start_time\": \"2021-02-12T06:48:48.491038Z\", \"end_time\": \"2021-02-12T06:49:42.596272Z\", \"created_time\": \"2021-02-12T06:47:48.551267Z\", \"created_time_dt\": \"2021-02-12T06:47:48.551267Z\", \"duration\": \"0:01:54\", \"iteration\": \"1\", \"goal\": \"normalized_root_mean_squared_error_min\", \"run_name\": \"MaxAbsScaler, XGBoostRegressor\", \"run_properties\": \"copy=True\", \"primary_metric\": 0.01931373, \"best_metric\": 0.01749203}, {\"run_id\": \"AutoML_6ba84f13-0ca5-4480-ab18-1a3e38889df2_3\", \"run_number\": 20, \"metric\": null, \"status\": \"Completed\", \"run_type\": \"azureml.scriptrun\", \"training_percent\": \"100\", \"start_time\": \"2021-02-12T06:49:50.833989Z\", \"end_time\": \"2021-02-12T06:50:51.288884Z\", \"created_time\": \"2021-02-12T06:47:48.556265Z\", \"created_time_dt\": \"2021-02-12T06:47:48.556265Z\", \"duration\": \"0:03:02\", \"iteration\": \"3\", \"goal\": \"normalized_root_mean_squared_error_min\", \"run_name\": \"MaxAbsScaler, DecisionTree\", \"run_properties\": \"copy=True\", \"primary_metric\": 0.0301758, \"best_metric\": 0.01749203}, {\"run_id\": \"AutoML_6ba84f13-0ca5-4480-ab18-1a3e38889df2_4\", \"run_number\": 23, \"metric\": null, \"status\": \"Completed\", \"run_type\": \"azureml.scriptrun\", \"training_percent\": \"100\", \"start_time\": \"2021-02-12T06:50:38.890556Z\", \"end_time\": \"2021-02-12T06:51:45.976254Z\", \"created_time\": \"2021-02-12T06:49:44.720696Z\", \"created_time_dt\": \"2021-02-12T06:49:44.720696Z\", \"duration\": \"0:02:01\", \"iteration\": \"4\", \"goal\": \"normalized_root_mean_squared_error_min\", \"run_name\": \"MaxAbsScaler, ElasticNet\", \"run_properties\": \"copy=True\", \"primary_metric\": 0.02880194, \"best_metric\": 0.01749203}, {\"run_id\": \"AutoML_6ba84f13-0ca5-4480-ab18-1a3e38889df2_5\", \"run_number\": 24, \"metric\": null, \"status\": \"Completed\", \"run_type\": \"azureml.scriptrun\", \"training_percent\": \"100\", \"start_time\": \"2021-02-12T06:50:52.117463Z\", \"end_time\": \"2021-02-12T06:51:55.924441Z\", \"created_time\": \"2021-02-12T06:49:52.5122Z\", \"created_time_dt\": \"2021-02-12T06:49:52.5122Z\", \"duration\": \"0:02:03\", \"iteration\": \"5\", \"goal\": \"normalized_root_mean_squared_error_min\", \"run_name\": \"MaxAbsScaler, DecisionTree\", \"run_properties\": \"copy=True\", \"primary_metric\": 0.02800711, \"best_metric\": 0.01749203}, {\"run_id\": \"AutoML_6ba84f13-0ca5-4480-ab18-1a3e38889df2_6\", \"run_number\": 27, \"metric\": null, \"status\": \"Completed\", \"run_type\": \"azureml.scriptrun\", \"training_percent\": \"100\", \"start_time\": \"2021-02-12T06:51:51.765043Z\", \"end_time\": \"2021-02-12T06:52:48.332131Z\", \"created_time\": \"2021-02-12T06:50:40.761024Z\", \"created_time_dt\": \"2021-02-12T06:50:40.761024Z\", \"duration\": \"0:02:07\", \"iteration\": \"6\", \"goal\": \"normalized_root_mean_squared_error_min\", \"run_name\": \"MaxAbsScaler, DecisionTree\", \"run_properties\": \"copy=True\", \"primary_metric\": 0.02648475, \"best_metric\": 0.01749203}, {\"run_id\": \"AutoML_6ba84f13-0ca5-4480-ab18-1a3e38889df2_7\", \"run_number\": 28, \"metric\": null, \"status\": \"Completed\", \"run_type\": \"azureml.scriptrun\", \"training_percent\": \"100\", \"start_time\": \"2021-02-12T06:51:58.798998Z\", \"end_time\": \"2021-02-12T06:52:57.084262Z\", \"created_time\": \"2021-02-12T06:50:54.620269Z\", \"created_time_dt\": \"2021-02-12T06:50:54.620269Z\", \"duration\": \"0:02:02\", \"iteration\": \"7\", \"goal\": \"normalized_root_mean_squared_error_min\", \"run_name\": \"MaxAbsScaler, DecisionTree\", \"run_properties\": \"copy=True\", \"primary_metric\": 0.02810337, \"best_metric\": 0.01749203}, {\"run_id\": \"AutoML_6ba84f13-0ca5-4480-ab18-1a3e38889df2_8\", \"run_number\": 31, \"metric\": null, \"status\": \"Completed\", \"run_type\": \"azureml.scriptrun\", \"training_percent\": \"100\", \"start_time\": \"2021-02-12T06:52:49.451034Z\", \"end_time\": \"2021-02-12T06:53:46.964207Z\", \"created_time\": \"2021-02-12T06:51:49.379036Z\", \"created_time_dt\": \"2021-02-12T06:51:49.379036Z\", \"duration\": \"0:01:57\", \"iteration\": \"8\", \"goal\": \"normalized_root_mean_squared_error_min\", \"run_name\": \"MaxAbsScaler, DecisionTree\", \"run_properties\": \"copy=True\", \"primary_metric\": 0.03052049, \"best_metric\": 0.01749203}, {\"run_id\": \"AutoML_6ba84f13-0ca5-4480-ab18-1a3e38889df2_9\", \"run_number\": 32, \"metric\": null, \"status\": \"Completed\", \"run_type\": \"azureml.scriptrun\", \"training_percent\": \"100\", \"start_time\": \"2021-02-12T06:52:58.971554Z\", \"end_time\": \"2021-02-12T06:53:48.99687Z\", \"created_time\": \"2021-02-12T06:51:59.364335Z\", \"created_time_dt\": \"2021-02-12T06:51:59.364335Z\", \"duration\": \"0:01:49\", \"iteration\": \"9\", \"goal\": \"normalized_root_mean_squared_error_min\", \"run_name\": \"MaxAbsScaler, DecisionTree\", \"run_properties\": \"copy=True\", \"primary_metric\": 0.02738935, \"best_metric\": 0.01749203}, {\"run_id\": \"AutoML_6ba84f13-0ca5-4480-ab18-1a3e38889df2_10\", \"run_number\": 35, \"metric\": null, \"status\": \"Completed\", \"run_type\": \"azureml.scriptrun\", \"training_percent\": \"100\", \"start_time\": \"2021-02-12T06:53:51.198671Z\", \"end_time\": \"2021-02-12T06:54:56.118497Z\", \"created_time\": \"2021-02-12T06:52:52.58681Z\", \"created_time_dt\": \"2021-02-12T06:52:52.58681Z\", \"duration\": \"0:02:03\", \"iteration\": \"10\", \"goal\": \"normalized_root_mean_squared_error_min\", \"run_name\": \"MaxAbsScaler, DecisionTree\", \"run_properties\": \"copy=True\", \"primary_metric\": 0.02867251, \"best_metric\": 0.01749203}, {\"run_id\": \"AutoML_6ba84f13-0ca5-4480-ab18-1a3e38889df2_11\", \"run_number\": 37, \"metric\": null, \"status\": \"Completed\", \"run_type\": \"azureml.scriptrun\", \"training_percent\": \"100\", \"start_time\": \"2021-02-12T06:54:29.518672Z\", \"end_time\": \"2021-02-12T06:55:33.651312Z\", \"created_time\": \"2021-02-12T06:53:01.873761Z\", \"created_time_dt\": \"2021-02-12T06:53:01.873761Z\", \"duration\": \"0:02:31\", \"iteration\": \"11\", \"goal\": \"normalized_root_mean_squared_error_min\", \"run_name\": \"MaxAbsScaler, DecisionTree\", \"run_properties\": \"copy=True\", \"primary_metric\": 0.02546187, \"best_metric\": 0.01749203}, {\"run_id\": \"AutoML_6ba84f13-0ca5-4480-ab18-1a3e38889df2_12\", \"run_number\": 39, \"metric\": null, \"status\": \"Completed\", \"run_type\": \"azureml.scriptrun\", \"training_percent\": \"100\", \"start_time\": \"2021-02-12T06:54:52.114838Z\", \"end_time\": \"2021-02-12T06:55:45.829544Z\", \"created_time\": \"2021-02-12T06:53:50.59871Z\", \"created_time_dt\": \"2021-02-12T06:53:50.59871Z\", \"duration\": \"0:01:55\", \"iteration\": \"12\", \"goal\": \"normalized_root_mean_squared_error_min\", \"run_name\": \"MaxAbsScaler, DecisionTree\", \"run_properties\": \"copy=True\", \"primary_metric\": 0.03063565, \"best_metric\": 0.01749203}, {\"run_id\": \"AutoML_6ba84f13-0ca5-4480-ab18-1a3e38889df2_13\", \"run_number\": 40, \"metric\": null, \"status\": \"Completed\", \"run_type\": \"azureml.scriptrun\", \"training_percent\": \"100\", \"start_time\": \"2021-02-12T06:54:54.490346Z\", \"end_time\": \"2021-02-12T06:55:51.052774Z\", \"created_time\": \"2021-02-12T06:53:56.724433Z\", \"created_time_dt\": \"2021-02-12T06:53:56.724433Z\", \"duration\": \"0:01:54\", \"iteration\": \"13\", \"goal\": \"normalized_root_mean_squared_error_min\", \"run_name\": \"StandardScalerWrapper, DecisionTree\", \"run_properties\": \"<azureml.automl.runtime.shared.model_wrappers.StandardScalerWrapper object at 0x7f880d01ccc0\", \"primary_metric\": 0.029268, \"best_metric\": 0.01749203}, {\"run_id\": \"AutoML_6ba84f13-0ca5-4480-ab18-1a3e38889df2_14\", \"run_number\": 45, \"metric\": null, \"status\": \"Completed\", \"run_type\": \"azureml.scriptrun\", \"training_percent\": \"100\", \"start_time\": \"2021-02-12T06:56:05.538933Z\", \"end_time\": \"2021-02-12T06:57:00.93863Z\", \"created_time\": \"2021-02-12T06:54:59.626973Z\", \"created_time_dt\": \"2021-02-12T06:54:59.626973Z\", \"duration\": \"0:02:01\", \"iteration\": \"14\", \"goal\": \"normalized_root_mean_squared_error_min\", \"run_name\": \"MaxAbsScaler, DecisionTree\", \"run_properties\": \"copy=True\", \"primary_metric\": 0.03192416, \"best_metric\": 0.01749203}, {\"run_id\": \"AutoML_6ba84f13-0ca5-4480-ab18-1a3e38889df2_15\", \"run_number\": 46, \"metric\": null, \"status\": \"Completed\", \"run_type\": \"azureml.scriptrun\", \"training_percent\": \"100\", \"start_time\": \"2021-02-12T06:56:33.467027Z\", \"end_time\": \"2021-02-12T06:57:37.405997Z\", \"created_time\": \"2021-02-12T06:55:37.035906Z\", \"created_time_dt\": \"2021-02-12T06:55:37.035906Z\", \"duration\": \"0:02:00\", \"iteration\": \"15\", \"goal\": \"normalized_root_mean_squared_error_min\", \"run_name\": \"MaxAbsScaler, DecisionTree\", \"run_properties\": \"copy=True\", \"primary_metric\": 0.03111819, \"best_metric\": 0.01749203}, {\"run_id\": \"AutoML_6ba84f13-0ca5-4480-ab18-1a3e38889df2_16\", \"run_number\": 47, \"metric\": null, \"status\": \"Completed\", \"run_type\": \"azureml.scriptrun\", \"training_percent\": \"100\", \"start_time\": \"2021-02-12T06:56:41.072769Z\", \"end_time\": \"2021-02-12T06:57:39.664167Z\", \"created_time\": \"2021-02-12T06:55:49.138025Z\", \"created_time_dt\": \"2021-02-12T06:55:49.138025Z\", \"duration\": \"0:01:50\", \"iteration\": \"16\", \"goal\": \"normalized_root_mean_squared_error_min\", \"run_name\": \"MaxAbsScaler, SGD\", \"run_properties\": \"copy=True\", \"primary_metric\": 0.0283878, \"best_metric\": 0.01749203}, {\"run_id\": \"AutoML_6ba84f13-0ca5-4480-ab18-1a3e38889df2_17\", \"run_number\": 48, \"metric\": null, \"status\": \"Completed\", \"run_type\": \"azureml.scriptrun\", \"training_percent\": \"100\", \"start_time\": \"2021-02-12T06:56:58.448873Z\", \"end_time\": \"2021-02-12T06:57:52.743712Z\", \"created_time\": \"2021-02-12T06:55:55.335771Z\", \"created_time_dt\": \"2021-02-12T06:55:55.335771Z\", \"duration\": \"0:01:57\", \"iteration\": \"17\", \"goal\": \"normalized_root_mean_squared_error_min\", \"run_name\": \"MaxAbsScaler, DecisionTree\", \"run_properties\": \"copy=True\", \"primary_metric\": 0.02545351, \"best_metric\": 0.01749203}, {\"run_id\": \"AutoML_6ba84f13-0ca5-4480-ab18-1a3e38889df2_18\", \"run_number\": 53, \"metric\": null, \"status\": \"Completed\", \"run_type\": \"azureml.scriptrun\", \"training_percent\": \"100\", \"start_time\": \"2021-02-12T06:58:06.890533Z\", \"end_time\": \"2021-02-12T06:59:00.329724Z\", \"created_time\": \"2021-02-12T06:57:04.95151Z\", \"created_time_dt\": \"2021-02-12T06:57:04.95151Z\", \"duration\": \"0:01:55\", \"iteration\": \"18\", \"goal\": \"normalized_root_mean_squared_error_min\", \"run_name\": \"MaxAbsScaler, DecisionTree\", \"run_properties\": \"copy=True\", \"primary_metric\": 0.03137828, \"best_metric\": 0.01749203}, {\"run_id\": \"AutoML_6ba84f13-0ca5-4480-ab18-1a3e38889df2_19\", \"run_number\": 54, \"metric\": null, \"status\": \"Completed\", \"run_type\": \"azureml.scriptrun\", \"training_percent\": \"100\", \"start_time\": \"2021-02-12T06:58:36.620045Z\", \"end_time\": \"2021-02-12T06:59:32.31318Z\", \"created_time\": \"2021-02-12T06:57:41.985633Z\", \"created_time_dt\": \"2021-02-12T06:57:41.985633Z\", \"duration\": \"0:01:50\", \"iteration\": \"19\", \"goal\": \"normalized_root_mean_squared_error_min\", \"run_name\": \"MaxAbsScaler, DecisionTree\", \"run_properties\": \"copy=True\", \"primary_metric\": 0.03037475, \"best_metric\": 0.01749203}, {\"run_id\": \"AutoML_6ba84f13-0ca5-4480-ab18-1a3e38889df2_20\", \"run_number\": 55, \"metric\": null, \"status\": \"Completed\", \"run_type\": \"azureml.scriptrun\", \"training_percent\": \"100\", \"start_time\": \"2021-02-12T06:58:47.736253Z\", \"end_time\": \"2021-02-12T06:59:43.991526Z\", \"created_time\": \"2021-02-12T06:57:48.336505Z\", \"created_time_dt\": \"2021-02-12T06:57:48.336505Z\", \"duration\": \"0:01:55\", \"iteration\": \"20\", \"goal\": \"normalized_root_mean_squared_error_min\", \"run_name\": \"MaxAbsScaler, SGD\", \"run_properties\": \"copy=True\", \"primary_metric\": 0.02929258, \"best_metric\": 0.01749203}, {\"run_id\": \"AutoML_6ba84f13-0ca5-4480-ab18-1a3e38889df2_21\", \"run_number\": 56, \"metric\": null, \"status\": \"Completed\", \"run_type\": \"azureml.scriptrun\", \"training_percent\": \"100\", \"start_time\": \"2021-02-12T06:58:47.777667Z\", \"end_time\": \"2021-02-12T06:59:53.004745Z\", \"created_time\": \"2021-02-12T06:57:56.618741Z\", \"created_time_dt\": \"2021-02-12T06:57:56.618741Z\", \"duration\": \"0:01:56\", \"iteration\": \"21\", \"goal\": \"normalized_root_mean_squared_error_min\", \"run_name\": \"MaxAbsScaler, DecisionTree\", \"run_properties\": \"copy=True\", \"primary_metric\": 0.02915122, \"best_metric\": 0.01749203}, {\"run_id\": \"AutoML_6ba84f13-0ca5-4480-ab18-1a3e38889df2_22\", \"run_number\": 61, \"metric\": null, \"status\": \"Completed\", \"run_type\": \"azureml.scriptrun\", \"training_percent\": \"100\", \"start_time\": \"2021-02-12T07:00:37.093876Z\", \"end_time\": \"2021-02-12T07:01:31.091471Z\", \"created_time\": \"2021-02-12T06:59:03.934555Z\", \"created_time_dt\": \"2021-02-12T06:59:03.934555Z\", \"duration\": \"0:02:27\", \"iteration\": \"22\", \"goal\": \"normalized_root_mean_squared_error_min\", \"run_name\": \"MaxAbsScaler, DecisionTree\", \"run_properties\": \"copy=True\", \"primary_metric\": 0.02677532, \"best_metric\": 0.01749203}, {\"run_id\": \"AutoML_6ba84f13-0ca5-4480-ab18-1a3e38889df2_23\", \"run_number\": 62, \"metric\": null, \"status\": \"Completed\", \"run_type\": \"azureml.scriptrun\", \"training_percent\": \"100\", \"start_time\": \"2021-02-12T07:00:41.304511Z\", \"end_time\": \"2021-02-12T07:01:36.50874Z\", \"created_time\": \"2021-02-12T06:59:36.250216Z\", \"created_time_dt\": \"2021-02-12T06:59:36.250216Z\", \"duration\": \"0:02:00\", \"iteration\": \"23\", \"goal\": \"normalized_root_mean_squared_error_min\", \"run_name\": \"MaxAbsScaler, DecisionTree\", \"run_properties\": \"copy=True\", \"primary_metric\": 0.02729412, \"best_metric\": 0.01749203}, {\"run_id\": \"AutoML_6ba84f13-0ca5-4480-ab18-1a3e38889df2_24\", \"run_number\": 63, \"metric\": null, \"status\": \"Completed\", \"run_type\": \"azureml.scriptrun\", \"training_percent\": \"100\", \"start_time\": \"2021-02-12T07:00:38.842329Z\", \"end_time\": \"2021-02-12T07:01:32.974637Z\", \"created_time\": \"2021-02-12T06:59:47.677213Z\", \"created_time_dt\": \"2021-02-12T06:59:47.677213Z\", \"duration\": \"0:01:45\", \"iteration\": \"24\", \"goal\": \"normalized_root_mean_squared_error_min\", \"run_name\": \"MaxAbsScaler, DecisionTree\", \"run_properties\": \"copy=True\", \"primary_metric\": 0.02951011, \"best_metric\": 0.01749203}, {\"run_id\": \"AutoML_6ba84f13-0ca5-4480-ab18-1a3e38889df2_25\", \"run_number\": 64, \"metric\": null, \"status\": \"Completed\", \"run_type\": \"azureml.scriptrun\", \"training_percent\": \"100\", \"start_time\": \"2021-02-12T07:00:52.946533Z\", \"end_time\": \"2021-02-12T07:01:49.187141Z\", \"created_time\": \"2021-02-12T06:59:56.745529Z\", \"created_time_dt\": \"2021-02-12T06:59:56.745529Z\", \"duration\": \"0:01:52\", \"iteration\": \"25\", \"goal\": \"normalized_root_mean_squared_error_min\", \"run_name\": \"MaxAbsScaler, LightGBM\", \"run_properties\": \"copy=True\", \"primary_metric\": 0.02940739, \"best_metric\": 0.01749203}, {\"run_id\": \"AutoML_6ba84f13-0ca5-4480-ab18-1a3e38889df2_26\", \"run_number\": 69, \"metric\": null, \"status\": \"Completed\", \"run_type\": \"azureml.scriptrun\", \"training_percent\": \"100\", \"start_time\": \"2021-02-12T07:02:29.621453Z\", \"end_time\": \"2021-02-12T07:03:53.062197Z\", \"created_time\": \"2021-02-12T07:01:33.890751Z\", \"created_time_dt\": \"2021-02-12T07:01:33.890751Z\", \"duration\": \"0:02:19\", \"iteration\": \"26\", \"goal\": \"normalized_root_mean_squared_error_min\", \"run_name\": \"MaxAbsScaler, RandomForest\", \"run_properties\": \"copy=True\", \"primary_metric\": 0.02557165, \"best_metric\": 0.01749203}, {\"run_id\": \"AutoML_6ba84f13-0ca5-4480-ab18-1a3e38889df2_27\", \"run_number\": 70, \"metric\": null, \"status\": \"Completed\", \"run_type\": \"azureml.scriptrun\", \"training_percent\": \"100\", \"start_time\": \"2021-02-12T07:02:42.772704Z\", \"end_time\": \"2021-02-12T07:03:37.28975Z\", \"created_time\": \"2021-02-12T07:01:37.050274Z\", \"created_time_dt\": \"2021-02-12T07:01:37.050274Z\", \"duration\": \"0:02:00\", \"iteration\": \"27\", \"goal\": \"normalized_root_mean_squared_error_min\", \"run_name\": \"MaxAbsScaler, DecisionTree\", \"run_properties\": \"copy=True\", \"primary_metric\": 0.02984721, \"best_metric\": 0.01749203}, {\"run_id\": \"AutoML_6ba84f13-0ca5-4480-ab18-1a3e38889df2_28\", \"run_number\": 71, \"metric\": null, \"status\": \"Completed\", \"run_type\": \"azureml.scriptrun\", \"training_percent\": \"100\", \"start_time\": \"2021-02-12T07:02:42.222268Z\", \"end_time\": \"2021-02-12T07:03:35.71456Z\", \"created_time\": \"2021-02-12T07:01:41.575002Z\", \"created_time_dt\": \"2021-02-12T07:01:41.575002Z\", \"duration\": \"0:01:54\", \"iteration\": \"28\", \"goal\": \"normalized_root_mean_squared_error_min\", \"run_name\": \"MaxAbsScaler, DecisionTree\", \"run_properties\": \"copy=True\", \"primary_metric\": 0.02708317, \"best_metric\": 0.01749203}, {\"run_id\": \"AutoML_6ba84f13-0ca5-4480-ab18-1a3e38889df2_29\", \"run_number\": 72, \"metric\": null, \"status\": \"Completed\", \"run_type\": \"azureml.scriptrun\", \"training_percent\": \"100\", \"start_time\": \"2021-02-12T07:02:52.247935Z\", \"end_time\": \"2021-02-12T07:03:49.813856Z\", \"created_time\": \"2021-02-12T07:01:51.097434Z\", \"created_time_dt\": \"2021-02-12T07:01:51.097434Z\", \"duration\": \"0:01:58\", \"iteration\": \"29\", \"goal\": \"normalized_root_mean_squared_error_min\", \"run_name\": \"MaxAbsScaler, DecisionTree\", \"run_properties\": \"copy=True\", \"primary_metric\": 0.02908121, \"best_metric\": 0.01749203}, {\"run_id\": \"AutoML_6ba84f13-0ca5-4480-ab18-1a3e38889df2_30\", \"run_number\": 77, \"metric\": null, \"status\": \"Completed\", \"run_type\": \"azureml.scriptrun\", \"training_percent\": \"100\", \"start_time\": \"2021-02-12T07:03:53.336339Z\", \"end_time\": \"2021-02-12T07:04:45.130688Z\", \"created_time\": \"2021-02-12T07:03:39.205863Z\", \"created_time_dt\": \"2021-02-12T07:03:39.205863Z\", \"duration\": \"0:01:05\", \"iteration\": \"30\", \"goal\": \"normalized_root_mean_squared_error_min\", \"run_name\": \"MaxAbsScaler, LightGBM\", \"run_properties\": \"copy=True\", \"primary_metric\": 0.02876776, \"best_metric\": 0.01749203}, {\"run_id\": \"AutoML_6ba84f13-0ca5-4480-ab18-1a3e38889df2_31\", \"run_number\": 78, \"metric\": null, \"status\": \"Completed\", \"run_type\": \"azureml.scriptrun\", \"training_percent\": \"100\", \"start_time\": \"2021-02-12T07:03:55.749386Z\", \"end_time\": \"2021-02-12T07:04:46.570024Z\", \"created_time\": \"2021-02-12T07:03:43.678074Z\", \"created_time_dt\": \"2021-02-12T07:03:43.678074Z\", \"duration\": \"0:01:02\", \"iteration\": \"31\", \"goal\": \"normalized_root_mean_squared_error_min\", \"run_name\": \"MaxAbsScaler, DecisionTree\", \"run_properties\": \"copy=True\", \"primary_metric\": 0.02577383, \"best_metric\": 0.01749203}, {\"run_id\": \"AutoML_6ba84f13-0ca5-4480-ab18-1a3e38889df2_32\", \"run_number\": 79, \"metric\": null, \"status\": \"Completed\", \"run_type\": \"azureml.scriptrun\", \"training_percent\": \"100\", \"start_time\": \"2021-02-12T07:04:48.681218Z\", \"end_time\": \"2021-02-12T07:05:40.96471Z\", \"created_time\": \"2021-02-12T07:03:52.25311Z\", \"created_time_dt\": \"2021-02-12T07:03:52.25311Z\", \"duration\": \"0:01:48\", \"iteration\": \"32\", \"goal\": \"normalized_root_mean_squared_error_min\", \"run_name\": \"MaxAbsScaler, DecisionTree\", \"run_properties\": \"copy=True\", \"primary_metric\": 0.02698913, \"best_metric\": 0.01749203}, {\"run_id\": \"AutoML_6ba84f13-0ca5-4480-ab18-1a3e38889df2_33\", \"run_number\": 80, \"metric\": null, \"status\": \"Canceled\", \"run_type\": \"azureml.scriptrun\", \"training_percent\": \"100\", \"start_time\": \"2021-02-12T07:04:48.684745Z\", \"end_time\": \"2021-02-12T07:05:48.693162Z\", \"created_time\": \"2021-02-12T07:03:57.482255Z\", \"created_time_dt\": \"2021-02-12T07:03:57.482255Z\", \"duration\": \"0:01:51\", \"iteration\": \"33\", \"goal\": \"normalized_root_mean_squared_error_min\", \"run_name\": \"MaxAbsScaler, GradientBoosting\", \"run_properties\": \"copy=True\", \"primary_metric\": 0.0317512, \"best_metric\": 0.01749203}, {\"run_id\": \"AutoML_6ba84f13-0ca5-4480-ab18-1a3e38889df2_34\", \"run_number\": 81, \"metric\": null, \"status\": \"Canceled\", \"run_type\": \"azureml.scriptrun\", \"training_percent\": \"100\", \"start_time\": \"2021-02-12T07:05:04.392394Z\", \"end_time\": \"2021-02-12T07:05:48.834542Z\", \"created_time\": \"2021-02-12T07:04:47.831472Z\", \"created_time_dt\": \"2021-02-12T07:04:47.831472Z\", \"duration\": \"0:01:01\", \"iteration\": \"34\", \"goal\": \"normalized_root_mean_squared_error_min\", \"run_name\": \"MaxAbsScaler, DecisionTree\", \"run_properties\": \"copy=True\", \"primary_metric\": 0.02884275, \"best_metric\": 0.01749203}, {\"run_id\": \"AutoML_6ba84f13-0ca5-4480-ab18-1a3e38889df2_35\", \"run_number\": 82, \"metric\": null, \"status\": \"Canceled\", \"run_type\": \"azureml.scriptrun\", \"training_percent\": \"100\", \"start_time\": \"2021-02-12T07:05:14.643715Z\", \"end_time\": \"2021-02-12T07:05:48.986225Z\", \"created_time\": \"2021-02-12T07:04:53.620191Z\", \"created_time_dt\": \"2021-02-12T07:04:53.620191Z\", \"duration\": \"0:00:55\", \"iteration\": \"35\", \"goal\": null, \"run_name\": \"MaxAbsScaler, LightGBM\", \"run_properties\": null}, {\"run_id\": \"AutoML_6ba84f13-0ca5-4480-ab18-1a3e38889df2_36\", \"run_number\": 84, \"metric\": null, \"status\": \"Completed\", \"run_type\": \"azureml.scriptrun\", \"training_percent\": \"100\", \"start_time\": \"2021-02-12T07:06:07.790406Z\", \"end_time\": \"2021-02-12T07:07:25.032367Z\", \"created_time\": \"2021-02-12T07:05:50.263991Z\", \"created_time_dt\": \"2021-02-12T07:05:50.263991Z\", \"duration\": \"0:01:34\", \"iteration\": \"36\", \"goal\": \"normalized_root_mean_squared_error_min\", \"run_name\": \"VotingEnsemble\", \"run_properties\": \"estimators=[('0',\\n                                          Pipeline(memory=None,\\n                                                   steps=[('maxabsscaler',\\n                                                           MaxAbsScaler(copy=True\", \"primary_metric\": 0.01743801, \"best_metric\": 0.01743801}, {\"run_id\": \"AutoML_6ba84f13-0ca5-4480-ab18-1a3e38889df2_37\", \"run_number\": 85, \"metric\": null, \"status\": \"Completed\", \"run_type\": \"azureml.scriptrun\", \"training_percent\": \"100\", \"start_time\": \"2021-02-12T07:06:07.996967Z\", \"end_time\": \"2021-02-12T07:07:28.284855Z\", \"created_time\": \"2021-02-12T07:05:50.400317Z\", \"created_time_dt\": \"2021-02-12T07:05:50.400317Z\", \"duration\": \"0:01:37\", \"iteration\": \"37\", \"goal\": \"normalized_root_mean_squared_error_min\", \"run_name\": \"StackEnsemble\", \"run_properties\": \"base_learners=[('0',\\n                                       Pipeline(memory=None,\\n                                                steps=[('maxabsscaler',\\n                                                        MaxAbsScaler(copy=True\", \"primary_metric\": 0.01747117, \"best_metric\": 0.01743801}], \"children_metrics\": {\"categories\": [0], \"series\": {\"normalized_median_absolute_error\": [{\"categories\": [\"0\", \"1\", \"2\", \"3\", \"4\", \"5\", \"6\", \"7\", \"8\", \"9\", \"10\", \"11\", \"12\", \"13\", \"14\", \"15\", \"16\", \"17\", \"18\", \"19\", \"20\", \"21\", \"22\", \"23\", \"24\", \"25\", \"26\", \"27\", \"28\", \"29\", \"30\", \"31\", \"32\", \"33\", \"34\", \"36\", \"37\"], \"mode\": \"markers\", \"name\": \"normalized_median_absolute_error\", \"stepped\": false, \"type\": \"scatter\", \"data\": [0.005391533478267073, 0.006520602459016394, 0.01062322694421417, 0.00875343023881474, 0.013391992007353947, 0.00797769824446724, 0.007512538765540674, 0.008032990018860832, 0.00876610436501304, 0.007738417565998401, 0.008289818933713495, 0.007391150378038566, 0.008914397583452926, 0.008399965105868571, 0.009484909209600519, 0.009405612155735871, 0.013178200253004202, 0.0072282446791579165, 0.009409504400643856, 0.008801114417499556, 0.013690803749773446, 0.008287782614442418, 0.0077444263320515586, 0.007747722702125821, 0.008335886780320658, 0.01006164533959391, 0.0071555355170164515, 0.009162124233423047, 0.0076703875068673995, 0.008338702284544147, 0.009014144311574846, 0.007421098347628216, 0.00769884520592263, 0.012257498925969399, 0.00828071250949655, 0.0054654134594089845, 0.0055030473397083895]}, {\"categories\": [\"0\", \"1\", \"2\", \"3\", \"4\", \"5\", \"6\", \"7\", \"8\", \"9\", \"10\", \"11\", \"12\", \"13\", \"14\", \"15\", \"16\", \"17\", \"18\", \"19\", \"20\", \"21\", \"22\", \"23\", \"24\", \"25\", \"26\", \"27\", \"28\", \"29\", \"30\", \"31\", \"32\", \"33\", \"34\", \"36\", \"37\"], \"mode\": \"lines\", \"name\": \"normalized_median_absolute_error_min\", \"stepped\": true, \"type\": \"scatter\", \"data\": [0.005391533478267073, 0.005391533478267073, 0.005391533478267073, 0.005391533478267073, 0.005391533478267073, 0.005391533478267073, 0.005391533478267073, 0.005391533478267073, 0.005391533478267073, 0.005391533478267073, 0.005391533478267073, 0.005391533478267073, 0.005391533478267073, 0.005391533478267073, 0.005391533478267073, 0.005391533478267073, 0.005391533478267073, 0.005391533478267073, 0.005391533478267073, 0.005391533478267073, 0.005391533478267073, 0.005391533478267073, 0.005391533478267073, 0.005391533478267073, 0.005391533478267073, 0.005391533478267073, 0.005391533478267073, 0.005391533478267073, 0.005391533478267073, 0.005391533478267073, 0.005391533478267073, 0.005391533478267073, 0.005391533478267073, 0.005391533478267073, 0.005391533478267073, 0.005391533478267073, 0.005391533478267073]}], \"r2_score\": [{\"categories\": [\"0\", \"1\", \"2\", \"3\", \"4\", \"5\", \"6\", \"7\", \"8\", \"9\", \"10\", \"11\", \"12\", \"13\", \"14\", \"15\", \"16\", \"17\", \"18\", \"19\", \"20\", \"21\", \"22\", \"23\", \"24\", \"25\", \"26\", \"27\", \"28\", \"29\", \"30\", \"31\", \"32\", \"33\", \"34\", \"36\", \"37\"], \"mode\": \"markers\", \"name\": \"r2_score\", \"stepped\": false, \"type\": \"scatter\", \"data\": [0.8678917330124635, 0.8389987758088558, 0.7118098176879166, 0.6069585957842699, 0.6420560802652718, 0.661332472505972, 0.6972740475430999, 0.6589858229520026, 0.5975242547905857, 0.6763357972563568, 0.6452776645528554, 0.7203038647005066, 0.5949844857720844, 0.6303023883299638, 0.5602671531191297, 0.5820899406023764, 0.6522150516561781, 0.7203636467086652, 0.5749783894781005, 0.6016331478037485, 0.6297623209373184, 0.6331353567233561, 0.6906503387223365, 0.6784518295373196, 0.6240410925979302, 0.6269297261841696, 0.7178030647275199, 0.6156531662950485, 0.6835321825336177, 0.635102011578711, 0.64295225664735, 0.7132277949654992, 0.6854829517901683, 0.5650180672664468, 0.6410915269843895, 0.8687157036211103, 0.868226895663082]}, {\"categories\": [\"0\", \"1\", \"2\", \"3\", \"4\", \"5\", \"6\", \"7\", \"8\", \"9\", \"10\", \"11\", \"12\", \"13\", \"14\", \"15\", \"16\", \"17\", \"18\", \"19\", \"20\", \"21\", \"22\", \"23\", \"24\", \"25\", \"26\", \"27\", \"28\", \"29\", \"30\", \"31\", \"32\", \"33\", \"34\", \"36\", \"37\"], \"mode\": \"lines\", \"name\": \"r2_score_max\", \"stepped\": true, \"type\": \"scatter\", \"data\": [0.8678917330124635, 0.8678917330124635, 0.8678917330124635, 0.8678917330124635, 0.8678917330124635, 0.8678917330124635, 0.8678917330124635, 0.8678917330124635, 0.8678917330124635, 0.8678917330124635, 0.8678917330124635, 0.8678917330124635, 0.8678917330124635, 0.8678917330124635, 0.8678917330124635, 0.8678917330124635, 0.8678917330124635, 0.8678917330124635, 0.8678917330124635, 0.8678917330124635, 0.8678917330124635, 0.8678917330124635, 0.8678917330124635, 0.8678917330124635, 0.8678917330124635, 0.8678917330124635, 0.8678917330124635, 0.8678917330124635, 0.8678917330124635, 0.8678917330124635, 0.8678917330124635, 0.8678917330124635, 0.8678917330124635, 0.8678917330124635, 0.8678917330124635, 0.8687157036211103, 0.8687157036211103]}], \"mean_absolute_percentage_error\": [{\"categories\": [\"0\", \"1\", \"2\", \"3\", \"4\", \"5\", \"6\", \"7\", \"8\", \"9\", \"10\", \"11\", \"12\", \"13\", \"14\", \"15\", \"16\", \"17\", \"18\", \"19\", \"20\", \"21\", \"22\", \"23\", \"24\", \"25\", \"26\", \"27\", \"28\", \"29\", \"30\", \"31\", \"32\", \"33\", \"34\", \"36\", \"37\"], \"mode\": \"markers\", \"name\": \"mean_absolute_percentage_error\", \"stepped\": false, \"type\": \"scatter\", \"data\": [13.322970503818572, 15.676762911221507, 23.361561860936565, 21.969151638751303, 29.27063547254279, 19.956224212074655, 18.74847171091139, 20.116880321471328, 21.99073483850781, 19.616849119018685, 20.509980628802467, 18.30223899662567, 22.342899680259354, 21.057514232956965, 23.354556915167844, 22.99019492723454, 28.551994888199175, 18.04214799406476, 23.09663028837289, 22.031830849496018, 29.483318733101882, 20.86942968161483, 19.072582948559056, 19.236519639429094, 20.932957864041907, 23.90145963409996, 17.896288894921884, 21.83940799368806, 19.284575000153158, 20.777912448765587, 21.141480904366542, 18.54680206674737, 19.15989184545009, 27.914815318572334, 20.679894544128107, 13.431347018155783, 13.44008011823476]}, {\"categories\": [\"0\", \"1\", \"2\", \"3\", \"4\", \"5\", \"6\", \"7\", \"8\", \"9\", \"10\", \"11\", \"12\", \"13\", \"14\", \"15\", \"16\", \"17\", \"18\", \"19\", \"20\", \"21\", \"22\", \"23\", \"24\", \"25\", \"26\", \"27\", \"28\", \"29\", \"30\", \"31\", \"32\", \"33\", \"34\", \"36\", \"37\"], \"mode\": \"lines\", \"name\": \"mean_absolute_percentage_error_min\", \"stepped\": true, \"type\": \"scatter\", \"data\": [13.322970503818572, 13.322970503818572, 13.322970503818572, 13.322970503818572, 13.322970503818572, 13.322970503818572, 13.322970503818572, 13.322970503818572, 13.322970503818572, 13.322970503818572, 13.322970503818572, 13.322970503818572, 13.322970503818572, 13.322970503818572, 13.322970503818572, 13.322970503818572, 13.322970503818572, 13.322970503818572, 13.322970503818572, 13.322970503818572, 13.322970503818572, 13.322970503818572, 13.322970503818572, 13.322970503818572, 13.322970503818572, 13.322970503818572, 13.322970503818572, 13.322970503818572, 13.322970503818572, 13.322970503818572, 13.322970503818572, 13.322970503818572, 13.322970503818572, 13.322970503818572, 13.322970503818572, 13.322970503818572, 13.322970503818572]}], \"explained_variance\": [{\"categories\": [\"0\", \"1\", \"2\", \"3\", \"4\", \"5\", \"6\", \"7\", \"8\", \"9\", \"10\", \"11\", \"12\", \"13\", \"14\", \"15\", \"16\", \"17\", \"18\", \"19\", \"20\", \"21\", \"22\", \"23\", \"24\", \"25\", \"26\", \"27\", \"28\", \"29\", \"30\", \"31\", \"32\", \"33\", \"34\", \"36\", \"37\"], \"mode\": \"markers\", \"name\": \"explained_variance\", \"stepped\": false, \"type\": \"scatter\", \"data\": [0.8679058696481784, 0.8390271278788385, 0.7118600296631787, 0.6069766852042973, 0.6421210363619961, 0.6613726381350872, 0.6972923403040966, 0.6590132144465831, 0.5975384461312128, 0.6763521030847173, 0.6453037805280946, 0.7203498482285985, 0.5949996070546301, 0.6303111129153244, 0.560299679042992, 0.5820909003288935, 0.6533661725252636, 0.7204123691104982, 0.5749802244339116, 0.6016515157444029, 0.6301778776869295, 0.6332107474387763, 0.6906559174958612, 0.6784821429737374, 0.6241157297604073, 0.6269418761489011, 0.7178175931595995, 0.6157102429526067, 0.6835567279344111, 0.635119344612859, 0.642957846887705, 0.7132871814716104, 0.6854939922515636, 0.5650273104005528, 0.6411340248547792, 0.8687299150568991, 0.8682601179380597]}, {\"categories\": [\"0\", \"1\", \"2\", \"3\", \"4\", \"5\", \"6\", \"7\", \"8\", \"9\", \"10\", \"11\", \"12\", \"13\", \"14\", \"15\", \"16\", \"17\", \"18\", \"19\", \"20\", \"21\", \"22\", \"23\", \"24\", \"25\", \"26\", \"27\", \"28\", \"29\", \"30\", \"31\", \"32\", \"33\", \"34\", \"36\", \"37\"], \"mode\": \"lines\", \"name\": \"explained_variance_max\", \"stepped\": true, \"type\": \"scatter\", \"data\": [0.8679058696481784, 0.8679058696481784, 0.8679058696481784, 0.8679058696481784, 0.8679058696481784, 0.8679058696481784, 0.8679058696481784, 0.8679058696481784, 0.8679058696481784, 0.8679058696481784, 0.8679058696481784, 0.8679058696481784, 0.8679058696481784, 0.8679058696481784, 0.8679058696481784, 0.8679058696481784, 0.8679058696481784, 0.8679058696481784, 0.8679058696481784, 0.8679058696481784, 0.8679058696481784, 0.8679058696481784, 0.8679058696481784, 0.8679058696481784, 0.8679058696481784, 0.8679058696481784, 0.8679058696481784, 0.8679058696481784, 0.8679058696481784, 0.8679058696481784, 0.8679058696481784, 0.8679058696481784, 0.8679058696481784, 0.8679058696481784, 0.8679058696481784, 0.8687299150568991, 0.8687299150568991]}], \"normalized_root_mean_squared_error\": [{\"categories\": [\"0\", \"1\", \"2\", \"3\", \"4\", \"5\", \"6\", \"7\", \"8\", \"9\", \"10\", \"11\", \"12\", \"13\", \"14\", \"15\", \"16\", \"17\", \"18\", \"19\", \"20\", \"21\", \"22\", \"23\", \"24\", \"25\", \"26\", \"27\", \"28\", \"29\", \"30\", \"31\", \"32\", \"33\", \"34\", \"36\", \"37\"], \"mode\": \"markers\", \"name\": \"normalized_root_mean_squared_error\", \"stepped\": false, \"type\": \"scatter\", \"data\": [0.017492026038118034, 0.019313731663380757, 0.025841327866754044, 0.030175801009650755, 0.02880194014567451, 0.028007108432073352, 0.02648475221986563, 0.028103369530819933, 0.030520485625029268, 0.027389354224383003, 0.028672514720161846, 0.025461869572194682, 0.030635652947675215, 0.029267995638512918, 0.03192416403943702, 0.031118186690154415, 0.028387804091402933, 0.02545350948879389, 0.031378275588699746, 0.030374752254704086, 0.02929257832844977, 0.02915122246467583, 0.026775318915835195, 0.02729411870323173, 0.029510106865448055, 0.029407386478366392, 0.02557165152800971, 0.029847214972595768, 0.02708317052016133, 0.029081210234879324, 0.02876776285735751, 0.025773828710226224, 0.02698913065751961, 0.03175119779197782, 0.02884274666407215, 0.017438010386340595, 0.017471169647078674]}, {\"categories\": [\"0\", \"1\", \"2\", \"3\", \"4\", \"5\", \"6\", \"7\", \"8\", \"9\", \"10\", \"11\", \"12\", \"13\", \"14\", \"15\", \"16\", \"17\", \"18\", \"19\", \"20\", \"21\", \"22\", \"23\", \"24\", \"25\", \"26\", \"27\", \"28\", \"29\", \"30\", \"31\", \"32\", \"33\", \"34\", \"36\", \"37\"], \"mode\": \"lines\", \"name\": \"normalized_root_mean_squared_error_min\", \"stepped\": true, \"type\": \"scatter\", \"data\": [0.017492026038118034, 0.017492026038118034, 0.017492026038118034, 0.017492026038118034, 0.017492026038118034, 0.017492026038118034, 0.017492026038118034, 0.017492026038118034, 0.017492026038118034, 0.017492026038118034, 0.017492026038118034, 0.017492026038118034, 0.017492026038118034, 0.017492026038118034, 0.017492026038118034, 0.017492026038118034, 0.017492026038118034, 0.017492026038118034, 0.017492026038118034, 0.017492026038118034, 0.017492026038118034, 0.017492026038118034, 0.017492026038118034, 0.017492026038118034, 0.017492026038118034, 0.017492026038118034, 0.017492026038118034, 0.017492026038118034, 0.017492026038118034, 0.017492026038118034, 0.017492026038118034, 0.017492026038118034, 0.017492026038118034, 0.017492026038118034, 0.017492026038118034, 0.017438010386340595, 0.017438010386340595]}], \"root_mean_squared_log_error\": [{\"categories\": [\"0\", \"1\", \"2\", \"3\", \"4\", \"5\", \"6\", \"7\", \"8\", \"9\", \"10\", \"11\", \"12\", \"13\", \"14\", \"15\", \"16\", \"17\", \"18\", \"19\", \"20\", \"21\", \"22\", \"23\", \"24\", \"25\", \"26\", \"27\", \"28\", \"29\", \"30\", \"31\", \"32\", \"33\", \"34\", \"36\", \"37\"], \"mode\": \"markers\", \"name\": \"root_mean_squared_log_error\", \"stepped\": false, \"type\": \"scatter\", \"data\": [0.17792699139347087, 0.2020803781485613, NaN, 0.277570926115323, 0.3364976209845106, 0.2564114381251709, 0.2423700781564108, 0.25716661914802524, 0.2781056526541967, 0.2520137362416022, 0.2615298288127446, 0.2375669160825187, 0.28136054639865193, 0.2670767722173999, 0.29222488386223217, 0.2875765184889223, 0.33090953473831297, 0.235107858583931, 0.28872830786120246, 0.2784617888047209, 0.34344947092700656, 0.265131529609244, 0.24565680460872433, 0.2474657677426757, 0.26663871379234455, 0.282981865237218, 0.23150450368053846, 0.27444419634393197, 0.24859351658127973, 0.2642304590573454, 0.2658418731700248, 0.23965279033480336, 0.24677866556089298, 0.31951160747863555, 0.2641221130017058, 0.1786721021922142, 0.17869607335295204]}, {\"categories\": [\"0\", \"1\", \"2\", \"3\", \"4\", \"5\", \"6\", \"7\", \"8\", \"9\", \"10\", \"11\", \"12\", \"13\", \"14\", \"15\", \"16\", \"17\", \"18\", \"19\", \"20\", \"21\", \"22\", \"23\", \"24\", \"25\", \"26\", \"27\", \"28\", \"29\", \"30\", \"31\", \"32\", \"33\", \"34\", \"36\", \"37\"], \"mode\": \"lines\", \"name\": \"root_mean_squared_log_error_min\", \"stepped\": true, \"type\": \"scatter\", \"data\": [0.17792699139347087, 0.17792699139347087, 0.17792699139347087, 0.17792699139347087, 0.17792699139347087, 0.17792699139347087, 0.17792699139347087, 0.17792699139347087, 0.17792699139347087, 0.17792699139347087, 0.17792699139347087, 0.17792699139347087, 0.17792699139347087, 0.17792699139347087, 0.17792699139347087, 0.17792699139347087, 0.17792699139347087, 0.17792699139347087, 0.17792699139347087, 0.17792699139347087, 0.17792699139347087, 0.17792699139347087, 0.17792699139347087, 0.17792699139347087, 0.17792699139347087, 0.17792699139347087, 0.17792699139347087, 0.17792699139347087, 0.17792699139347087, 0.17792699139347087, 0.17792699139347087, 0.17792699139347087, 0.17792699139347087, 0.17792699139347087, 0.17792699139347087, 0.17792699139347087, 0.17792699139347087]}], \"spearman_correlation\": [{\"categories\": [\"0\", \"1\", \"2\", \"3\", \"4\", \"5\", \"6\", \"7\", \"8\", \"9\", \"10\", \"11\", \"12\", \"13\", \"14\", \"15\", \"16\", \"17\", \"18\", \"19\", \"20\", \"21\", \"22\", \"23\", \"24\", \"25\", \"26\", \"27\", \"28\", \"29\", \"30\", \"31\", \"32\", \"33\", \"34\", \"36\", \"37\"], \"mode\": \"markers\", \"name\": \"spearman_correlation\", \"stepped\": false, \"type\": \"scatter\", \"data\": [0.9442653350749698, 0.9265187976567925, 0.8561238721235928, 0.8626692850053034, 0.7358764189604496, 0.8838273932475454, 0.8964715621830681, 0.8842475759808398, 0.8633326529618078, 0.8892555257988178, 0.8788037374570276, 0.9003898266784164, 0.8599330145030727, 0.8750510666225622, 0.8475839459345189, 0.8525088090724569, 0.7478083621637627, 0.9031845056377171, 0.8481390129890181, 0.8633820795792461, 0.7226244327223608, 0.8770761309724392, 0.8934767393255064, 0.8934165741593012, 0.8772523040043394, 0.9112328222253429, 0.909180476435515, 0.86524103601621, 0.8921301622033337, 0.8774867143265025, 0.881394305160621, 0.899453233799445, 0.8935430156887043, 0.8798963823543712, 0.8758518282443921, 0.9437223494285089, 0.9433141174366232]}, {\"categories\": [\"0\", \"1\", \"2\", \"3\", \"4\", \"5\", \"6\", \"7\", \"8\", \"9\", \"10\", \"11\", \"12\", \"13\", \"14\", \"15\", \"16\", \"17\", \"18\", \"19\", \"20\", \"21\", \"22\", \"23\", \"24\", \"25\", \"26\", \"27\", \"28\", \"29\", \"30\", \"31\", \"32\", \"33\", \"34\", \"36\", \"37\"], \"mode\": \"lines\", \"name\": \"spearman_correlation_max\", \"stepped\": true, \"type\": \"scatter\", \"data\": [0.9442653350749698, 0.9442653350749698, 0.9442653350749698, 0.9442653350749698, 0.9442653350749698, 0.9442653350749698, 0.9442653350749698, 0.9442653350749698, 0.9442653350749698, 0.9442653350749698, 0.9442653350749698, 0.9442653350749698, 0.9442653350749698, 0.9442653350749698, 0.9442653350749698, 0.9442653350749698, 0.9442653350749698, 0.9442653350749698, 0.9442653350749698, 0.9442653350749698, 0.9442653350749698, 0.9442653350749698, 0.9442653350749698, 0.9442653350749698, 0.9442653350749698, 0.9442653350749698, 0.9442653350749698, 0.9442653350749698, 0.9442653350749698, 0.9442653350749698, 0.9442653350749698, 0.9442653350749698, 0.9442653350749698, 0.9442653350749698, 0.9442653350749698, 0.9442653350749698, 0.9442653350749698]}], \"normalized_root_mean_squared_log_error\": [{\"categories\": [\"0\", \"1\", \"2\", \"3\", \"4\", \"5\", \"6\", \"7\", \"8\", \"9\", \"10\", \"11\", \"12\", \"13\", \"14\", \"15\", \"16\", \"17\", \"18\", \"19\", \"20\", \"21\", \"22\", \"23\", \"24\", \"25\", \"26\", \"27\", \"28\", \"29\", \"30\", \"31\", \"32\", \"33\", \"34\", \"36\", \"37\"], \"mode\": \"markers\", \"name\": \"normalized_root_mean_squared_log_error\", \"stepped\": false, \"type\": \"scatter\", \"data\": [0.038416923039358876, 0.043631976656818235, NaN, 0.05993144054773938, 0.07265453716182864, 0.05536281149767978, 0.052331085725984494, 0.05552586563021227, 0.06004689547748402, 0.05441328622617395, 0.05646794354982051, 0.05129401593520597, 0.06074967250699892, 0.05766560612035807, 0.06309543473758146, 0.0620917877169315, 0.07144799127704643, 0.050763071068815835, 0.0623404751326288, 0.060123790247519036, 0.0741555386800943, 0.057245601066683305, 0.053040735881821316, 0.053431316293223695, 0.05757102318681723, 0.06109973789368169, 0.049985056407167335, 0.059256335910429066, 0.05367481302185981, 0.05705104734678831, 0.05739897416478549, 0.05174438532543857, 0.05328296133352367, 0.06898701955536474, 0.05702765391980726, 0.03857780286982718, 0.03858297857830187]}, {\"categories\": [\"0\", \"1\", \"2\", \"3\", \"4\", \"5\", \"6\", \"7\", \"8\", \"9\", \"10\", \"11\", \"12\", \"13\", \"14\", \"15\", \"16\", \"17\", \"18\", \"19\", \"20\", \"21\", \"22\", \"23\", \"24\", \"25\", \"26\", \"27\", \"28\", \"29\", \"30\", \"31\", \"32\", \"33\", \"34\", \"36\", \"37\"], \"mode\": \"lines\", \"name\": \"normalized_root_mean_squared_log_error_min\", \"stepped\": true, \"type\": \"scatter\", \"data\": [0.038416923039358876, 0.038416923039358876, 0.038416923039358876, 0.038416923039358876, 0.038416923039358876, 0.038416923039358876, 0.038416923039358876, 0.038416923039358876, 0.038416923039358876, 0.038416923039358876, 0.038416923039358876, 0.038416923039358876, 0.038416923039358876, 0.038416923039358876, 0.038416923039358876, 0.038416923039358876, 0.038416923039358876, 0.038416923039358876, 0.038416923039358876, 0.038416923039358876, 0.038416923039358876, 0.038416923039358876, 0.038416923039358876, 0.038416923039358876, 0.038416923039358876, 0.038416923039358876, 0.038416923039358876, 0.038416923039358876, 0.038416923039358876, 0.038416923039358876, 0.038416923039358876, 0.038416923039358876, 0.038416923039358876, 0.038416923039358876, 0.038416923039358876, 0.038416923039358876, 0.038416923039358876]}], \"root_mean_squared_error\": [{\"categories\": [\"0\", \"1\", \"2\", \"3\", \"4\", \"5\", \"6\", \"7\", \"8\", \"9\", \"10\", \"11\", \"12\", \"13\", \"14\", \"15\", \"16\", \"17\", \"18\", \"19\", \"20\", \"21\", \"22\", \"23\", \"24\", \"25\", \"26\", \"27\", \"28\", \"29\", \"30\", \"31\", \"32\", \"33\", \"34\", \"36\", \"37\"], \"mode\": \"markers\", \"name\": \"root_mean_squared_error\", \"stepped\": false, \"type\": \"scatter\", \"data\": [133376.69854065, 147267.20393327827, 197040.12498399956, 230090.48269858697, 219614.79361076816, 213554.20179455928, 201946.23567647542, 214288.19267250202, 232718.7028908482, 208843.82596092043, 218627.92474123408, 194146.75548798448, 233596.8537260235, 223168.46674366097, 243421.7508007073, 237276.17351242746, 216457.0061969474, 194083.00985205336, 239259.35136383554, 231607.48594211868, 223355.9097544295, 222278.07129315325, 204161.80673324337, 208117.65511214195, 225014.56484904143, 224231.32189754373, 194983.84290107407, 227585.01416604276, 206509.17521623013, 221744.22804095483, 219354.19178735104, 196525.44391547496, 205792.121263587, 242102.88316383082, 219925.94331355017, 132964.82919584707, 133217.66855897487]}, {\"categories\": [\"0\", \"1\", \"2\", \"3\", \"4\", \"5\", \"6\", \"7\", \"8\", \"9\", \"10\", \"11\", \"12\", \"13\", \"14\", \"15\", \"16\", \"17\", \"18\", \"19\", \"20\", \"21\", \"22\", \"23\", \"24\", \"25\", \"26\", \"27\", \"28\", \"29\", \"30\", \"31\", \"32\", \"33\", \"34\", \"36\", \"37\"], \"mode\": \"lines\", \"name\": \"root_mean_squared_error_min\", \"stepped\": true, \"type\": \"scatter\", \"data\": [133376.69854065, 133376.69854065, 133376.69854065, 133376.69854065, 133376.69854065, 133376.69854065, 133376.69854065, 133376.69854065, 133376.69854065, 133376.69854065, 133376.69854065, 133376.69854065, 133376.69854065, 133376.69854065, 133376.69854065, 133376.69854065, 133376.69854065, 133376.69854065, 133376.69854065, 133376.69854065, 133376.69854065, 133376.69854065, 133376.69854065, 133376.69854065, 133376.69854065, 133376.69854065, 133376.69854065, 133376.69854065, 133376.69854065, 133376.69854065, 133376.69854065, 133376.69854065, 133376.69854065, 133376.69854065, 133376.69854065, 132964.82919584707, 132964.82919584707]}], \"normalized_mean_absolute_error\": [{\"categories\": [\"0\", \"1\", \"2\", \"3\", \"4\", \"5\", \"6\", \"7\", \"8\", \"9\", \"10\", \"11\", \"12\", \"13\", \"14\", \"15\", \"16\", \"17\", \"18\", \"19\", \"20\", \"21\", \"22\", \"23\", \"24\", \"25\", \"26\", \"27\", \"28\", \"29\", \"30\", \"31\", \"32\", \"33\", \"34\", \"36\", \"37\"], \"mode\": \"markers\", \"name\": \"normalized_mean_absolute_error\", \"stepped\": false, \"type\": \"scatter\", \"data\": [0.009246260743942749, 0.010869237423928422, 0.015813946482223624, 0.015905377844761055, 0.01868478767652981, 0.014508999354035828, 0.013645795718442428, 0.014585001598537007, 0.015984446786418402, 0.01424266942429485, 0.014886668891789004, 0.01325895339638139, 0.01612176248936945, 0.01526108368202099, 0.01705913729161084, 0.016599228046120327, 0.018416453694149706, 0.013094829060503133, 0.016766165752435898, 0.015918676230703244, 0.019031505377302586, 0.015145550833105927, 0.013846793180364915, 0.014047053427163987, 0.015326988363582159, 0.015253143102081127, 0.012924606060894073, 0.01592588502341315, 0.013996289640227186, 0.015079559213874867, 0.015045391940665134, 0.013432515193546761, 0.01391430911858213, 0.017404719865003044, 0.01500442819612443, 0.009295624022444335, 0.009350478974891462]}, {\"categories\": [\"0\", \"1\", \"2\", \"3\", \"4\", \"5\", \"6\", \"7\", \"8\", \"9\", \"10\", \"11\", \"12\", \"13\", \"14\", \"15\", \"16\", \"17\", \"18\", \"19\", \"20\", \"21\", \"22\", \"23\", \"24\", \"25\", \"26\", \"27\", \"28\", \"29\", \"30\", \"31\", \"32\", \"33\", \"34\", \"36\", \"37\"], \"mode\": \"lines\", \"name\": \"normalized_mean_absolute_error_min\", \"stepped\": true, \"type\": \"scatter\", \"data\": [0.009246260743942749, 0.009246260743942749, 0.009246260743942749, 0.009246260743942749, 0.009246260743942749, 0.009246260743942749, 0.009246260743942749, 0.009246260743942749, 0.009246260743942749, 0.009246260743942749, 0.009246260743942749, 0.009246260743942749, 0.009246260743942749, 0.009246260743942749, 0.009246260743942749, 0.009246260743942749, 0.009246260743942749, 0.009246260743942749, 0.009246260743942749, 0.009246260743942749, 0.009246260743942749, 0.009246260743942749, 0.009246260743942749, 0.009246260743942749, 0.009246260743942749, 0.009246260743942749, 0.009246260743942749, 0.009246260743942749, 0.009246260743942749, 0.009246260743942749, 0.009246260743942749, 0.009246260743942749, 0.009246260743942749, 0.009246260743942749, 0.009246260743942749, 0.009246260743942749, 0.009246260743942749]}], \"mean_absolute_error\": [{\"categories\": [\"0\", \"1\", \"2\", \"3\", \"4\", \"5\", \"6\", \"7\", \"8\", \"9\", \"10\", \"11\", \"12\", \"13\", \"14\", \"15\", \"16\", \"17\", \"18\", \"19\", \"20\", \"21\", \"22\", \"23\", \"24\", \"25\", \"26\", \"27\", \"28\", \"29\", \"30\", \"31\", \"32\", \"33\", \"34\", \"36\", \"37\"], \"mode\": \"markers\", \"name\": \"mean_absolute_error\", \"stepped\": false, \"type\": \"scatter\", \"data\": [70502.73817256348, 82877.93535745422, 120581.34192695515, 121278.50606630305, 142471.5060335398, 110631.12007452319, 104049.19235312351, 111210.63718884467, 121881.40674644032, 108600.35436024825, 113510.85029989116, 101099.5196474081, 122928.43898144206, 116365.76307541005, 130075.92184853267, 126569.11385166748, 140425.45941789148, 99848.0715863364, 127842.01386232371, 121379.90625911223, 145115.2285019322, 115484.82510243269, 105581.79800028248, 107108.78238212538, 116868.28627231396, 116305.21615336859, 98550.12121431732, 121434.87330352527, 106721.70850673229, 114981.63900579586, 114721.11354757164, 102422.92835079406, 106096.60702918873, 132710.98897064824, 114408.76499544877, 70879.13317113808, 71297.4021835474]}, {\"categories\": [\"0\", \"1\", \"2\", \"3\", \"4\", \"5\", \"6\", \"7\", \"8\", \"9\", \"10\", \"11\", \"12\", \"13\", \"14\", \"15\", \"16\", \"17\", \"18\", \"19\", \"20\", \"21\", \"22\", \"23\", \"24\", \"25\", \"26\", \"27\", \"28\", \"29\", \"30\", \"31\", \"32\", \"33\", \"34\", \"36\", \"37\"], \"mode\": \"lines\", \"name\": \"mean_absolute_error_min\", \"stepped\": true, \"type\": \"scatter\", \"data\": [70502.73817256348, 70502.73817256348, 70502.73817256348, 70502.73817256348, 70502.73817256348, 70502.73817256348, 70502.73817256348, 70502.73817256348, 70502.73817256348, 70502.73817256348, 70502.73817256348, 70502.73817256348, 70502.73817256348, 70502.73817256348, 70502.73817256348, 70502.73817256348, 70502.73817256348, 70502.73817256348, 70502.73817256348, 70502.73817256348, 70502.73817256348, 70502.73817256348, 70502.73817256348, 70502.73817256348, 70502.73817256348, 70502.73817256348, 70502.73817256348, 70502.73817256348, 70502.73817256348, 70502.73817256348, 70502.73817256348, 70502.73817256348, 70502.73817256348, 70502.73817256348, 70502.73817256348, 70502.73817256348, 70502.73817256348]}], \"median_absolute_error\": [{\"categories\": [\"0\", \"1\", \"2\", \"3\", \"4\", \"5\", \"6\", \"7\", \"8\", \"9\", \"10\", \"11\", \"12\", \"13\", \"14\", \"15\", \"16\", \"17\", \"18\", \"19\", \"20\", \"21\", \"22\", \"23\", \"24\", \"25\", \"26\", \"27\", \"28\", \"29\", \"30\", \"31\", \"32\", \"33\", \"34\", \"36\", \"37\"], \"mode\": \"markers\", \"name\": \"median_absolute_error\", \"stepped\": false, \"type\": \"scatter\", \"data\": [41110.44277178644, 49719.59375, 81002.10544963305, 66744.9055709624, 102113.93905607385, 60829.94911406271, 57283.10808724764, 61251.54889381384, 66841.54578322441, 59005.43394073781, 63209.86936956539, 56357.52163254406, 67972.28157382856, 64049.73393224785, 72322.43272320395, 71717.79268748601, 100483.77692915703, 55115.36567857912, 71747.47105490942, 67108.49743343411, 104392.37859202252, 63194.34243512343, 59051.25078189314, 59076.38560370939, 63561.13669994502, 76720.04571440356, 54560.95831725044, 69861.19727985073, 58486.704739863926, 63582.604919649115, 68732.85037575821, 56585.874900665156, 58703.694695160055, 93463.42931051669, 63140.4328849112, 41673.7776279935, 41960.735965276464]}, {\"categories\": [\"0\", \"1\", \"2\", \"3\", \"4\", \"5\", \"6\", \"7\", \"8\", \"9\", \"10\", \"11\", \"12\", \"13\", \"14\", \"15\", \"16\", \"17\", \"18\", \"19\", \"20\", \"21\", \"22\", \"23\", \"24\", \"25\", \"26\", \"27\", \"28\", \"29\", \"30\", \"31\", \"32\", \"33\", \"34\", \"36\", \"37\"], \"mode\": \"lines\", \"name\": \"median_absolute_error_min\", \"stepped\": true, \"type\": \"scatter\", \"data\": [41110.44277178644, 41110.44277178644, 41110.44277178644, 41110.44277178644, 41110.44277178644, 41110.44277178644, 41110.44277178644, 41110.44277178644, 41110.44277178644, 41110.44277178644, 41110.44277178644, 41110.44277178644, 41110.44277178644, 41110.44277178644, 41110.44277178644, 41110.44277178644, 41110.44277178644, 41110.44277178644, 41110.44277178644, 41110.44277178644, 41110.44277178644, 41110.44277178644, 41110.44277178644, 41110.44277178644, 41110.44277178644, 41110.44277178644, 41110.44277178644, 41110.44277178644, 41110.44277178644, 41110.44277178644, 41110.44277178644, 41110.44277178644, 41110.44277178644, 41110.44277178644, 41110.44277178644, 41110.44277178644, 41110.44277178644]}]}, \"metricName\": null, \"primaryMetricName\": \"normalized_root_mean_squared_error\", \"showLegend\": false}, \"run_metrics\": [{\"name\": \"experiment_status\", \"run_id\": \"AutoML_6ba84f13-0ca5-4480-ab18-1a3e38889df2\", \"categories\": [0, 1, 2, 3, 4, 5, 6, 7, 8, 9, 10, 11, 12, 13], \"series\": [{\"data\": [\"DatasetEvaluation\", \"FeaturesGeneration\", \"DatasetFeaturization\", \"DatasetFeaturizationCompleted\", \"DatasetCrossValidationSplit\", \"ModelSelection\", \"BestRunExplainModel\", \"ModelExplanationDataSetSetup\", \"PickSurrogateModel\", \"EngineeredFeatureExplanations\", \"EngineeredFeatureExplanations\", \"RawFeaturesExplanations\", \"RawFeaturesExplanations\", \"BestRunExplainModel\"]}]}, {\"name\": \"experiment_status_description\", \"run_id\": \"AutoML_6ba84f13-0ca5-4480-ab18-1a3e38889df2\", \"categories\": [0, 1, 2, 3, 4, 5, 6, 7, 8, 9, 10, 11, 12, 13], \"series\": [{\"data\": [\"Gathering dataset statistics.\", \"Generating features for the dataset.\", \"Beginning to fit featurizers and featurize the dataset.\", \"Completed fit featurizers and featurizing the dataset.\", \"Generating individually featurized CV splits.\", \"Beginning model selection.\", \"Best run model explanations started\", \"Model explanations data setup completed\", \"Choosing LightGBM as the surrogate model for explanations\", \"Computation of engineered features started\", \"Computation of engineered features completed\", \"Computation of raw features started\", \"Computation of raw features completed\", \"Best run model explanations completed\"]}]}, {\"name\": \"normalized_root_mean_squared_error\", \"run_id\": \"AutoML_6ba84f13-0ca5-4480-ab18-1a3e38889df2\", \"categories\": [0], \"series\": [{\"data\": [0.017438010386340595]}]}, {\"name\": \"normalized_median_absolute_error\", \"run_id\": \"AutoML_6ba84f13-0ca5-4480-ab18-1a3e38889df2\", \"categories\": [0], \"series\": [{\"data\": [0.0054654134594089845]}]}, {\"name\": \"spearman_correlation\", \"run_id\": \"AutoML_6ba84f13-0ca5-4480-ab18-1a3e38889df2\", \"categories\": [0], \"series\": [{\"data\": [0.9437223494285089]}]}, {\"name\": \"normalized_root_mean_squared_log_error\", \"run_id\": \"AutoML_6ba84f13-0ca5-4480-ab18-1a3e38889df2\", \"categories\": [0], \"series\": [{\"data\": [0.03857780286982718]}]}, {\"name\": \"r2_score\", \"run_id\": \"AutoML_6ba84f13-0ca5-4480-ab18-1a3e38889df2\", \"categories\": [0], \"series\": [{\"data\": [0.8687157036211103]}]}, {\"name\": \"normalized_mean_absolute_error\", \"run_id\": \"AutoML_6ba84f13-0ca5-4480-ab18-1a3e38889df2\", \"categories\": [0], \"series\": [{\"data\": [0.009295624022444335]}]}, {\"name\": \"mean_absolute_error\", \"run_id\": \"AutoML_6ba84f13-0ca5-4480-ab18-1a3e38889df2\", \"categories\": [0], \"series\": [{\"data\": [70879.13317113808]}]}, {\"name\": \"root_mean_squared_error\", \"run_id\": \"AutoML_6ba84f13-0ca5-4480-ab18-1a3e38889df2\", \"categories\": [0], \"series\": [{\"data\": [132964.82919584707]}]}, {\"name\": \"median_absolute_error\", \"run_id\": \"AutoML_6ba84f13-0ca5-4480-ab18-1a3e38889df2\", \"categories\": [0], \"series\": [{\"data\": [41673.7776279935]}]}, {\"name\": \"mean_absolute_percentage_error\", \"run_id\": \"AutoML_6ba84f13-0ca5-4480-ab18-1a3e38889df2\", \"categories\": [0], \"series\": [{\"data\": [13.431347018155783]}]}, {\"name\": \"root_mean_squared_log_error\", \"run_id\": \"AutoML_6ba84f13-0ca5-4480-ab18-1a3e38889df2\", \"categories\": [0], \"series\": [{\"data\": [0.1786721021922142]}]}, {\"name\": \"explained_variance\", \"run_id\": \"AutoML_6ba84f13-0ca5-4480-ab18-1a3e38889df2\", \"categories\": [0], \"series\": [{\"data\": [0.8687299150568991]}]}], \"run_logs\": \"\\nRun is completed.\", \"graph\": {}, \"widget_settings\": {\"childWidgetDisplay\": \"popup\", \"send_telemetry\": false, \"log_level\": \"INFO\", \"sdk_version\": \"1.20.0\"}, \"loading\": false}"
     },
     "metadata": {},
     "output_type": "display_data"
    },
    {
     "data": {
      "application/vnd.jupyter.widget-view+json": {
       "model_id": "",
       "version_major": 2,
       "version_minor": 0
      },
      "text/plain": [
       "_UserRunWidget(widget_settings={'childWidgetDisplay': 'popup', 'send_telemetry': False, 'log_level': 'INFO', '…"
      ]
     },
     "metadata": {},
     "output_type": "display_data"
    },
    {
     "data": {
      "application/aml.mini.widget.v1": "{\"loading\": true}"
     },
     "metadata": {},
     "output_type": "display_data"
    },
    {
     "data": {
      "application/vnd.jupyter.widget-view+json": {
       "model_id": "6cbc10329c0f47a580a639657cc122fa",
       "version_major": 2,
       "version_minor": 0
      },
      "text/plain": [
       "_UserRunWidget(widget_settings={'childWidgetDisplay': 'popup', 'send_telemetry': False, 'log_level': 'INFO', '…"
      ]
     },
     "metadata": {},
     "output_type": "display_data"
    },
    {
     "data": {
      "application/aml.mini.widget.v1": "{\"loading\": true}"
     },
     "metadata": {},
     "output_type": "display_data"
    }
   ],
   "source": [
    "RunDetails(remote_run).show()"
   ]
  },
  {
   "cell_type": "code",
   "execution_count": 11,
   "metadata": {},
   "outputs": [
    {
     "name": "stdout",
     "output_type": "stream",
     "text": [
      "\n",
      "\n",
      "****************************************************************************************************\n",
      "DATA GUARDRAILS: \n",
      "\n",
      "TYPE:         Missing feature values imputation\n",
      "STATUS:       PASSED\n",
      "DESCRIPTION:  No feature missing values were detected in the training data.\n",
      "              Learn more about missing value imputation: https://aka.ms/AutomatedMLFeaturization\n",
      "\n",
      "****************************************************************************************************\n",
      "\n",
      "TYPE:         High cardinality feature detection\n",
      "STATUS:       PASSED\n",
      "DESCRIPTION:  Your inputs were analyzed, and no high cardinality features were detected.\n",
      "              Learn more about high cardinality feature handling: https://aka.ms/AutomatedMLFeaturization\n",
      "\n",
      "****************************************************************************************************\n",
      "\n",
      "****************************************************************************************************\n",
      "ITERATION: The iteration being evaluated.\n",
      "PIPELINE: A summary description of the pipeline being evaluated.\n",
      "DURATION: Time taken for the current iteration.\n",
      "METRIC: The result of computing score on the fitted pipeline.\n",
      "BEST: The best observed score thus far.\n",
      "****************************************************************************************************\n",
      "\n",
      " ITERATION   PIPELINE                                       DURATION      METRIC      BEST\n",
      "         0   MaxAbsScaler LightGBM                          0:01:27       0.0175    0.0175\n",
      "ERROR: {\n",
      "    \"additional_properties\": {},\n",
      "    \"error\": {\n",
      "        \"additional_properties\": {\n",
      "            \"debugInfo\": null\n",
      "        },\n",
      "        \"code\": \"UserError\",\n",
      "        \"severity\": null,\n",
      "        \"message\": \"AzureMLCompute job failed.\\nJobFailed: Submitted script failed with a non-zero exit code; see the driver log file for details.\\n\\tReason: Job failed with non-zero exit Code\",\n",
      "        \"message_format\": \"{Message}\",\n",
      "        \"message_parameters\": {\n",
      "            \"Message\": \"AzureMLCompute job failed.\\nJobFailed: Submitted script failed with a non-zero exit code; see the driver log file for details.\\n\\tReason: Job failed with non-zero exit Code\"\n",
      "        },\n",
      "        \"reference_code\": null,\n",
      "        \"details_uri\": null,\n",
      "        \"target\": null,\n",
      "        \"details\": [],\n",
      "        \"inner_error\": {\n",
      "            \"additional_properties\": {},\n",
      "            \"code\": \"BadArgument\",\n",
      "            \"inner_error\": {\n",
      "                \"additional_properties\": {},\n",
      "                \"code\": \"AmlComputeBadRequest\",\n",
      "                \"inner_error\": null\n",
      "            }\n",
      "        }\n",
      "    },\n",
      "    \"correlation\": {\n",
      "        \"operation\": null,\n",
      "        \"request\": \"88d6082191fea78d\"\n",
      "    },\n",
      "    \"environment\": \"southcentralus\",\n",
      "    \"location\": \"southcentralus\",\n",
      "    \"time\": {},\n",
      "    \"component_name\": \"execution-worker\"\n",
      "}\n",
      "         1   MaxAbsScaler XGBoostRegressor                  0:00:54       0.0193    0.0175\n",
      "         2   StandardScalerWrapper ElasticNet               0:00:51       0.0258    0.0175\n",
      "         3   MaxAbsScaler DecisionTree                      0:01:00       0.0302    0.0175\n",
      "         4   MaxAbsScaler ElasticNet                        0:01:07       0.0288    0.0175\n",
      "         5   MaxAbsScaler DecisionTree                      0:01:04       0.0280    0.0175\n",
      "         6   MaxAbsScaler DecisionTree                      0:00:57       0.0265    0.0175\n",
      "         7   MaxAbsScaler DecisionTree                      0:00:58       0.0281    0.0175\n",
      "        10   MaxAbsScaler DecisionTree                      0:01:05       0.0287    0.0175\n",
      "        11   MaxAbsScaler DecisionTree                      0:01:04       0.0255    0.0175\n",
      "         8   MaxAbsScaler DecisionTree                      0:00:58       0.0305    0.0175\n",
      "         9   MaxAbsScaler DecisionTree                      0:00:50       0.0274    0.0175\n",
      "        12   MaxAbsScaler DecisionTree                      0:00:54       0.0306    0.0175\n",
      "        13   StandardScalerWrapper DecisionTree             0:00:57       0.0293    0.0175\n",
      "        14   MaxAbsScaler DecisionTree                      0:00:55       0.0319    0.0175\n",
      "        15   MaxAbsScaler DecisionTree                      0:01:04       0.0311    0.0175\n",
      "        16   MaxAbsScaler SGD                               0:00:59       0.0284    0.0175\n",
      "        17   MaxAbsScaler DecisionTree                      0:00:54       0.0255    0.0175\n",
      "        18   MaxAbsScaler DecisionTree                      0:00:53       0.0314    0.0175\n",
      "        19   MaxAbsScaler DecisionTree                      0:00:56       0.0304    0.0175\n",
      "        20   MaxAbsScaler SGD                               0:00:56       0.0293    0.0175\n",
      "        21   MaxAbsScaler DecisionTree                      0:01:05       0.0292    0.0175\n",
      "        22   MaxAbsScaler DecisionTree                      0:00:54       0.0268    0.0175\n",
      "        23   MaxAbsScaler DecisionTree                      0:00:55       0.0273    0.0175\n",
      "        24   MaxAbsScaler DecisionTree                      0:00:54       0.0295    0.0175\n",
      "        25   MaxAbsScaler LightGBM                          0:00:56       0.0294    0.0175\n",
      "        26   MaxAbsScaler RandomForest                      0:01:23       0.0256    0.0175\n",
      "        27   MaxAbsScaler DecisionTree                      0:00:55       0.0298    0.0175\n",
      "        28   MaxAbsScaler DecisionTree                      0:00:53       0.0271    0.0175\n",
      "        29   MaxAbsScaler DecisionTree                      0:00:58       0.0291    0.0175\n",
      "        30   MaxAbsScaler LightGBM                          0:00:52       0.0288    0.0175\n",
      "        31   MaxAbsScaler DecisionTree                      0:00:51       0.0258    0.0175\n",
      "        32   MaxAbsScaler DecisionTree                      0:00:52       0.0270    0.0175\n",
      "        33   MaxAbsScaler GradientBoosting                  0:01:00       0.0318    0.0175\n",
      "        34   MaxAbsScaler DecisionTree                      0:00:44       0.0288    0.0175\n",
      "        35   MaxAbsScaler LightGBM                          0:00:34          nan    0.0175\n",
      "        36    VotingEnsemble                                0:01:17       0.0174    0.0174\n",
      "        37    StackEnsemble                                 0:01:20       0.0175    0.0174\n"
     ]
    },
    {
     "data": {
      "text/plain": [
       "{'runId': 'AutoML_6ba84f13-0ca5-4480-ab18-1a3e38889df2',\n",
       " 'target': 'compute11',\n",
       " 'status': 'Completed',\n",
       " 'startTimeUtc': '2021-02-12T06:38:53.878131Z',\n",
       " 'endTimeUtc': '2021-02-12T07:07:34.75454Z',\n",
       " 'properties': {'num_iterations': '1000',\n",
       "  'training_type': 'TrainFull',\n",
       "  'acquisition_function': 'EI',\n",
       "  'primary_metric': 'normalized_root_mean_squared_error',\n",
       "  'train_split': '0',\n",
       "  'acquisition_parameter': '0',\n",
       "  'num_cross_validation': '3',\n",
       "  'target': 'compute11',\n",
       "  'AMLSettingsJsonString': '{\"path\":null,\"name\":\"exp1\",\"subscription_id\":\"9b72f9e6-56c5-4c16-991b-19c652994860\",\"resource_group\":\"aml-quickstarts-138662\",\"workspace_name\":\"quick-starts-ws-138662\",\"region\":\"southcentralus\",\"compute_target\":\"compute11\",\"spark_service\":null,\"azure_service\":\"remote\",\"many_models\":false,\"pipeline_fetch_max_batch_size\":1,\"iterations\":1000,\"primary_metric\":\"normalized_root_mean_squared_error\",\"task_type\":\"regression\",\"data_script\":null,\"validation_size\":0.0,\"n_cross_validations\":3,\"y_min\":null,\"y_max\":null,\"num_classes\":null,\"featurization\":\"auto\",\"_ignore_package_version_incompatibilities\":false,\"is_timeseries\":false,\"max_cores_per_iteration\":-1,\"max_concurrent_iterations\":4,\"iteration_timeout_minutes\":null,\"mem_in_mb\":null,\"enforce_time_on_windows\":false,\"experiment_timeout_minutes\":30,\"experiment_exit_score\":null,\"whitelist_models\":null,\"blacklist_algos\":[\"TensorFlowDNN\",\"TensorFlowLinearRegressor\"],\"supported_models\":[\"FastLinearRegressor\",\"SGD\",\"KNN\",\"ElasticNet\",\"LassoLars\",\"GradientBoosting\",\"DecisionTree\",\"LightGBM\",\"TensorFlowLinearRegressor\",\"ExtremeRandomTrees\",\"XGBoostRegressor\",\"TensorFlowDNN\",\"RandomForest\",\"OnlineGradientDescentRegressor\"],\"auto_blacklist\":true,\"blacklist_samples_reached\":false,\"exclude_nan_labels\":true,\"verbosity\":20,\"_debug_log\":\"azureml_automl.log\",\"show_warnings\":false,\"model_explainability\":true,\"service_url\":null,\"sdk_url\":null,\"sdk_packages\":null,\"enable_onnx_compatible_models\":false,\"enable_split_onnx_featurizer_estimator_models\":false,\"vm_type\":\"STANDARD_D2_V2\",\"telemetry_verbosity\":20,\"send_telemetry\":true,\"enable_dnn\":false,\"scenario\":\"SDK-1.13.0\",\"environment_label\":null,\"force_text_dnn\":false,\"enable_feature_sweeping\":true,\"enable_early_stopping\":true,\"early_stopping_n_iters\":10,\"metrics\":null,\"enable_ensembling\":true,\"enable_stack_ensembling\":true,\"ensemble_iterations\":15,\"enable_tf\":false,\"enable_subsampling\":null,\"subsample_seed\":null,\"enable_nimbusml\":false,\"enable_streaming\":false,\"force_streaming\":false,\"track_child_runs\":true,\"allowed_private_models\":[],\"label_column_name\":\"price\",\"weight_column_name\":null,\"cv_split_column_names\":null,\"enable_local_managed\":false,\"_local_managed_run_id\":null,\"cost_mode\":1,\"lag_length\":0,\"metric_operation\":\"minimize\",\"preprocess\":true}',\n",
       "  'DataPrepJsonString': '{\\\\\"training_data\\\\\": \\\\\"{\\\\\\\\\\\\\"blocks\\\\\\\\\\\\\": [{\\\\\\\\\\\\\"id\\\\\\\\\\\\\": \\\\\\\\\\\\\"5acfe7ed-c005-4a3c-bb6c-d4e1ff3cbb3e\\\\\\\\\\\\\", \\\\\\\\\\\\\"type\\\\\\\\\\\\\": \\\\\\\\\\\\\"Microsoft.DPrep.GetDatastoreFilesBlock\\\\\\\\\\\\\", \\\\\\\\\\\\\"arguments\\\\\\\\\\\\\": {\\\\\\\\\\\\\"datastores\\\\\\\\\\\\\": [{\\\\\\\\\\\\\"datastoreName\\\\\\\\\\\\\": \\\\\\\\\\\\\"workspaceblobstore\\\\\\\\\\\\\", \\\\\\\\\\\\\"path\\\\\\\\\\\\\": \\\\\\\\\\\\\"UI/02-12-2021_061643_UTC/kc_house_data.csv\\\\\\\\\\\\\", \\\\\\\\\\\\\"resourceGroup\\\\\\\\\\\\\": \\\\\\\\\\\\\"aml-quickstarts-138662\\\\\\\\\\\\\", \\\\\\\\\\\\\"subscription\\\\\\\\\\\\\": \\\\\\\\\\\\\"9b72f9e6-56c5-4c16-991b-19c652994860\\\\\\\\\\\\\", \\\\\\\\\\\\\"workspaceName\\\\\\\\\\\\\": \\\\\\\\\\\\\"quick-starts-ws-138662\\\\\\\\\\\\\"}]}, \\\\\\\\\\\\\"localData\\\\\\\\\\\\\": {}, \\\\\\\\\\\\\"isEnabled\\\\\\\\\\\\\": true, \\\\\\\\\\\\\"name\\\\\\\\\\\\\": null, \\\\\\\\\\\\\"annotation\\\\\\\\\\\\\": null}, {\\\\\\\\\\\\\"id\\\\\\\\\\\\\": \\\\\\\\\\\\\"56e9db18-59aa-44fb-a9f9-ad51757d07bd\\\\\\\\\\\\\", \\\\\\\\\\\\\"type\\\\\\\\\\\\\": \\\\\\\\\\\\\"Microsoft.DPrep.ParseDelimitedBlock\\\\\\\\\\\\\", \\\\\\\\\\\\\"arguments\\\\\\\\\\\\\": {\\\\\\\\\\\\\"columnHeadersMode\\\\\\\\\\\\\": 1, \\\\\\\\\\\\\"fileEncoding\\\\\\\\\\\\\": 0, \\\\\\\\\\\\\"handleQuotedLineBreaks\\\\\\\\\\\\\": false, \\\\\\\\\\\\\"preview\\\\\\\\\\\\\": false, \\\\\\\\\\\\\"separator\\\\\\\\\\\\\": \\\\\\\\\\\\\",\\\\\\\\\\\\\", \\\\\\\\\\\\\"skipRows\\\\\\\\\\\\\": 0, \\\\\\\\\\\\\"skipRowsMode\\\\\\\\\\\\\": 0}, \\\\\\\\\\\\\"localData\\\\\\\\\\\\\": {}, \\\\\\\\\\\\\"isEnabled\\\\\\\\\\\\\": true, \\\\\\\\\\\\\"name\\\\\\\\\\\\\": null, \\\\\\\\\\\\\"annotation\\\\\\\\\\\\\": null}, {\\\\\\\\\\\\\"id\\\\\\\\\\\\\": \\\\\\\\\\\\\"dc6024ee-1aae-4f7d-b6b1-d4f4fb963f8d\\\\\\\\\\\\\", \\\\\\\\\\\\\"type\\\\\\\\\\\\\": \\\\\\\\\\\\\"Microsoft.DPrep.DropColumnsBlock\\\\\\\\\\\\\", \\\\\\\\\\\\\"arguments\\\\\\\\\\\\\": {\\\\\\\\\\\\\"columns\\\\\\\\\\\\\": {\\\\\\\\\\\\\"type\\\\\\\\\\\\\": 0, \\\\\\\\\\\\\"details\\\\\\\\\\\\\": {\\\\\\\\\\\\\"selectedColumns\\\\\\\\\\\\\": [\\\\\\\\\\\\\"Path\\\\\\\\\\\\\", \\\\\\\\\\\\\"id\\\\\\\\\\\\\", \\\\\\\\\\\\\"date\\\\\\\\\\\\\", \\\\\\\\\\\\\"waterfront\\\\\\\\\\\\\", \\\\\\\\\\\\\"zipcode\\\\\\\\\\\\\", \\\\\\\\\\\\\"yr_renovated\\\\\\\\\\\\\"]}}}, \\\\\\\\\\\\\"localData\\\\\\\\\\\\\": {}, \\\\\\\\\\\\\"isEnabled\\\\\\\\\\\\\": true, \\\\\\\\\\\\\"name\\\\\\\\\\\\\": null, \\\\\\\\\\\\\"annotation\\\\\\\\\\\\\": null}, {\\\\\\\\\\\\\"id\\\\\\\\\\\\\": \\\\\\\\\\\\\"523f09c0-0843-4385-ad39-ddf3c2629286\\\\\\\\\\\\\", \\\\\\\\\\\\\"type\\\\\\\\\\\\\": \\\\\\\\\\\\\"Microsoft.DPrep.SetColumnTypesBlock\\\\\\\\\\\\\", \\\\\\\\\\\\\"arguments\\\\\\\\\\\\\": {\\\\\\\\\\\\\"columnConversion\\\\\\\\\\\\\": [{\\\\\\\\\\\\\"column\\\\\\\\\\\\\": {\\\\\\\\\\\\\"type\\\\\\\\\\\\\": 2, \\\\\\\\\\\\\"details\\\\\\\\\\\\\": {\\\\\\\\\\\\\"selectedColumn\\\\\\\\\\\\\": \\\\\\\\\\\\\"Path\\\\\\\\\\\\\"}}, \\\\\\\\\\\\\"typeProperty\\\\\\\\\\\\\": 0}, {\\\\\\\\\\\\\"column\\\\\\\\\\\\\": {\\\\\\\\\\\\\"type\\\\\\\\\\\\\": 2, \\\\\\\\\\\\\"details\\\\\\\\\\\\\": {\\\\\\\\\\\\\"selectedColumn\\\\\\\\\\\\\": \\\\\\\\\\\\\"id\\\\\\\\\\\\\"}}, \\\\\\\\\\\\\"typeProperty\\\\\\\\\\\\\": 2}, {\\\\\\\\\\\\\"column\\\\\\\\\\\\\": {\\\\\\\\\\\\\"type\\\\\\\\\\\\\": 2, \\\\\\\\\\\\\"details\\\\\\\\\\\\\": {\\\\\\\\\\\\\"selectedColumn\\\\\\\\\\\\\": \\\\\\\\\\\\\"date\\\\\\\\\\\\\"}}, \\\\\\\\\\\\\"typeProperty\\\\\\\\\\\\\": 0}, {\\\\\\\\\\\\\"column\\\\\\\\\\\\\": {\\\\\\\\\\\\\"type\\\\\\\\\\\\\": 2, \\\\\\\\\\\\\"details\\\\\\\\\\\\\": {\\\\\\\\\\\\\"selectedColumn\\\\\\\\\\\\\": \\\\\\\\\\\\\"price\\\\\\\\\\\\\"}}, \\\\\\\\\\\\\"typeProperty\\\\\\\\\\\\\": 3}, {\\\\\\\\\\\\\"column\\\\\\\\\\\\\": {\\\\\\\\\\\\\"type\\\\\\\\\\\\\": 2, \\\\\\\\\\\\\"details\\\\\\\\\\\\\": {\\\\\\\\\\\\\"selectedColumn\\\\\\\\\\\\\": \\\\\\\\\\\\\"bedrooms\\\\\\\\\\\\\"}}, \\\\\\\\\\\\\"typeProperty\\\\\\\\\\\\\": 2}, {\\\\\\\\\\\\\"column\\\\\\\\\\\\\": {\\\\\\\\\\\\\"type\\\\\\\\\\\\\": 2, \\\\\\\\\\\\\"details\\\\\\\\\\\\\": {\\\\\\\\\\\\\"selectedColumn\\\\\\\\\\\\\": \\\\\\\\\\\\\"bathrooms\\\\\\\\\\\\\"}}, \\\\\\\\\\\\\"typeProperty\\\\\\\\\\\\\": 3}, {\\\\\\\\\\\\\"column\\\\\\\\\\\\\": {\\\\\\\\\\\\\"type\\\\\\\\\\\\\": 2, \\\\\\\\\\\\\"details\\\\\\\\\\\\\": {\\\\\\\\\\\\\"selectedColumn\\\\\\\\\\\\\": \\\\\\\\\\\\\"sqft_living\\\\\\\\\\\\\"}}, \\\\\\\\\\\\\"typeProperty\\\\\\\\\\\\\": 2}, {\\\\\\\\\\\\\"column\\\\\\\\\\\\\": {\\\\\\\\\\\\\"type\\\\\\\\\\\\\": 2, \\\\\\\\\\\\\"details\\\\\\\\\\\\\": {\\\\\\\\\\\\\"selectedColumn\\\\\\\\\\\\\": \\\\\\\\\\\\\"sqft_lot\\\\\\\\\\\\\"}}, \\\\\\\\\\\\\"typeProperty\\\\\\\\\\\\\": 2}, {\\\\\\\\\\\\\"column\\\\\\\\\\\\\": {\\\\\\\\\\\\\"type\\\\\\\\\\\\\": 2, \\\\\\\\\\\\\"details\\\\\\\\\\\\\": {\\\\\\\\\\\\\"selectedColumn\\\\\\\\\\\\\": \\\\\\\\\\\\\"floors\\\\\\\\\\\\\"}}, \\\\\\\\\\\\\"typeProperty\\\\\\\\\\\\\": 3}, {\\\\\\\\\\\\\"column\\\\\\\\\\\\\": {\\\\\\\\\\\\\"type\\\\\\\\\\\\\": 2, \\\\\\\\\\\\\"details\\\\\\\\\\\\\": {\\\\\\\\\\\\\"selectedColumn\\\\\\\\\\\\\": \\\\\\\\\\\\\"waterfront\\\\\\\\\\\\\"}}, \\\\\\\\\\\\\"typeProperty\\\\\\\\\\\\\": 2}, {\\\\\\\\\\\\\"column\\\\\\\\\\\\\": {\\\\\\\\\\\\\"type\\\\\\\\\\\\\": 2, \\\\\\\\\\\\\"details\\\\\\\\\\\\\": {\\\\\\\\\\\\\"selectedColumn\\\\\\\\\\\\\": \\\\\\\\\\\\\"view\\\\\\\\\\\\\"}}, \\\\\\\\\\\\\"typeProperty\\\\\\\\\\\\\": 2}, {\\\\\\\\\\\\\"column\\\\\\\\\\\\\": {\\\\\\\\\\\\\"type\\\\\\\\\\\\\": 2, \\\\\\\\\\\\\"details\\\\\\\\\\\\\": {\\\\\\\\\\\\\"selectedColumn\\\\\\\\\\\\\": \\\\\\\\\\\\\"condition\\\\\\\\\\\\\"}}, \\\\\\\\\\\\\"typeProperty\\\\\\\\\\\\\": 2}, {\\\\\\\\\\\\\"column\\\\\\\\\\\\\": {\\\\\\\\\\\\\"type\\\\\\\\\\\\\": 2, \\\\\\\\\\\\\"details\\\\\\\\\\\\\": {\\\\\\\\\\\\\"selectedColumn\\\\\\\\\\\\\": \\\\\\\\\\\\\"grade\\\\\\\\\\\\\"}}, \\\\\\\\\\\\\"typeProperty\\\\\\\\\\\\\": 2}, {\\\\\\\\\\\\\"column\\\\\\\\\\\\\": {\\\\\\\\\\\\\"type\\\\\\\\\\\\\": 2, \\\\\\\\\\\\\"details\\\\\\\\\\\\\": {\\\\\\\\\\\\\"selectedColumn\\\\\\\\\\\\\": \\\\\\\\\\\\\"sqft_above\\\\\\\\\\\\\"}}, \\\\\\\\\\\\\"typeProperty\\\\\\\\\\\\\": 2}, {\\\\\\\\\\\\\"column\\\\\\\\\\\\\": {\\\\\\\\\\\\\"type\\\\\\\\\\\\\": 2, \\\\\\\\\\\\\"details\\\\\\\\\\\\\": {\\\\\\\\\\\\\"selectedColumn\\\\\\\\\\\\\": \\\\\\\\\\\\\"sqft_basement\\\\\\\\\\\\\"}}, \\\\\\\\\\\\\"typeProperty\\\\\\\\\\\\\": 2}, {\\\\\\\\\\\\\"column\\\\\\\\\\\\\": {\\\\\\\\\\\\\"type\\\\\\\\\\\\\": 2, \\\\\\\\\\\\\"details\\\\\\\\\\\\\": {\\\\\\\\\\\\\"selectedColumn\\\\\\\\\\\\\": \\\\\\\\\\\\\"yr_built\\\\\\\\\\\\\"}}, \\\\\\\\\\\\\"typeProperty\\\\\\\\\\\\\": 2}, {\\\\\\\\\\\\\"column\\\\\\\\\\\\\": {\\\\\\\\\\\\\"type\\\\\\\\\\\\\": 2, \\\\\\\\\\\\\"details\\\\\\\\\\\\\": {\\\\\\\\\\\\\"selectedColumn\\\\\\\\\\\\\": \\\\\\\\\\\\\"yr_renovated\\\\\\\\\\\\\"}}, \\\\\\\\\\\\\"typeProperty\\\\\\\\\\\\\": 2}, {\\\\\\\\\\\\\"column\\\\\\\\\\\\\": {\\\\\\\\\\\\\"type\\\\\\\\\\\\\": 2, \\\\\\\\\\\\\"details\\\\\\\\\\\\\": {\\\\\\\\\\\\\"selectedColumn\\\\\\\\\\\\\": \\\\\\\\\\\\\"zipcode\\\\\\\\\\\\\"}}, \\\\\\\\\\\\\"typeProperty\\\\\\\\\\\\\": 2}, {\\\\\\\\\\\\\"column\\\\\\\\\\\\\": {\\\\\\\\\\\\\"type\\\\\\\\\\\\\": 2, \\\\\\\\\\\\\"details\\\\\\\\\\\\\": {\\\\\\\\\\\\\"selectedColumn\\\\\\\\\\\\\": \\\\\\\\\\\\\"lat\\\\\\\\\\\\\"}}, \\\\\\\\\\\\\"typeProperty\\\\\\\\\\\\\": 3}, {\\\\\\\\\\\\\"column\\\\\\\\\\\\\": {\\\\\\\\\\\\\"type\\\\\\\\\\\\\": 2, \\\\\\\\\\\\\"details\\\\\\\\\\\\\": {\\\\\\\\\\\\\"selectedColumn\\\\\\\\\\\\\": \\\\\\\\\\\\\"long\\\\\\\\\\\\\"}}, \\\\\\\\\\\\\"typeProperty\\\\\\\\\\\\\": 3}, {\\\\\\\\\\\\\"column\\\\\\\\\\\\\": {\\\\\\\\\\\\\"type\\\\\\\\\\\\\": 2, \\\\\\\\\\\\\"details\\\\\\\\\\\\\": {\\\\\\\\\\\\\"selectedColumn\\\\\\\\\\\\\": \\\\\\\\\\\\\"sqft_living15\\\\\\\\\\\\\"}}, \\\\\\\\\\\\\"typeProperty\\\\\\\\\\\\\": 2}, {\\\\\\\\\\\\\"column\\\\\\\\\\\\\": {\\\\\\\\\\\\\"type\\\\\\\\\\\\\": 2, \\\\\\\\\\\\\"details\\\\\\\\\\\\\": {\\\\\\\\\\\\\"selectedColumn\\\\\\\\\\\\\": \\\\\\\\\\\\\"sqft_lot15\\\\\\\\\\\\\"}}, \\\\\\\\\\\\\"typeProperty\\\\\\\\\\\\\": 2}]}, \\\\\\\\\\\\\"localData\\\\\\\\\\\\\": {}, \\\\\\\\\\\\\"isEnabled\\\\\\\\\\\\\": true, \\\\\\\\\\\\\"name\\\\\\\\\\\\\": null, \\\\\\\\\\\\\"annotation\\\\\\\\\\\\\": null}], \\\\\\\\\\\\\"inspectors\\\\\\\\\\\\\": [], \\\\\\\\\\\\\"meta\\\\\\\\\\\\\": {\\\\\\\\\\\\\"savedDatasetId\\\\\\\\\\\\\": \\\\\\\\\\\\\"c5262e93-b849-4837-ad81-dcf81718e76e\\\\\\\\\\\\\", \\\\\\\\\\\\\"datasetType\\\\\\\\\\\\\": \\\\\\\\\\\\\"tabular\\\\\\\\\\\\\", \\\\\\\\\\\\\"subscriptionId\\\\\\\\\\\\\": \\\\\\\\\\\\\"9b72f9e6-56c5-4c16-991b-19c652994860\\\\\\\\\\\\\", \\\\\\\\\\\\\"workspaceId\\\\\\\\\\\\\": \\\\\\\\\\\\\"a4e39d5c-30fa-4eef-92a6-95e3bfc4d53d\\\\\\\\\\\\\", \\\\\\\\\\\\\"workspaceLocation\\\\\\\\\\\\\": \\\\\\\\\\\\\"southcentralus\\\\\\\\\\\\\"}}\\\\\", \\\\\"activities\\\\\": 0}',\n",
       "  'EnableSubsampling': None,\n",
       "  'runTemplate': 'AutoML',\n",
       "  'azureml.runsource': 'automl',\n",
       "  'display_task_type': 'regression',\n",
       "  'dependencies_versions': '{\"azureml-widgets\": \"1.20.0\", \"azureml-train\": \"1.20.0\", \"azureml-train-restclients-hyperdrive\": \"1.20.0\", \"azureml-train-core\": \"1.20.0\", \"azureml-train-automl\": \"1.20.0\", \"azureml-train-automl-runtime\": \"1.20.0\", \"azureml-train-automl-client\": \"1.20.0\", \"azureml-tensorboard\": \"1.20.0\", \"azureml-telemetry\": \"1.20.0\", \"azureml-sdk\": \"1.20.0\", \"azureml-samples\": \"0+unknown\", \"azureml-pipeline\": \"1.20.0\", \"azureml-pipeline-steps\": \"1.20.0\", \"azureml-pipeline-core\": \"1.20.0\", \"azureml-opendatasets\": \"1.20.0\", \"azureml-model-management-sdk\": \"1.0.1b6.post1\", \"azureml-mlflow\": \"1.20.0.post1\", \"azureml-interpret\": \"1.20.0\", \"azureml-explain-model\": \"1.20.0\", \"azureml-defaults\": \"1.20.0\", \"azureml-dataset-runtime\": \"1.20.0\", \"azureml-dataprep\": \"2.7.3\", \"azureml-dataprep-rslex\": \"1.5.0\", \"azureml-dataprep-native\": \"27.0.0\", \"azureml-datadrift\": \"1.20.0\", \"azureml-core\": \"1.20.0\", \"azureml-contrib-services\": \"1.20.0\", \"azureml-contrib-server\": \"1.20.0\", \"azureml-contrib-reinforcementlearning\": \"1.20.0\", \"azureml-contrib-pipeline-steps\": \"1.20.0\", \"azureml-contrib-notebook\": \"1.20.0\", \"azureml-contrib-interpret\": \"1.20.0\", \"azureml-contrib-gbdt\": \"1.20.0\", \"azureml-contrib-fairness\": \"1.20.0\", \"azureml-contrib-dataset\": \"1.20.0\", \"azureml-cli-common\": \"1.20.0\", \"azureml-automl-runtime\": \"1.20.0\", \"azureml-automl-core\": \"1.20.0\", \"azureml-accel-models\": \"1.20.0\"}',\n",
       "  '_aml_system_scenario_identification': 'Remote.Parent',\n",
       "  'ClientType': 'SDK',\n",
       "  'environment_cpu_name': 'AzureML-AutoML',\n",
       "  'environment_cpu_label': 'prod',\n",
       "  'environment_gpu_name': 'AzureML-AutoML-GPU',\n",
       "  'environment_gpu_label': 'prod',\n",
       "  'root_attribution': 'automl',\n",
       "  'attribution': 'AutoML',\n",
       "  'Orchestrator': 'AutoML',\n",
       "  'CancelUri': 'https://southcentralus.experiments.azureml.net/jasmine/v1.0/subscriptions/9b72f9e6-56c5-4c16-991b-19c652994860/resourceGroups/aml-quickstarts-138662/providers/Microsoft.MachineLearningServices/workspaces/quick-starts-ws-138662/experimentids/cb92beca-eb1b-4ab2-b2c2-6bf4243224cf/cancel/AutoML_6ba84f13-0ca5-4480-ab18-1a3e38889df2',\n",
       "  'ClientSdkVersion': '1.21.0',\n",
       "  'snapshotId': '00000000-0000-0000-0000-000000000000',\n",
       "  'SetupRunId': 'AutoML_6ba84f13-0ca5-4480-ab18-1a3e38889df2_setup',\n",
       "  'SetupRunContainerId': 'dcid.AutoML_6ba84f13-0ca5-4480-ab18-1a3e38889df2_setup',\n",
       "  'FeaturizationRunJsonPath': 'featurizer_container.json',\n",
       "  'FeaturizationRunId': 'AutoML_6ba84f13-0ca5-4480-ab18-1a3e38889df2_featurize',\n",
       "  'ProblemInfoJsonString': '{\"dataset_num_categorical\": 0, \"is_sparse\": true, \"subsampling\": false, \"dataset_classes\": 4028, \"dataset_features\": 46, \"dataset_samples\": 21613, \"single_frequency_class_detected\": false}',\n",
       "  'ModelExplainRunId': 'AutoML_6ba84f13-0ca5-4480-ab18-1a3e38889df2_ModelExplain'},\n",
       " 'inputDatasets': [{'dataset': {'id': 'c5262e93-b849-4837-ad81-dcf81718e76e'}, 'consumptionDetails': {'type': 'RunInput', 'inputName': 'training_data', 'mechanism': 'Direct'}}],\n",
       " 'outputDatasets': [],\n",
       " 'logFiles': {},\n",
       " 'submittedBy': 'ODL_User 138662'}"
      ]
     },
     "execution_count": 11,
     "metadata": {},
     "output_type": "execute_result"
    }
   ],
   "source": [
    "remote_run.wait_for_completion(show_output=True)"
   ]
  },
  {
   "cell_type": "markdown",
   "metadata": {},
   "source": [
    "## Best Model\n",
    "\n",
    "TODO: In the cell below, get the best model from the automl experiments and display all the properties of the model.\n",
    "\n"
   ]
  },
  {
   "cell_type": "code",
   "execution_count": 12,
   "metadata": {
    "gather": {
     "logged": 1598431425670
    },
    "jupyter": {
     "outputs_hidden": false,
     "source_hidden": false
    },
    "nteract": {
     "transient": {
      "deleting": false
     }
    }
   },
   "outputs": [
    {
     "name": "stderr",
     "output_type": "stream",
     "text": [
      "WARNING:root:The version of the SDK does not match the version the model was trained on.\n",
      "WARNING:root:The consistency in the result may not be guaranteed.\n",
      "WARNING:root:Package:azureml-automl-core, training version:1.21.0, current version:1.20.0\n",
      "Package:azureml-automl-runtime, training version:1.21.0, current version:1.20.0\n",
      "Package:azureml-core, training version:1.21.0.post1, current version:1.20.0\n",
      "Package:azureml-dataprep, training version:2.8.2, current version:2.7.3\n",
      "Package:azureml-dataprep-native, training version:28.0.0, current version:27.0.0\n",
      "Package:azureml-dataprep-rslex, training version:1.6.0, current version:1.5.0\n",
      "Package:azureml-dataset-runtime, training version:1.21.0, current version:1.20.0\n",
      "Package:azureml-defaults, training version:1.21.0, current version:1.20.0\n",
      "Package:azureml-interpret, training version:1.21.0, current version:1.20.0\n",
      "Package:azureml-pipeline-core, training version:1.21.0, current version:1.20.0\n",
      "Package:azureml-telemetry, training version:1.21.0, current version:1.20.0\n",
      "Package:azureml-train-automl-client, training version:1.21.0, current version:1.20.0\n",
      "Package:azureml-train-automl-runtime, training version:1.21.0, current version:1.20.0\n",
      "WARNING:root:Please ensure the version of your local conda dependencies match the version on which your model was trained in order to properly retrieve your model.\n"
     ]
    },
    {
     "data": {
      "text/plain": [
       "PreFittedSoftVotingRegressor(estimators=[('0',\n",
       "                                          Pipeline(memory=None,\n",
       "                                                   steps=[('maxabsscaler',\n",
       "                                                           MaxAbsScaler(copy=True)),\n",
       "                                                          ('lightgbmregressor',\n",
       "                                                           LightGBMRegressor(boosting_type='gbdt',\n",
       "                                                                             class_weight=None,\n",
       "                                                                             colsample_bytree=1.0,\n",
       "                                                                             importance_type='split',\n",
       "                                                                             learning_rate=0.1,\n",
       "                                                                             max_depth=-1,\n",
       "                                                                             min_child_samples=20,\n",
       "                                                                             min_child_weight=0.001,\n",
       "                                                                             min_split_gain=0.0,\n",
       "                                                                             n_estimators=100,\n",
       "                                                                             n...\n",
       "                                                                            learning_rate=0.1,\n",
       "                                                                            max_delta_step=0,\n",
       "                                                                            max_depth=3,\n",
       "                                                                            min_child_weight=1,\n",
       "                                                                            missing=nan,\n",
       "                                                                            n_estimators=100,\n",
       "                                                                            n_jobs=-1,\n",
       "                                                                            nthread=None,\n",
       "                                                                            objective='reg:squarederror',\n",
       "                                                                            random_state=0,\n",
       "                                                                            reg_alpha=0,\n",
       "                                                                            reg_lambda=1,\n",
       "                                                                            scale_pos_weight=1,\n",
       "                                                                            seed=None,\n",
       "                                                                            silent=None,\n",
       "                                                                            subsample=1,\n",
       "                                                                            tree_method='auto',\n",
       "                                                                            verbose=-10,\n",
       "                                                                            verbosity=0))],\n",
       "                                                   verbose=False))],\n",
       "                             weights=[0.8571428571428571, 0.14285714285714285])"
      ]
     },
     "execution_count": 12,
     "metadata": {},
     "output_type": "execute_result"
    }
   ],
   "source": [
    "best_auto_run, best_auto_model = remote_run.get_output()\n",
    "best_auto_model._final_estimator"
   ]
  },
  {
   "cell_type": "code",
   "execution_count": 13,
   "metadata": {},
   "outputs": [],
   "source": [
    "os.makedirs('result')"
   ]
  },
  {
   "cell_type": "code",
   "execution_count": 14,
   "metadata": {
    "gather": {
     "logged": 1598431426111
    },
    "jupyter": {
     "outputs_hidden": false,
     "source_hidden": false
    },
    "nteract": {
     "transient": {
      "deleting": false
     }
    }
   },
   "outputs": [
    {
     "data": {
      "text/plain": [
       "['result/automl_best_model.joblib']"
      ]
     },
     "execution_count": 14,
     "metadata": {},
     "output_type": "execute_result"
    }
   ],
   "source": [
    "#TODO: Save the best model\n",
    "joblib.dump(best_auto_model, filename=\"result/automl_best_model.joblib\")"
   ]
  },
  {
   "cell_type": "markdown",
   "metadata": {},
   "source": [
    "## Model Deployment\n",
    "\n",
    "\n"
   ]
  },
  {
   "cell_type": "code",
   "execution_count": null,
   "metadata": {
    "gather": {
     "logged": 1598431435189
    },
    "jupyter": {
     "outputs_hidden": false,
     "source_hidden": false
    },
    "nteract": {
     "transient": {
      "deleting": false
     }
    }
   },
   "outputs": [],
   "source": [
    "env = best_auto_run.get_environment()\n",
    "entry_script='score.py'\n",
    "best_auto_run.download_file('outputs/scoring_file_v_1_0_0.py', entry_script)"
   ]
  },
  {
   "cell_type": "code",
   "execution_count": null,
   "metadata": {
    "gather": {
     "logged": 1598432707604
    },
    "jupyter": {
     "outputs_hidden": false,
     "source_hidden": false
    },
    "nteract": {
     "transient": {
      "deleting": false
     }
    }
   },
   "outputs": [],
   "source": [
    "model = remote_run.register_model(model_name=best_auto_run.properties['model_name'], \n",
    "                                           description='AutoML model')\n",
    "inference_config = InferenceConfig(entry_script = entry_script, environment = env)\n",
    "deployment_config = AciWebservice.deploy_configuration(cpu_cores = 1, memory_gb = 1)"
   ]
  },
  {
   "cell_type": "code",
   "execution_count": null,
   "metadata": {},
   "outputs": [],
   "source": [
    "service = Model.deploy(ws, 'service', [model], inference_config, deployment_config)\n",
    "service.wait_for_deployment(True)\n",
    "print(\"State: \" + service.state)\n",
    "print(\"Scoring URI: \" + service.scoring_uri)"
   ]
  },
  {
   "cell_type": "code",
   "execution_count": null,
   "metadata": {
    "jupyter": {
     "outputs_hidden": false,
     "source_hidden": false
    },
    "nteract": {
     "transient": {
      "deleting": false
     }
    }
   },
   "outputs": [],
   "source": [
    "%run endpoint.py"
   ]
  },
  {
   "cell_type": "code",
   "execution_count": null,
   "metadata": {},
   "outputs": [],
   "source": [
    "service.get_logs()"
   ]
  },
  {
   "cell_type": "code",
   "execution_count": null,
   "metadata": {},
   "outputs": [],
   "source": [
    "service.update(enable_app_insights=True)"
   ]
  },
  {
   "cell_type": "code",
   "execution_count": null,
   "metadata": {},
   "outputs": [],
   "source": [
    "service.delete()"
   ]
  }
 ],
 "metadata": {
  "kernel_info": {
   "name": "python3"
  },
  "kernelspec": {
   "display_name": "Python 3",
   "language": "python",
   "name": "python3"
  },
  "language_info": {
   "codemirror_mode": {
    "name": "ipython",
    "version": 3
   },
   "file_extension": ".py",
   "mimetype": "text/x-python",
   "name": "python",
   "nbconvert_exporter": "python",
   "pygments_lexer": "ipython3",
   "version": "3.6.9"
  },
  "nteract": {
   "version": "nteract-front-end@1.0.0"
  }
 },
 "nbformat": 4,
 "nbformat_minor": 2
}
