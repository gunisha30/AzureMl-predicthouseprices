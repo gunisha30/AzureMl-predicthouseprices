{
 "cells": [
  {
   "cell_type": "code",
   "execution_count": null,
   "id": "0aa60364",
   "metadata": {},
   "outputs": [],
   "source": [
    "from sklearn.linear_model import LinearRegression\n",
    "import argparse\n",
    "import os\n",
    "import numpy as np\n",
    "from sklearn.metrics import mean_squared_error\n",
    "import joblib\n",
    "from sklearn.model_selection import train_test_split\n",
    "import pandas as pd\n",
    "from azureml.core.run import Run\n",
    "from azureml.core import Dataset\n",
    "from sklearn.preprocessing import StandardScaler"
   ]
  },
  {
   "cell_type": "code",
   "execution_count": null,
   "id": "c6032fde",
   "metadata": {
    "lines_to_next_cell": 1
   },
   "outputs": [],
   "source": [
    "run = Run.get_context()\n",
    "ws = run.experiment.workspace\n",
    "ds = ws.datasets['housedata']"
   ]
  },
  {
   "cell_type": "code",
   "execution_count": null,
   "id": "46743f5a",
   "metadata": {
    "lines_to_next_cell": 1
   },
   "outputs": [],
   "source": [
    "def clean_data(data):\n",
    "    data=data.to_pandas_dataframe()\n",
    "    dCol = ['id', 'date', 'zipcode', 'waterfront', 'yr_renovated']\n",
    "    data.drop(dCol, axis=1, inplace=True)\n",
    "    x, y = data.drop('price', axis=1), data['price']\n",
    "    return x,y"
   ]
  },
  {
   "cell_type": "code",
   "execution_count": null,
   "id": "797707f2",
   "metadata": {
    "lines_to_next_cell": 1
   },
   "outputs": [],
   "source": [
    "def main():\n",
    "    # Add arguments to script\n",
    "    parser = argparse.ArgumentParser()\n",
    "\n",
    "    parser.add_argument('--n_jobs', type=int, default=1, help=\"no of jobs\")\n",
    "    #parser.add_argument('--niter', type=int, default=100, help=\"Number of iterations\")\n",
    "\n",
    "    args = parser.parse_args()\n",
    "\n",
    "    #run.log(\"Learning rate:\", np.float(args.lrate))\n",
    "    run.log(\"Number of jobs:\", np.int(args.n_jobs))\n",
    "    x, y = clean_data(ds)\n",
    "    x_train, x_test, y_train, y_test = train_test_split(x, y)\n",
    "    st = StandardScaler()\n",
    "    x_train = st.fit_transform(x_train)\n",
    "    x_test = st.transform(x_test)\n",
    "    model = LinearRegression(n_jobs=args.n_jobs).fit(x_train, y_train)\n",
    "    y_pred = model.predict(x_test)\n",
    "    mse= mean_squared_error (y_test, y_pred)\n",
    "    run.log(\"MSE\", np.float(mse))\n",
    "\n",
    "    os.makedirs('outputs', exist_ok=True)\n",
    "    joblib.dump(model, 'outputs/project_model.joblib')"
   ]
  },
  {
   "cell_type": "code",
   "execution_count": null,
   "id": "b9462c83",
   "metadata": {},
   "outputs": [],
   "source": [
    "if __name__ == '__main__':\n",
    "    main()"
   ]
  }
 ],
 "metadata": {
  "jupytext": {
   "cell_metadata_filter": "-all",
   "notebook_metadata_filter": "-all",
   "text_representation": {
    "extension": ".py",
    "format_name": "light"
   }
  },
  "kernelspec": {
   "display_name": "Python 3.6 - AzureML",
   "language": "python",
   "name": "python3-azureml"
  }
 },
 "nbformat": 4,
 "nbformat_minor": 5
}
